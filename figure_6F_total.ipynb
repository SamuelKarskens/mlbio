{
 "cells": [
  {
   "cell_type": "code",
   "id": "c684c04b",
   "metadata": {
    "ExecuteTime": {
     "end_time": "2025-06-16T09:22:20.620458Z",
     "start_time": "2025-06-16T09:22:18.690087Z"
    }
   },
   "source": [
    "import scanpy as sc\n",
    "import pandas as pd\n",
    "import matplotlib.pyplot as plt\n",
    "import seaborn as sns\n",
    "from anndata import AnnData\n",
    "import MENDER\n",
    "from sklearn.neighbors import KNeighborsClassifier\n",
    "from sklearn.model_selection import cross_val_score, RepeatedStratifiedKFold\n",
    "from sklearn.metrics import accuracy_score\n",
    "from sklearn import svm\n",
    "from scipy import stats\n",
    "import re\n",
    "import os\n",
    "import glob\n",
    "import tifffile\n",
    "import pandas as pd\n",
    "from skimage.measure import regionprops_table\n",
    "import numpy as np\n",
    "import plotly.graph_objects as go\n",
    "import scipy.stats as st\n",
    "from scipy import stats"
   ],
   "outputs": [],
   "execution_count": 1
  },
  {
   "cell_type": "markdown",
   "id": "fbb45db1",
   "metadata": {},
   "source": [
    "# Load data"
   ]
  },
  {
   "cell_type": "code",
   "id": "f9f92216",
   "metadata": {
    "ExecuteTime": {
     "end_time": "2025-06-16T09:22:41.592453Z",
     "start_time": "2025-06-16T09:22:23.365925Z"
    }
   },
   "source": [
    "# Directory containing your segmented mask TIFF files\n",
    "mask_dir = r'TNBC_shareCellData'\n",
    "# Output CSV file path\n",
    "output_csv = \"cell_centroids.csv\"\n",
    "\n",
    "records = []\n",
    "\n",
    "# Loop through each TIFF mask\n",
    "for mask_path in glob.glob(os.path.join(mask_dir, \"*.tiff\")):\n",
    "    # Load the mask (each cell labeled by a unique integer)\n",
    "    mask = tifffile.imread(mask_path)\n",
    "\n",
    "    if ('p30_labeledcellData' in mask_path):\n",
    "        print('bruh')\n",
    "    print(\"Shape:\", mask.shape)          # e.g. (1024, 1024)\n",
    "    print(\"Data type:\", mask.dtype)      # e.g. uint16\n",
    "    labels = np.unique(mask)\n",
    "    print(f\"Found {len(labels)-1} objects (ignoring background=0)\")\n",
    "    print(\"Some label values:\", labels[:10], \"…\", labels[-10:])\n",
    "    # Extract properties: label ID and centroids\n",
    "    props = regionprops_table(\n",
    "        mask,\n",
    "        properties=('label', 'centroid')\n",
    "    )\n",
    "    \n",
    "    # Convert to DataFrame\n",
    "    df = pd.DataFrame(props)\n",
    "    # Keep track of source image\n",
    "    \n",
    "    \n",
    "    nums = re.search(r\"\\d+\", os.path.basename(mask_path))\n",
    "    df['image'] = int(nums.group()) if nums else None\n",
    "    records.append(df)\n",
    "\n",
    "# Concatenate all image DataFrames\n",
    "all_cells = pd.concat(records, ignore_index=True)\n",
    "\n",
    "# Rename columns for clarity\n",
    "all_cells = all_cells.rename(\n",
    "    columns={\n",
    "        'label': 'CellID',\n",
    "        'centroid-0': 'CentroidY',\n",
    "        'centroid-1': 'CentroidX'\n",
    "    }\n",
    ")\n",
    "\n",
    "# Save to CSV\n",
    "all_cells.to_csv(output_csv, index=False)\n",
    "print(f\"Saved {len(all_cells)} cell centroids to {output_csv}\")\n"
   ],
   "outputs": [
    {
     "name": "stdout",
     "output_type": "stream",
     "text": [
      "Shape: (2048, 2048)\n",
      "Data type: uint16\n",
      "Found 3343 objects (ignoring background=0)\n",
      "Some label values: [0 1 2 3 4 5 6 7 8 9] … [3334 3335 3336 3337 3338 3339 3340 3341 3342 3343]\n",
      "Shape: (2048, 2048)\n",
      "Data type: uint16\n",
      "Found 9623 objects (ignoring background=0)\n",
      "Some label values: [0 1 2 3 4 5 6 7 8 9] … [9614 9615 9616 9617 9618 9619 9620 9621 9622 9623]\n",
      "Shape: (2048, 2048)\n",
      "Data type: uint16\n",
      "Found 3755 objects (ignoring background=0)\n",
      "Some label values: [0 1 2 3 4 5 6 7 8 9] … [3746 3747 3748 3749 3750 3751 3752 3753 3754 3755]\n",
      "Shape: (2048, 2048)\n",
      "Data type: uint16\n",
      "Found 7836 objects (ignoring background=0)\n",
      "Some label values: [0 1 2 3 4 5 6 7 8 9] … [7827 7828 7829 7830 7831 7832 7833 7834 7835 7836]\n",
      "Shape: (2048, 2048)\n",
      "Data type: uint16\n",
      "Found 7751 objects (ignoring background=0)\n",
      "Some label values: [0 1 2 3 4 5 6 7 8 9] … [7742 7743 7744 7745 7746 7747 7748 7749 7750 7751]\n",
      "Shape: (2048, 2048)\n",
      "Data type: uint16\n",
      "Found 2866 objects (ignoring background=0)\n",
      "Some label values: [0 1 2 3 4 5 6 7 8 9] … [2857 2858 2859 2860 2861 2862 2863 2864 2865 2866]\n",
      "Shape: (2048, 2048)\n",
      "Data type: uint16\n",
      "Found 5895 objects (ignoring background=0)\n",
      "Some label values: [0 1 2 3 4 5 6 7 8 9] … [5886 5887 5888 5889 5890 5891 5892 5893 5894 5895]\n",
      "Shape: (2048, 2048)\n",
      "Data type: uint16\n",
      "Found 7722 objects (ignoring background=0)\n",
      "Some label values: [0 1 2 3 4 5 6 7 8 9] … [7713 7714 7715 7716 7717 7718 7719 7720 7721 7722]\n",
      "Shape: (2048, 2048)\n",
      "Data type: uint16\n",
      "Found 7518 objects (ignoring background=0)\n",
      "Some label values: [0 1 2 3 4 5 6 7 8 9] … [7509 7510 7511 7512 7513 7514 7515 7516 7517 7518]\n",
      "Shape: (2048, 2048)\n",
      "Data type: uint16\n",
      "Found 6132 objects (ignoring background=0)\n",
      "Some label values: [0 1 2 3 4 5 6 7 8 9] … [6123 6124 6125 6126 6127 6128 6129 6130 6131 6132]\n",
      "Shape: (2048, 2048)\n",
      "Data type: uint16\n",
      "Found 5104 objects (ignoring background=0)\n",
      "Some label values: [0 1 2 3 4 5 6 7 8 9] … [5095 5096 5097 5098 5099 5100 5101 5102 5103 5104]\n",
      "Shape: (2048, 2048)\n",
      "Data type: uint16\n",
      "Found 8493 objects (ignoring background=0)\n",
      "Some label values: [0 1 2 3 4 5 6 7 8 9] … [8484 8485 8486 8487 8488 8489 8490 8491 8492 8493]\n",
      "Shape: (2048, 2048)\n",
      "Data type: uint16\n",
      "Found 7277 objects (ignoring background=0)\n",
      "Some label values: [0 1 2 3 4 5 6 7 8 9] … [7268 7269 7270 7271 7272 7273 7274 7275 7276 7277]\n",
      "Shape: (2048, 2048)\n",
      "Data type: uint16\n",
      "Found 8786 objects (ignoring background=0)\n",
      "Some label values: [0 1 2 3 4 5 6 7 8 9] … [8777 8778 8779 8780 8781 8782 8783 8784 8785 8786]\n",
      "Shape: (2048, 2048)\n",
      "Data type: uint16\n",
      "Found 3289 objects (ignoring background=0)\n",
      "Some label values: [0 1 2 3 4 5 6 7 8 9] … [3280 3281 3282 3283 3284 3285 3286 3287 3288 3289]\n",
      "Shape: (2048, 2048)\n",
      "Data type: uint16\n",
      "Found 3560 objects (ignoring background=0)\n",
      "Some label values: [0 1 2 3 4 5 6 7 8 9] … [3551 3552 3553 3554 3555 3556 3557 3558 3559 3560]\n",
      "Shape: (2048, 2048)\n",
      "Data type: uint16\n",
      "Found 3255 objects (ignoring background=0)\n",
      "Some label values: [0 1 2 3 4 5 6 7 8 9] … [3246 3247 3248 3249 3250 3251 3252 3253 3254 3255]\n",
      "Shape: (2048, 2048)\n",
      "Data type: uint16\n",
      "Found 5308 objects (ignoring background=0)\n",
      "Some label values: [0 1 2 3 4 5 6 7 8 9] … [5299 5300 5301 5302 5303 5304 5305 5306 5307 5308]\n",
      "Shape: (2048, 2048)\n",
      "Data type: uint16\n",
      "Found 5936 objects (ignoring background=0)\n",
      "Some label values: [0 1 2 3 4 5 6 7 8 9] … [5927 5928 5929 5930 5931 5932 5933 5934 5935 5936]\n",
      "Shape: (2048, 2048)\n",
      "Data type: uint16\n",
      "Found 4905 objects (ignoring background=0)\n",
      "Some label values: [0 1 2 3 4 5 6 7 8 9] … [4896 4897 4898 4899 4900 4901 4902 4903 4904 4905]\n",
      "Shape: (2048, 2048)\n",
      "Data type: uint16\n",
      "Found 4858 objects (ignoring background=0)\n",
      "Some label values: [0 1 2 3 4 5 6 7 8 9] … [4849 4850 4851 4852 4853 4854 4855 4856 4857 4858]\n",
      "Shape: (2048, 2048)\n",
      "Data type: uint16\n",
      "Found 4775 objects (ignoring background=0)\n",
      "Some label values: [0 1 2 3 4 5 6 7 8 9] … [4766 4767 4768 4769 4770 4771 4772 4773 4774 4775]\n",
      "Shape: (2048, 2048)\n",
      "Data type: uint16\n",
      "Found 5213 objects (ignoring background=0)\n",
      "Some label values: [0 1 2 3 4 5 6 7 8 9] … [5204 5205 5206 5207 5208 5209 5210 5211 5212 5213]\n",
      "Shape: (2048, 2048)\n",
      "Data type: uint16\n",
      "Found 7434 objects (ignoring background=0)\n",
      "Some label values: [0 1 2 3 4 5 6 7 8 9] … [7425 7426 7427 7428 7429 7430 7431 7432 7433 7434]\n",
      "Shape: (2048, 2048)\n",
      "Data type: uint16\n",
      "Found 8772 objects (ignoring background=0)\n",
      "Some label values: [0 1 2 3 4 5 6 7 8 9] … [8763 8764 8765 8766 8767 8768 8769 8770 8771 8772]\n",
      "Shape: (2048, 2048)\n",
      "Data type: uint16\n",
      "Found 4004 objects (ignoring background=0)\n",
      "Some label values: [0 1 2 3 4 5 6 7 8 9] … [3995 3996 3997 3998 3999 4000 4001 4002 4003 4004]\n",
      "Shape: (2048, 2048)\n",
      "Data type: uint16\n",
      "Found 6641 objects (ignoring background=0)\n",
      "Some label values: [0 1 2 3 4 5 6 7 8 9] … [6632 6633 6634 6635 6636 6637 6638 6639 6640 6641]\n",
      "Shape: (2048, 2048)\n",
      "Data type: uint16\n",
      "Found 5429 objects (ignoring background=0)\n",
      "Some label values: [0 1 2 3 4 5 6 7 8 9] … [5420 5421 5422 5423 5424 5425 5426 5427 5428 5429]\n",
      "Shape: (2048, 2048)\n",
      "Data type: uint16\n",
      "Found 3172 objects (ignoring background=0)\n",
      "Some label values: [0 1 2 3 4 5 6 7 8 9] … [3163 3164 3165 3166 3167 3168 3169 3170 3171 3172]\n",
      "Shape: (2048, 2048)\n",
      "Data type: uint16\n",
      "Found 5018 objects (ignoring background=0)\n",
      "Some label values: [0 1 2 3 4 5 6 7 8 9] … [5009 5010 5011 5012 5013 5014 5015 5016 5017 5018]\n",
      "Shape: (2048, 2048)\n",
      "Data type: uint16\n",
      "Found 6737 objects (ignoring background=0)\n",
      "Some label values: [0 1 2 3 4 5 6 7 8 9] … [6728 6729 6730 6731 6732 6733 6734 6735 6736 6737]\n",
      "Shape: (2048, 2048)\n",
      "Data type: uint16\n",
      "Found 5097 objects (ignoring background=0)\n",
      "Some label values: [0 1 2 3 4 5 6 7 8 9] … [5088 5089 5090 5091 5092 5093 5094 5095 5096 5097]\n",
      "Shape: (2048, 2048)\n",
      "Data type: uint16\n",
      "Found 4660 objects (ignoring background=0)\n",
      "Some label values: [0 1 2 3 4 5 6 7 8 9] … [4651 4652 4653 4654 4655 4656 4657 4658 4659 4660]\n",
      "Shape: (2048, 2048)\n",
      "Data type: uint16\n",
      "Found 9738 objects (ignoring background=0)\n",
      "Some label values: [0 1 2 3 4 5 6 7 8 9] … [9729 9730 9731 9732 9733 9734 9735 9736 9737 9738]\n",
      "Shape: (2048, 2048)\n",
      "Data type: uint16\n",
      "Found 2217 objects (ignoring background=0)\n",
      "Some label values: [0 1 2 3 4 5 6 7 8 9] … [2208 2209 2210 2211 2212 2213 2214 2215 2216 2217]\n",
      "Shape: (2048, 2048)\n",
      "Data type: uint16\n",
      "Found 7585 objects (ignoring background=0)\n",
      "Some label values: [0 1 2 3 4 5 6 7 8 9] … [7576 7577 7578 7579 7580 7581 7582 7583 7584 7585]\n",
      "Shape: (2048, 2048)\n",
      "Data type: uint16\n",
      "Found 6140 objects (ignoring background=0)\n",
      "Some label values: [0 1 2 3 4 5 6 7 8 9] … [6131 6132 6133 6134 6135 6136 6137 6138 6139 6140]\n",
      "Shape: (2048, 2048)\n",
      "Data type: uint16\n",
      "Found 8861 objects (ignoring background=0)\n",
      "Some label values: [0 1 2 3 4 5 6 7 8 9] … [8852 8853 8854 8855 8856 8857 8858 8859 8860 8861]\n",
      "bruh\n",
      "Shape: (2048, 2048)\n",
      "Data type: uint16\n",
      "Found 12128 objects (ignoring background=0)\n",
      "Some label values: [0 1 2 3 4 5 6 7 8 9] … [12119 12120 12121 12122 12123 12124 12125 12126 12127 12128]\n",
      "Shape: (2048, 2048)\n",
      "Data type: uint16\n",
      "Found 7450 objects (ignoring background=0)\n",
      "Some label values: [0 1 2 3 4 5 6 7 8 9] … [7441 7442 7443 7444 7445 7446 7447 7448 7449 7450]\n",
      "Shape: (2048, 2048)\n",
      "Data type: uint16\n",
      "Found 4790 objects (ignoring background=0)\n",
      "Some label values: [0 1 2 3 4 5 6 7 8 9] … [4781 4782 4783 4784 4785 4786 4787 4788 4789 4790]\n",
      "Saved 249073 cell centroids to cell_centroids.csv\n"
     ]
    }
   ],
   "execution_count": 2
  },
  {
   "cell_type": "code",
   "metadata": {
    "ExecuteTime": {
     "end_time": "2025-06-12T21:14:52.330283Z",
     "start_time": "2025-06-12T21:14:52.328081Z"
    }
   },
   "source": [
    "print(all_cells.columns)"
   ],
   "id": "5fc91dcb83f8a75e",
   "outputs": [
    {
     "name": "stdout",
     "output_type": "stream",
     "text": [
      "Index(['CellID', 'CentroidY', 'CentroidX', 'image'], dtype='object')\n"
     ]
    }
   ],
   "execution_count": 3
  },
  {
   "cell_type": "markdown",
   "id": "bfcc6fb1",
   "metadata": {},
   "source": [
    "Perform Random subsampling to decreace dataset size"
   ]
  },
  {
   "cell_type": "code",
   "id": "48802f0e",
   "metadata": {
    "ExecuteTime": {
     "end_time": "2025-06-16T09:22:46.781366Z",
     "start_time": "2025-06-16T09:22:44.766381Z"
    }
   },
   "source": [
    "# Read in the full cell‐level table\n",
    "df = pd.read_csv(\"TNBC_shareCellData/cellData.csv\", sep=\",\")\n",
    "print(f\"Number of unique SampleIDs: {df['SampleID'].nunique()}\")\n",
    "print(\"\\nUnique SampleIDs:\")\n",
    "print(df['SampleID'].unique())\n",
    "print(f\"Count for SampleID 33: {len(df[df['SampleID'] == 33])}\")\n",
    "\n",
    "\n",
    "# Choose how many cells to keep per patient:\n",
    "# The patient with the fewest cells in the original dataset had 2217\n",
    "# The mean is 5923.55\n",
    "# The most cells is 9738\n",
    "# n = 2217\n",
    "n = 2020\n",
    "\n",
    "# 3. Option A: if you only want patients who have ≥ n cells, and you want exactly n per patient:\n",
    "#    (patients with fewer than n cells are dropped entirely)\n",
    "df_filtered = df.groupby(\"SampleID\").filter(lambda sub: len(sub) >= n)\n",
    "print(df['SampleID'].value_counts())\n",
    "df_subsample = (\n",
    "    df_filtered\n",
    "    .groupby(\"SampleID\", group_keys=False)\n",
    "    .sample(n=n, random_state=42)\n",
    ")\n",
    "\n",
    "\n",
    "# Write out a new CSV (e.g. “cellData_100.csv”)\n",
    "out_name = f\"TNBC_shareCellData/cellData_{n}.csv\"\n",
    "df_subsample.to_csv(out_name, sep=\",\", index=False)\n",
    "print(f\"Wrote subsampled table with {n} cells per patient to:\\n  {out_name}\")\n",
    "print(df_subsample['SampleID'].unique())\n",
    "print(f\"Count for SampleID 33: {len(df_subsample[df_subsample['SampleID'] == 33])}\")"
   ],
   "outputs": [
    {
     "name": "stdout",
     "output_type": "stream",
     "text": [
      "Number of unique SampleIDs: 43\n",
      "\n",
      "Unique SampleIDs:\n",
      "[ 1  2  3  4  5  6  7  8  9 10 11 12 13 14 15 16 17 18 19 20 21 22 23 24\n",
      " 25 26 27 28 29 31 32 33 34 35 36 37 38 39 40 41 42 43 44]\n",
      "Count for SampleID 33: 2046\n",
      "SampleID\n",
      "16    8212\n",
      "35    7716\n",
      "13    7665\n",
      "17    7071\n",
      "12    6995\n",
      "4     6643\n",
      "3     6315\n",
      "37    6280\n",
      "14    6270\n",
      "9     6139\n",
      "28    6061\n",
      "6     5998\n",
      "18    5539\n",
      "21    5423\n",
      "5     5406\n",
      "1     5167\n",
      "32    5158\n",
      "26    5119\n",
      "11    5112\n",
      "20    5103\n",
      "29    4819\n",
      "24    4613\n",
      "10    4580\n",
      "41    4532\n",
      "23    4490\n",
      "19    4400\n",
      "27    4332\n",
      "38    4330\n",
      "40    4285\n",
      "39    4030\n",
      "31    3415\n",
      "7     3410\n",
      "15    3315\n",
      "8     3136\n",
      "22    3072\n",
      "2     3028\n",
      "36    2939\n",
      "34    2856\n",
      "25    2658\n",
      "33    2046\n",
      "43    1381\n",
      "42    1380\n",
      "44    1217\n",
      "Name: count, dtype: int64\n",
      "Wrote subsampled table with 2020 cells per patient to:\n",
      "  TNBC_shareCellData/cellData_2020.csv\n",
      "[ 1  2  3  4  5  6  7  8  9 10 11 12 13 14 15 16 17 18 19 20 21 22 23 24\n",
      " 25 26 27 28 29 31 32 33 34 35 36 37 38 39 40 41]\n",
      "Count for SampleID 33: 2020\n"
     ]
    }
   ],
   "execution_count": 3
  },
  {
   "cell_type": "code",
   "id": "df87f172",
   "metadata": {
    "ExecuteTime": {
     "end_time": "2025-06-16T09:22:50.292482Z",
     "start_time": "2025-06-16T09:22:50.288622Z"
    }
   },
   "source": [
    "print(df_subsample['SampleID'].unique())\n",
    "print(f\"Count for SampleID 33: {len(df_subsample[df_subsample['SampleID'] == 33])}\")\n"
   ],
   "outputs": [
    {
     "name": "stdout",
     "output_type": "stream",
     "text": [
      "[ 1  2  3  4  5  6  7  8  9 10 11 12 13 14 15 16 17 18 19 20 21 22 23 24\n",
      " 25 26 27 28 29 31 32 33 34 35 36 37 38 39 40 41]\n",
      "Count for SampleID 33: 2020\n"
     ]
    }
   ],
   "execution_count": 4
  },
  {
   "cell_type": "code",
   "id": "c1969a89",
   "metadata": {
    "ExecuteTime": {
     "end_time": "2025-06-16T09:23:04.692510Z",
     "start_time": "2025-06-16T09:23:03.748654Z"
    }
   },
   "source": [
    "# df = pd.read_csv(f\"TNBC_shareCellData/cellData_{n}.csv\", sep=\",\")\n",
    "df = pd.read_csv(f\"TNBC_shareCellData/cellData.csv\", sep=\",\") # TODO comment out if not doing the whole thing\n",
    "df_p = pd.read_csv(\"TNBC_shareCellData/patient_class.csv\", header=None)\n",
    "df_p.rename(columns={0:\"SampleID\", 1:\"subtype\"}, inplace=True)\n",
    "subtype_map = {\n",
    "    0: \"Mixed\",\n",
    "    1: \"Compartimentalized\",\n",
    "    2: \"Cold\"\n",
    "}\n",
    "\n",
    "df_p[\"subtype\"] = df_p[\"subtype\"].map(subtype_map).astype('category')\n",
    "\n",
    "\n",
    "\n",
    "# TO DO: LOOK INTO THIS FILTERING SINCE SAMPLEID 30 DOESN\"T ACTUALLY EXIST SO MAYBE IT IS MORE COMPLICATED THAN JUST REMOVING A FEW\n",
    "bad_Values = [42,43,44]\n",
    "\n",
    "df = df[~df[\"SampleID\"].isin(bad_Values)]\n",
    "\n",
    "\n",
    "meta_cols = ['SampleID', 'cellLabelInImage', 'cellSize', 'tumorYN', \n",
    "             'tumorCluster', 'Group', 'immuneCluster', 'immuneGroup']\n",
    "\n",
    "expr_cols = [c for c in df.columns if c not in meta_cols]\n",
    "\n",
    "adata = AnnData(\n",
    "    X = df[expr_cols].values,\n",
    "    obs = df[meta_cols],\n",
    "    var=pd.DataFrame(index=expr_cols)\n",
    ")\n",
    "\n",
    "adata.obs[\"UniqueID\"] = adata.obs['SampleID'].astype(str) + \"_\" + adata.obs['cellLabelInImage'].astype(str)\n",
    "all_cells[\"UniqueID\"] = all_cells[\"image\"].astype(str) + \"_\" + all_cells[\"CellID\"].astype(str)\n",
    "all_cells = all_cells.set_index('UniqueID', drop = False)\n",
    "adata.obs = adata.obs.set_index('UniqueID', drop=False)\n",
    "\n",
    "all_cells_aligned = all_cells.reindex(adata.obs_names)\n",
    "\n",
    "adata.obsm[\"spatial\"] = all_cells_aligned[[\"CentroidX\", \"CentroidY\"]].to_numpy()\n",
    "\n",
    "# X = adata.X.toarray() if hasattr(adata.X, \"toarray\") else adata.X\n",
    "# min_val = X.min()\n",
    "# print(\"Minimum before shift:\", min_val)\n",
    "\n",
    "# 2. If it’s < 0, shift everything up so the minimum is 0\n",
    "# if min_val < 0:\n",
    "#     shift = -min_val\n",
    "#     print(f\"Shifting all values by +{shift:.3g} to eliminate negatives\")\n",
    "#     X += shift\n",
    "#     adata.X = X  # put it back into your AnnData\n",
    "\n",
    "# sc.pp.normalize_total(adata)         # e.g. counts per cell\n",
    "# sc.pp.log1p(adata)\n",
    "# sc.pp.scale(adata)\n",
    "\n",
    "# sc.tl.pca(adata, svd_solver='arpack', n_comps=50)\n",
    "# sc.pp.neighbors(adata)               # builds graph on PCA\n",
    "# sc.tl.umap(adata)\n",
    "code2label_group = {\n",
    "    1: \"Unidentified\",\n",
    "    2: \"Immune\",\n",
    "    3: \"EndoThelial\",\n",
    "    4: \"Mesenchymal-like\",\n",
    "    5: \"Tumor\",\n",
    "    6: \"Keratin-positive tumor\"\n",
    "}\n",
    "\n",
    "code2label_immunegroup = {\n",
    "    1: \"Tregs\",\n",
    "    2: \"CD4 T\",\n",
    "    3: \"CD8 T\",\n",
    "    4: \"CD3 T\",\n",
    "    5: \"NK\",\n",
    "    6: \"B\",\n",
    "    7: \"Neutrophils\",\n",
    "    8: \"Macrophages\",\n",
    "    9: \"DC\",\n",
    "    10: \"DC/Mono\",\n",
    "    11: \"Mono/Neu\",\n",
    "    12: \"Other immune\"\n",
    "}\n",
    "adata.obs[\"Group\"] = adata.obs[\"Group\"].map(code2label_group).astype('category')\n",
    "adata.obs[\"immuneGroup\"] = adata.obs[\"immuneGroup\"].map(code2label_immunegroup)\n",
    "adata.obs = pd.merge(\n",
    "    adata.obs,\n",
    "    df_p,\n",
    "    on=\"SampleID\",\n",
    "    how=\"left\"\n",
    ")\n",
    "\n",
    "# Copy for later use\n",
    "adata_raw = adata.copy()\n",
    "\n",
    "adata.obs"
   ],
   "outputs": [
    {
     "name": "stderr",
     "output_type": "stream",
     "text": [
      "/home/study/anaconda3/envs/bioml/lib/python3.9/site-packages/anndata/_core/anndata.py:117: ImplicitModificationWarning: Transforming to str index.\n",
      "  warnings.warn(\"Transforming to str index.\", ImplicitModificationWarning)\n",
      "/home/study/anaconda3/envs/bioml/lib/python3.9/site-packages/anndata/_core/anndata.py:117: ImplicitModificationWarning: Transforming to str index.\n",
      "  warnings.warn(\"Transforming to str index.\", ImplicitModificationWarning)\n"
     ]
    },
    {
     "data": {
      "text/plain": [
       "        SampleID  cellLabelInImage  cellSize  tumorYN  tumorCluster   \n",
       "0              1                 2       146        1             0  \\\n",
       "1              1                 3       102        0             0   \n",
       "2              1                 4        43        1             0   \n",
       "3              1                 5       211        1             0   \n",
       "4              1                 6       177        0             0   \n",
       "...          ...               ...       ...      ...           ...   \n",
       "197673        41              5093        90        1             0   \n",
       "197674        41              5094       132        1            21   \n",
       "197675        41              5095       123        0             0   \n",
       "197676        41              5096        99        0             0   \n",
       "197677        41              5097        66        0             0   \n",
       "\n",
       "                         Group  immuneCluster   immuneGroup UniqueID   \n",
       "0       Keratin-positive tumor              0           NaN      1_2  \\\n",
       "1                       Immune             46         CD3 T      1_3   \n",
       "2       Keratin-positive tumor              0           NaN      1_4   \n",
       "3       Keratin-positive tumor              0           NaN      1_5   \n",
       "4                       Immune             75             B      1_6   \n",
       "...                        ...            ...           ...      ...   \n",
       "197673  Keratin-positive tumor              0           NaN  41_5093   \n",
       "197674                   Tumor              0           NaN  41_5094   \n",
       "197675                  Immune             31   Macrophages  41_5095   \n",
       "197676                  Immune             56  Other immune  41_5096   \n",
       "197677                  Immune             65             B  41_5097   \n",
       "\n",
       "                   subtype  \n",
       "0                    Mixed  \n",
       "1                    Mixed  \n",
       "2                    Mixed  \n",
       "3                    Mixed  \n",
       "4                    Mixed  \n",
       "...                    ...  \n",
       "197673  Compartimentalized  \n",
       "197674  Compartimentalized  \n",
       "197675  Compartimentalized  \n",
       "197676  Compartimentalized  \n",
       "197677  Compartimentalized  \n",
       "\n",
       "[197678 rows x 10 columns]"
      ],
      "text/html": [
       "<div>\n",
       "<style scoped>\n",
       "    .dataframe tbody tr th:only-of-type {\n",
       "        vertical-align: middle;\n",
       "    }\n",
       "\n",
       "    .dataframe tbody tr th {\n",
       "        vertical-align: top;\n",
       "    }\n",
       "\n",
       "    .dataframe thead th {\n",
       "        text-align: right;\n",
       "    }\n",
       "</style>\n",
       "<table border=\"1\" class=\"dataframe\">\n",
       "  <thead>\n",
       "    <tr style=\"text-align: right;\">\n",
       "      <th></th>\n",
       "      <th>SampleID</th>\n",
       "      <th>cellLabelInImage</th>\n",
       "      <th>cellSize</th>\n",
       "      <th>tumorYN</th>\n",
       "      <th>tumorCluster</th>\n",
       "      <th>Group</th>\n",
       "      <th>immuneCluster</th>\n",
       "      <th>immuneGroup</th>\n",
       "      <th>UniqueID</th>\n",
       "      <th>subtype</th>\n",
       "    </tr>\n",
       "  </thead>\n",
       "  <tbody>\n",
       "    <tr>\n",
       "      <th>0</th>\n",
       "      <td>1</td>\n",
       "      <td>2</td>\n",
       "      <td>146</td>\n",
       "      <td>1</td>\n",
       "      <td>0</td>\n",
       "      <td>Keratin-positive tumor</td>\n",
       "      <td>0</td>\n",
       "      <td>NaN</td>\n",
       "      <td>1_2</td>\n",
       "      <td>Mixed</td>\n",
       "    </tr>\n",
       "    <tr>\n",
       "      <th>1</th>\n",
       "      <td>1</td>\n",
       "      <td>3</td>\n",
       "      <td>102</td>\n",
       "      <td>0</td>\n",
       "      <td>0</td>\n",
       "      <td>Immune</td>\n",
       "      <td>46</td>\n",
       "      <td>CD3 T</td>\n",
       "      <td>1_3</td>\n",
       "      <td>Mixed</td>\n",
       "    </tr>\n",
       "    <tr>\n",
       "      <th>2</th>\n",
       "      <td>1</td>\n",
       "      <td>4</td>\n",
       "      <td>43</td>\n",
       "      <td>1</td>\n",
       "      <td>0</td>\n",
       "      <td>Keratin-positive tumor</td>\n",
       "      <td>0</td>\n",
       "      <td>NaN</td>\n",
       "      <td>1_4</td>\n",
       "      <td>Mixed</td>\n",
       "    </tr>\n",
       "    <tr>\n",
       "      <th>3</th>\n",
       "      <td>1</td>\n",
       "      <td>5</td>\n",
       "      <td>211</td>\n",
       "      <td>1</td>\n",
       "      <td>0</td>\n",
       "      <td>Keratin-positive tumor</td>\n",
       "      <td>0</td>\n",
       "      <td>NaN</td>\n",
       "      <td>1_5</td>\n",
       "      <td>Mixed</td>\n",
       "    </tr>\n",
       "    <tr>\n",
       "      <th>4</th>\n",
       "      <td>1</td>\n",
       "      <td>6</td>\n",
       "      <td>177</td>\n",
       "      <td>0</td>\n",
       "      <td>0</td>\n",
       "      <td>Immune</td>\n",
       "      <td>75</td>\n",
       "      <td>B</td>\n",
       "      <td>1_6</td>\n",
       "      <td>Mixed</td>\n",
       "    </tr>\n",
       "    <tr>\n",
       "      <th>...</th>\n",
       "      <td>...</td>\n",
       "      <td>...</td>\n",
       "      <td>...</td>\n",
       "      <td>...</td>\n",
       "      <td>...</td>\n",
       "      <td>...</td>\n",
       "      <td>...</td>\n",
       "      <td>...</td>\n",
       "      <td>...</td>\n",
       "      <td>...</td>\n",
       "    </tr>\n",
       "    <tr>\n",
       "      <th>197673</th>\n",
       "      <td>41</td>\n",
       "      <td>5093</td>\n",
       "      <td>90</td>\n",
       "      <td>1</td>\n",
       "      <td>0</td>\n",
       "      <td>Keratin-positive tumor</td>\n",
       "      <td>0</td>\n",
       "      <td>NaN</td>\n",
       "      <td>41_5093</td>\n",
       "      <td>Compartimentalized</td>\n",
       "    </tr>\n",
       "    <tr>\n",
       "      <th>197674</th>\n",
       "      <td>41</td>\n",
       "      <td>5094</td>\n",
       "      <td>132</td>\n",
       "      <td>1</td>\n",
       "      <td>21</td>\n",
       "      <td>Tumor</td>\n",
       "      <td>0</td>\n",
       "      <td>NaN</td>\n",
       "      <td>41_5094</td>\n",
       "      <td>Compartimentalized</td>\n",
       "    </tr>\n",
       "    <tr>\n",
       "      <th>197675</th>\n",
       "      <td>41</td>\n",
       "      <td>5095</td>\n",
       "      <td>123</td>\n",
       "      <td>0</td>\n",
       "      <td>0</td>\n",
       "      <td>Immune</td>\n",
       "      <td>31</td>\n",
       "      <td>Macrophages</td>\n",
       "      <td>41_5095</td>\n",
       "      <td>Compartimentalized</td>\n",
       "    </tr>\n",
       "    <tr>\n",
       "      <th>197676</th>\n",
       "      <td>41</td>\n",
       "      <td>5096</td>\n",
       "      <td>99</td>\n",
       "      <td>0</td>\n",
       "      <td>0</td>\n",
       "      <td>Immune</td>\n",
       "      <td>56</td>\n",
       "      <td>Other immune</td>\n",
       "      <td>41_5096</td>\n",
       "      <td>Compartimentalized</td>\n",
       "    </tr>\n",
       "    <tr>\n",
       "      <th>197677</th>\n",
       "      <td>41</td>\n",
       "      <td>5097</td>\n",
       "      <td>66</td>\n",
       "      <td>0</td>\n",
       "      <td>0</td>\n",
       "      <td>Immune</td>\n",
       "      <td>65</td>\n",
       "      <td>B</td>\n",
       "      <td>41_5097</td>\n",
       "      <td>Compartimentalized</td>\n",
       "    </tr>\n",
       "  </tbody>\n",
       "</table>\n",
       "<p>197678 rows × 10 columns</p>\n",
       "</div>"
      ]
     },
     "execution_count": 5,
     "metadata": {},
     "output_type": "execute_result"
    }
   ],
   "execution_count": 5
  },
  {
   "cell_type": "markdown",
   "id": "ca84f476",
   "metadata": {},
   "source": [
    "# Coarse representation"
   ]
  },
  {
   "cell_type": "code",
   "metadata": {
    "ExecuteTime": {
     "end_time": "2025-06-16T09:25:11.382098Z",
     "start_time": "2025-06-16T09:25:11.265483Z"
    }
   },
   "source": [
    "# Compute “coarse” counts per SampleID × Group, but KEEP SampleID as the index\n",
    "coarse = (\n",
    "    adata.obs\n",
    "         .groupby([\"SampleID\", \"Group\"])\n",
    "         .size()\n",
    "         .unstack(fill_value=0)\n",
    ")\n",
    "# Now coarse.index is SampleID\n",
    "print(coarse)\n",
    "\n",
    "# Normalize each row to percentages\n",
    "coarse_norm = coarse.div(coarse.sum(axis=1), axis=0)\n",
    "# coarse_norm.index is still SampleID\n",
    "\n",
    "# Build y so that it lines up with coarse_norm.index \n",
    "y = adata.obs.groupby(\"SampleID\")[\"subtype\"].first().loc[coarse_norm.index]\n",
    "print(coarse_norm.shape)\n",
    "print(y.shape)\n",
    "# Run KNN with cross‐validation\n",
    "knn = KNeighborsClassifier()\n",
    "cv = RepeatedStratifiedKFold(n_splits=5, n_repeats=10, random_state=42)\n",
    "coarse_knn = cross_val_score(knn, coarse_norm, y, scoring=\"accuracy\", cv=cv)\n",
    "\n",
    "print(coarse_knn)\n",
    "print(coarse_knn.mean(), coarse_knn.std())\n",
    "\n",
    "# UNCOMMENT TO SHOW COARSE REPRESENTATION\n",
    "# coarse_norm"
   ],
   "id": "5d4fbcd298db3130",
   "outputs": [
    {
     "name": "stdout",
     "output_type": "stream",
     "text": [
      "Group     EndoThelial  Immune  Keratin-positive tumor  Mesenchymal-like   \n",
      "SampleID                                                                  \n",
      "1                  35    2558                    2488                43  \\\n",
      "2                 100     956                    1834               130   \n",
      "3                 112    3179                    2249               735   \n",
      "4                 132    4161                    1680               214   \n",
      "5                 196    2790                    2125               236   \n",
      "6                 110    2320                    3345               130   \n",
      "7                   4     558                    2551               115   \n",
      "8                   1     561                    1479               369   \n",
      "9                  75    3272                    2642                54   \n",
      "10                 40    2866                    1500               149   \n",
      "11                 18    1617                    3193                29   \n",
      "12                  6    3547                    3428                12   \n",
      "13                 38    5163                    2244               147   \n",
      "14                 11    1050                    5137                60   \n",
      "15                 22     114                    3004                26   \n",
      "16                 31    6499                    1673                 9   \n",
      "17                 40    3254                    3693                63   \n",
      "18                  2     500                    5021                 6   \n",
      "19                 27     208                    2662               861   \n",
      "20                  4    1557                    3405                13   \n",
      "21                 15     550                    4727               112   \n",
      "22                 12     173                    2632                44   \n",
      "23                130     719                    3492               111   \n",
      "24                  1      88                    4501                16   \n",
      "25                 12     222                    1819               594   \n",
      "26                 10      91                    4184               168   \n",
      "27                 46     826                    3093               234   \n",
      "28                 62    4503                    1270               214   \n",
      "29                 16    1760                    2724               275   \n",
      "31                 64     316                    2895               126   \n",
      "32                 37    3551                    1555                 5   \n",
      "33                  7     315                    1232               456   \n",
      "34                 22    1309                    1187                53   \n",
      "35                 57    7031                     547                61   \n",
      "36                 68    1423                     413               955   \n",
      "37                138    4673                    1127               200   \n",
      "38                 20    1030                    3198                74   \n",
      "39                 21    2403                    1541                 5   \n",
      "40                304    2486                     950               534   \n",
      "41                 40    2844                    1047               532   \n",
      "\n",
      "Group     Tumor  Unidentified  \n",
      "SampleID                       \n",
      "1             1            42  \n",
      "2             1             7  \n",
      "3            23            17  \n",
      "4           429            27  \n",
      "5            15            44  \n",
      "6            14            79  \n",
      "7            81           101  \n",
      "8           573           153  \n",
      "9            51            45  \n",
      "10            3            22  \n",
      "11          251             4  \n",
      "12            2             0  \n",
      "13           52            21  \n",
      "14            6             6  \n",
      "15           13           136  \n",
      "16            0             0  \n",
      "17           21             0  \n",
      "18            6             4  \n",
      "19          586            56  \n",
      "20          120             4  \n",
      "21           10             9  \n",
      "22           27           184  \n",
      "23            7            31  \n",
      "24            0             7  \n",
      "25            6             5  \n",
      "26          625            41  \n",
      "27          117            16  \n",
      "28            1            11  \n",
      "29            7            37  \n",
      "31           14             0  \n",
      "32            2             8  \n",
      "33            7            29  \n",
      "34            0           285  \n",
      "35            5            15  \n",
      "36           21            59  \n",
      "37            1           141  \n",
      "38            2             6  \n",
      "39           52             8  \n",
      "40            0            11  \n",
      "41           15            54  \n",
      "(40, 6)\n",
      "(40,)\n",
      "[0.625 0.5   0.875 0.625 0.625 0.75  0.75  0.75  0.875 0.625 0.5   0.625\n",
      " 0.75  0.75  0.625 0.875 0.625 0.75  0.875 0.625 0.625 0.75  0.625 0.625\n",
      " 0.625 0.625 0.75  0.75  0.5   0.625 0.875 0.75  0.75  0.375 0.5   0.625\n",
      " 0.75  0.5   0.875 0.625 0.75  0.625 0.625 0.625 0.625 0.75  0.875 0.625\n",
      " 0.75  0.625]\n",
      "0.68 0.115\n"
     ]
    }
   ],
   "execution_count": 11
  },
  {
   "cell_type": "code",
   "id": "5598c703",
   "metadata": {
    "ExecuteTime": {
     "end_time": "2025-06-16T09:26:53.299839Z",
     "start_time": "2025-06-16T09:26:53.209784Z"
    }
   },
   "source": [
    "svc = svm.SVC()\n",
    "coarse_svc = cross_val_score(svc, coarse_norm, y, scoring='accuracy', cv=cv)\n",
    "print(coarse_svc)\n",
    "coarse_svc.mean(), coarse_svc.std()"
   ],
   "outputs": [
    {
     "name": "stdout",
     "output_type": "stream",
     "text": [
      "[0.625 0.625 0.875 0.875 0.75  0.625 0.875 0.875 0.75  0.625 0.5   0.75\n",
      " 0.75  0.875 0.625 0.875 0.625 0.75  0.75  0.75  0.875 0.75  0.75  0.75\n",
      " 0.625 0.75  0.875 0.75  0.625 0.75  0.75  0.875 0.875 0.5   0.5   0.75\n",
      " 0.75  0.5   0.75  0.625 0.875 0.875 0.75  0.625 0.625 0.75  0.875 0.625\n",
      " 0.875 0.625]\n"
     ]
    },
    {
     "data": {
      "text/plain": [
       "(0.7325, 0.1145916663636584)"
      ]
     },
     "execution_count": 30,
     "metadata": {},
     "output_type": "execute_result"
    }
   ],
   "execution_count": 30
  },
  {
   "cell_type": "markdown",
   "id": "f57d9f47",
   "metadata": {},
   "source": [
    "# Fine representation"
   ]
  },
  {
   "cell_type": "code",
   "id": "2bbb13f3",
   "metadata": {
    "ExecuteTime": {
     "end_time": "2025-06-16T09:26:12.919628Z",
     "start_time": "2025-06-16T09:26:12.894052Z"
    }
   },
   "source": [
    "data_fine = adata.obs.copy()\n",
    "data_fine.loc[data_fine[\"immuneGroup\"].isna(), \"immuneGroup\"] = data_fine.loc[data_fine[\"immuneGroup\"].isna(), \"Group\"]\n",
    "data_fine"
   ],
   "outputs": [
    {
     "data": {
      "text/plain": [
       "        SampleID  cellLabelInImage  cellSize  tumorYN  tumorCluster   \n",
       "0              1                 2       146        1             0  \\\n",
       "1              1                 3       102        0             0   \n",
       "2              1                 4        43        1             0   \n",
       "3              1                 5       211        1             0   \n",
       "4              1                 6       177        0             0   \n",
       "...          ...               ...       ...      ...           ...   \n",
       "197673        41              5093        90        1             0   \n",
       "197674        41              5094       132        1            21   \n",
       "197675        41              5095       123        0             0   \n",
       "197676        41              5096        99        0             0   \n",
       "197677        41              5097        66        0             0   \n",
       "\n",
       "                         Group  immuneCluster             immuneGroup   \n",
       "0       Keratin-positive tumor              0  Keratin-positive tumor  \\\n",
       "1                       Immune             46                   CD3 T   \n",
       "2       Keratin-positive tumor              0  Keratin-positive tumor   \n",
       "3       Keratin-positive tumor              0  Keratin-positive tumor   \n",
       "4                       Immune             75                       B   \n",
       "...                        ...            ...                     ...   \n",
       "197673  Keratin-positive tumor              0  Keratin-positive tumor   \n",
       "197674                   Tumor              0                   Tumor   \n",
       "197675                  Immune             31             Macrophages   \n",
       "197676                  Immune             56            Other immune   \n",
       "197677                  Immune             65                       B   \n",
       "\n",
       "       UniqueID             subtype  \n",
       "0           1_2               Mixed  \n",
       "1           1_3               Mixed  \n",
       "2           1_4               Mixed  \n",
       "3           1_5               Mixed  \n",
       "4           1_6               Mixed  \n",
       "...         ...                 ...  \n",
       "197673  41_5093  Compartimentalized  \n",
       "197674  41_5094  Compartimentalized  \n",
       "197675  41_5095  Compartimentalized  \n",
       "197676  41_5096  Compartimentalized  \n",
       "197677  41_5097  Compartimentalized  \n",
       "\n",
       "[197678 rows x 10 columns]"
      ],
      "text/html": [
       "<div>\n",
       "<style scoped>\n",
       "    .dataframe tbody tr th:only-of-type {\n",
       "        vertical-align: middle;\n",
       "    }\n",
       "\n",
       "    .dataframe tbody tr th {\n",
       "        vertical-align: top;\n",
       "    }\n",
       "\n",
       "    .dataframe thead th {\n",
       "        text-align: right;\n",
       "    }\n",
       "</style>\n",
       "<table border=\"1\" class=\"dataframe\">\n",
       "  <thead>\n",
       "    <tr style=\"text-align: right;\">\n",
       "      <th></th>\n",
       "      <th>SampleID</th>\n",
       "      <th>cellLabelInImage</th>\n",
       "      <th>cellSize</th>\n",
       "      <th>tumorYN</th>\n",
       "      <th>tumorCluster</th>\n",
       "      <th>Group</th>\n",
       "      <th>immuneCluster</th>\n",
       "      <th>immuneGroup</th>\n",
       "      <th>UniqueID</th>\n",
       "      <th>subtype</th>\n",
       "    </tr>\n",
       "  </thead>\n",
       "  <tbody>\n",
       "    <tr>\n",
       "      <th>0</th>\n",
       "      <td>1</td>\n",
       "      <td>2</td>\n",
       "      <td>146</td>\n",
       "      <td>1</td>\n",
       "      <td>0</td>\n",
       "      <td>Keratin-positive tumor</td>\n",
       "      <td>0</td>\n",
       "      <td>Keratin-positive tumor</td>\n",
       "      <td>1_2</td>\n",
       "      <td>Mixed</td>\n",
       "    </tr>\n",
       "    <tr>\n",
       "      <th>1</th>\n",
       "      <td>1</td>\n",
       "      <td>3</td>\n",
       "      <td>102</td>\n",
       "      <td>0</td>\n",
       "      <td>0</td>\n",
       "      <td>Immune</td>\n",
       "      <td>46</td>\n",
       "      <td>CD3 T</td>\n",
       "      <td>1_3</td>\n",
       "      <td>Mixed</td>\n",
       "    </tr>\n",
       "    <tr>\n",
       "      <th>2</th>\n",
       "      <td>1</td>\n",
       "      <td>4</td>\n",
       "      <td>43</td>\n",
       "      <td>1</td>\n",
       "      <td>0</td>\n",
       "      <td>Keratin-positive tumor</td>\n",
       "      <td>0</td>\n",
       "      <td>Keratin-positive tumor</td>\n",
       "      <td>1_4</td>\n",
       "      <td>Mixed</td>\n",
       "    </tr>\n",
       "    <tr>\n",
       "      <th>3</th>\n",
       "      <td>1</td>\n",
       "      <td>5</td>\n",
       "      <td>211</td>\n",
       "      <td>1</td>\n",
       "      <td>0</td>\n",
       "      <td>Keratin-positive tumor</td>\n",
       "      <td>0</td>\n",
       "      <td>Keratin-positive tumor</td>\n",
       "      <td>1_5</td>\n",
       "      <td>Mixed</td>\n",
       "    </tr>\n",
       "    <tr>\n",
       "      <th>4</th>\n",
       "      <td>1</td>\n",
       "      <td>6</td>\n",
       "      <td>177</td>\n",
       "      <td>0</td>\n",
       "      <td>0</td>\n",
       "      <td>Immune</td>\n",
       "      <td>75</td>\n",
       "      <td>B</td>\n",
       "      <td>1_6</td>\n",
       "      <td>Mixed</td>\n",
       "    </tr>\n",
       "    <tr>\n",
       "      <th>...</th>\n",
       "      <td>...</td>\n",
       "      <td>...</td>\n",
       "      <td>...</td>\n",
       "      <td>...</td>\n",
       "      <td>...</td>\n",
       "      <td>...</td>\n",
       "      <td>...</td>\n",
       "      <td>...</td>\n",
       "      <td>...</td>\n",
       "      <td>...</td>\n",
       "    </tr>\n",
       "    <tr>\n",
       "      <th>197673</th>\n",
       "      <td>41</td>\n",
       "      <td>5093</td>\n",
       "      <td>90</td>\n",
       "      <td>1</td>\n",
       "      <td>0</td>\n",
       "      <td>Keratin-positive tumor</td>\n",
       "      <td>0</td>\n",
       "      <td>Keratin-positive tumor</td>\n",
       "      <td>41_5093</td>\n",
       "      <td>Compartimentalized</td>\n",
       "    </tr>\n",
       "    <tr>\n",
       "      <th>197674</th>\n",
       "      <td>41</td>\n",
       "      <td>5094</td>\n",
       "      <td>132</td>\n",
       "      <td>1</td>\n",
       "      <td>21</td>\n",
       "      <td>Tumor</td>\n",
       "      <td>0</td>\n",
       "      <td>Tumor</td>\n",
       "      <td>41_5094</td>\n",
       "      <td>Compartimentalized</td>\n",
       "    </tr>\n",
       "    <tr>\n",
       "      <th>197675</th>\n",
       "      <td>41</td>\n",
       "      <td>5095</td>\n",
       "      <td>123</td>\n",
       "      <td>0</td>\n",
       "      <td>0</td>\n",
       "      <td>Immune</td>\n",
       "      <td>31</td>\n",
       "      <td>Macrophages</td>\n",
       "      <td>41_5095</td>\n",
       "      <td>Compartimentalized</td>\n",
       "    </tr>\n",
       "    <tr>\n",
       "      <th>197676</th>\n",
       "      <td>41</td>\n",
       "      <td>5096</td>\n",
       "      <td>99</td>\n",
       "      <td>0</td>\n",
       "      <td>0</td>\n",
       "      <td>Immune</td>\n",
       "      <td>56</td>\n",
       "      <td>Other immune</td>\n",
       "      <td>41_5096</td>\n",
       "      <td>Compartimentalized</td>\n",
       "    </tr>\n",
       "    <tr>\n",
       "      <th>197677</th>\n",
       "      <td>41</td>\n",
       "      <td>5097</td>\n",
       "      <td>66</td>\n",
       "      <td>0</td>\n",
       "      <td>0</td>\n",
       "      <td>Immune</td>\n",
       "      <td>65</td>\n",
       "      <td>B</td>\n",
       "      <td>41_5097</td>\n",
       "      <td>Compartimentalized</td>\n",
       "    </tr>\n",
       "  </tbody>\n",
       "</table>\n",
       "<p>197678 rows × 10 columns</p>\n",
       "</div>"
      ]
     },
     "execution_count": 20,
     "metadata": {},
     "output_type": "execute_result"
    }
   ],
   "execution_count": 20
  },
  {
   "cell_type": "code",
   "id": "5e6a480f",
   "metadata": {
    "ExecuteTime": {
     "end_time": "2025-06-16T09:26:19.876241Z",
     "start_time": "2025-06-16T09:26:19.863741Z"
    }
   },
   "source": [
    "fine = data_fine.groupby([\"SampleID\", \"immuneGroup\"]).size().unstack(fill_value=0).reset_index(drop=True)\n",
    "# Normalize the counts to percentages\n",
    "fine_norm = fine.div(fine.sum(axis=1), axis=0)\n",
    "# UNCOMMENT TO SHOW FINE REPRESENTAITON\n",
    "# fine"
   ],
   "outputs": [],
   "execution_count": 21
  },
  {
   "cell_type": "code",
   "id": "6308b65e",
   "metadata": {
    "ExecuteTime": {
     "end_time": "2025-06-16T09:26:22.078960Z",
     "start_time": "2025-06-16T09:26:21.813233Z"
    }
   },
   "source": [
    "knn = KNeighborsClassifier()\n",
    "fine_knn = cross_val_score(knn, fine_norm, y, scoring='accuracy', cv=cv)\n",
    "print(fine_knn)\n",
    "fine_knn.mean(), fine_knn.std()"
   ],
   "outputs": [
    {
     "name": "stdout",
     "output_type": "stream",
     "text": [
      "[0.5   0.625 0.75  0.875 0.75  0.625 0.75  0.875 0.625 0.625 0.75  0.75\n",
      " 0.625 0.875 0.625 0.75  0.75  0.75  0.75  0.75  0.625 0.75  0.75  0.75\n",
      " 0.625 0.625 0.875 0.75  0.625 0.75  0.75  0.75  0.75  0.5   0.625 0.75\n",
      " 0.875 0.625 0.75  0.5   0.625 0.625 0.75  0.625 0.75  0.75  0.875 0.5\n",
      " 0.875 0.625]\n"
     ]
    },
    {
     "data": {
      "text/plain": [
       "(0.7075, 0.10188841936157415)"
      ]
     },
     "execution_count": 22,
     "metadata": {},
     "output_type": "execute_result"
    }
   ],
   "execution_count": 22
  },
  {
   "cell_type": "code",
   "id": "c2243db3",
   "metadata": {
    "ExecuteTime": {
     "end_time": "2025-06-16T09:26:24.054915Z",
     "start_time": "2025-06-16T09:26:23.968356Z"
    }
   },
   "source": [
    "svc = svm.SVC()\n",
    "fine_svc = cross_val_score(svc, fine_norm, y, scoring='accuracy', cv=cv)\n",
    "print(fine_svc)\n",
    "fine_svc.mean(), fine_svc.std()"
   ],
   "outputs": [
    {
     "name": "stdout",
     "output_type": "stream",
     "text": [
      "[0.625 0.625 0.875 0.875 0.75  0.75  0.875 0.875 0.75  0.625 0.5   0.75\n",
      " 0.75  0.875 0.75  0.875 0.75  0.75  0.625 0.75  0.75  0.75  0.625 0.875\n",
      " 0.625 0.75  0.875 0.75  0.75  0.75  0.75  0.875 0.875 0.75  0.5   0.75\n",
      " 0.75  0.625 0.75  0.625 0.75  0.875 0.625 0.625 0.75  0.75  0.875 0.625\n",
      " 0.75  0.75 ]\n"
     ]
    },
    {
     "data": {
      "text/plain": [
       "(0.7425, 0.09813893213195261)"
      ]
     },
     "execution_count": 23,
     "metadata": {},
     "output_type": "execute_result"
    }
   ],
   "execution_count": 23
  },
  {
   "cell_type": "markdown",
   "id": "32fd942f",
   "metadata": {},
   "source": [
    "# MENDER representation"
   ]
  },
  {
   "cell_type": "code",
   "id": "c6307146",
   "metadata": {
    "ExecuteTime": {
     "end_time": "2025-06-12T21:57:13.648713Z",
     "start_time": "2025-06-12T21:14:57.743445Z"
    }
   },
   "source": [
    "# batch_obs = 'subtype'\n",
    "batch_obs = 'SampleID'\n",
    "scale = 6\n",
    "radius = 15\n",
    "\n",
    "# I'm not sure why they did so many copies but I took it from this code \n",
    "# https://mender-tutorial.readthedocs.io/en/latest/MERSCOPE.html\n",
    "adata = adata_raw.copy()\n",
    "\n",
    "# adata.obs['SampleID'] = adata.obs['SampleID'].astype('category')\n",
    "\n",
    "# Only do it for these 18 samples to make it run more quickly. 6 mixed, comp and cold\n",
    "# sample_ids = [5, 13, 1, 2, 3, 4]\n",
    "# sample_ids = [1, 2, 3, 4, 5, 6, 7, 8, 9, 10, 11, 13, 15, 19, 22, 24, 25, 26]\n",
    "sample_ids = [\n",
    "    1, 2, 3, 4, 5, 6, 7, 8, 9, 10, 11, 12, 13, 14, 15, 16, 17, 18, 19, 20, 21,  22, 23, 24, 25, 26,\n",
    "    27, 28, 29, 31, 32, 33, 34, 35, 36, 37, 38, 39, 40, 41,\n",
    "]\n",
    "\n",
    "adata = adata[adata.obs['SampleID'].isin(sample_ids)].copy()\n",
    "\n",
    "adata.obs['SampleID'] = adata.obs['SampleID'].astype('category')\n",
    "\n",
    "\n",
    "# TODO: I think the grouping here should be based on fine groups\n",
    "# main body of MENDER\n",
    "msm = MENDER.MENDER(\n",
    "    adata,\n",
    "    batch_obs = batch_obs,\n",
    "    # determine which cell state to use\n",
    "    # In our case the cell type does not need to be estimated since we have a ground truth stored in \n",
    "    # the dataset under all_group_name\n",
    "    ct_obs= 'Group',\n",
    "    random_seed=42,\n",
    "    verbose=True\n",
    ")\n",
    "\n",
    "\n",
    "# set the MENDER parameters\n",
    "\n",
    "\n",
    "msm.prepare()\n",
    "msm.set_MENDER_para(\n",
    "    # default of n_scales is 6\n",
    "    n_scales=scale,\n",
    "\n",
    "    # for single cell data, nn_mode is set to 'radius'\n",
    "    nn_mode='radius',\n",
    "\n",
    "    # default of n_scales is 15 um (see the manuscript for why).\n",
    "    # MENDER also provide a function 'estimate_radius' for estimating the radius\n",
    "    nn_para=radius,\n",
    ")\n",
    "\n",
    "\n",
    "# construct the context representation\n",
    "msm.run_representation_mp(\n",
    "    500\n",
    "    # the number of processings\n",
    ")\n",
    "\n",
    "# set the spatial clustering parameter\n",
    "# positive values for the expected number of domains\n",
    "# negative values for the clustering resolution\n",
    "cluster_parameter = 13\n",
    "# msm.run_clustering_normal(-0.5)\n",
    "# msm.run_clustering_normal(2)\n",
    "msm.run_clustering_normal(cluster_parameter)\n",
    "msm.adata_MENDER.obs\n"
   ],
   "outputs": [
    {
     "name": "stdout",
     "output_type": "stream",
     "text": [
      "default number of process is 200\n"
     ]
    },
    {
     "name": "stderr",
     "output_type": "stream",
     "text": [
      "/home/study/anaconda3/envs/bioml/lib/python3.9/site-packages/anndata/_core/anndata.py:117: ImplicitModificationWarning: Transforming to str index.\n",
      "  warnings.warn(\"Transforming to str index.\", ImplicitModificationWarning)\n"
     ]
    },
    {
     "name": "stdout",
     "output_type": "stream",
     "text": [
      "total batch: 40, running batch 1\n",
      "scale 0\n"
     ]
    },
    {
     "name": "stderr",
     "output_type": "stream",
     "text": [
      "/home/study/anaconda3/envs/bioml/lib/python3.9/site-packages/anndata/_core/anndata.py:117: ImplicitModificationWarning: Transforming to str index.\n",
      "  warnings.warn(\"Transforming to str index.\", ImplicitModificationWarning)\n",
      "/home/study/anaconda3/envs/bioml/lib/python3.9/site-packages/anndata/_core/anndata.py:117: ImplicitModificationWarning: Transforming to str index.\n",
      "  warnings.warn(\"Transforming to str index.\", ImplicitModificationWarning)\n"
     ]
    },
    {
     "name": "stdout",
     "output_type": "stream",
     "text": [
      "total batch: 40, running batch 2\n",
      "scale 0\n"
     ]
    },
    {
     "name": "stderr",
     "output_type": "stream",
     "text": [
      "/home/study/anaconda3/envs/bioml/lib/python3.9/site-packages/anndata/_core/anndata.py:117: ImplicitModificationWarning: Transforming to str index.\n",
      "  warnings.warn(\"Transforming to str index.\", ImplicitModificationWarning)\n",
      "/home/study/anaconda3/envs/bioml/lib/python3.9/site-packages/anndata/_core/anndata.py:117: ImplicitModificationWarning: Transforming to str index.\n",
      "  warnings.warn(\"Transforming to str index.\", ImplicitModificationWarning)\n"
     ]
    },
    {
     "name": "stdout",
     "output_type": "stream",
     "text": [
      "total batch: 40, running batch 3\n",
      "scale 0\n"
     ]
    },
    {
     "name": "stderr",
     "output_type": "stream",
     "text": [
      "/home/study/anaconda3/envs/bioml/lib/python3.9/site-packages/anndata/_core/anndata.py:117: ImplicitModificationWarning: Transforming to str index.\n",
      "  warnings.warn(\"Transforming to str index.\", ImplicitModificationWarning)\n",
      "/home/study/anaconda3/envs/bioml/lib/python3.9/site-packages/anndata/_core/anndata.py:117: ImplicitModificationWarning: Transforming to str index.\n",
      "  warnings.warn(\"Transforming to str index.\", ImplicitModificationWarning)\n"
     ]
    },
    {
     "name": "stdout",
     "output_type": "stream",
     "text": [
      "scale 0, median #cells per radius (r=15): 1.0\n",
      "scale 1\n",
      "total batch: 40, running batch 4\n",
      "scale 0\n",
      "scale 0, median #cells per radius (r=15): 1.0\n",
      "scale 1\n"
     ]
    },
    {
     "name": "stderr",
     "output_type": "stream",
     "text": [
      "/home/study/anaconda3/envs/bioml/lib/python3.9/site-packages/anndata/_core/anndata.py:117: ImplicitModificationWarning: Transforming to str index.\n",
      "  warnings.warn(\"Transforming to str index.\", ImplicitModificationWarning)\n",
      "/home/study/anaconda3/envs/bioml/lib/python3.9/site-packages/anndata/_core/anndata.py:117: ImplicitModificationWarning: Transforming to str index.\n",
      "  warnings.warn(\"Transforming to str index.\", ImplicitModificationWarning)\n"
     ]
    },
    {
     "name": "stdout",
     "output_type": "stream",
     "text": [
      "total batch: 40, running batch 5\n",
      "scale 0\n"
     ]
    },
    {
     "name": "stderr",
     "output_type": "stream",
     "text": [
      "/home/study/anaconda3/envs/bioml/lib/python3.9/site-packages/anndata/_core/anndata.py:117: ImplicitModificationWarning: Transforming to str index.\n",
      "  warnings.warn(\"Transforming to str index.\", ImplicitModificationWarning)\n",
      "/home/study/anaconda3/envs/bioml/lib/python3.9/site-packages/anndata/_core/anndata.py:117: ImplicitModificationWarning: Transforming to str index.\n",
      "  warnings.warn(\"Transforming to str index.\", ImplicitModificationWarning)\n"
     ]
    },
    {
     "name": "stdout",
     "output_type": "stream",
     "text": [
      "scale 1, median #cells per radius (r=15): 2.0\n",
      "scale 2\n",
      "total batch: 40, running batch 6\n",
      "scale 0\n"
     ]
    },
    {
     "name": "stderr",
     "output_type": "stream",
     "text": [
      "/home/study/anaconda3/envs/bioml/lib/python3.9/site-packages/anndata/_core/anndata.py:117: ImplicitModificationWarning: Transforming to str index.\n",
      "  warnings.warn(\"Transforming to str index.\", ImplicitModificationWarning)\n",
      "/home/study/anaconda3/envs/bioml/lib/python3.9/site-packages/anndata/_core/anndata.py:117: ImplicitModificationWarning: Transforming to str index.\n",
      "  warnings.warn(\"Transforming to str index.\", ImplicitModificationWarning)\n"
     ]
    },
    {
     "name": "stdout",
     "output_type": "stream",
     "text": [
      "total batch: 40, running batch 7\n",
      "scale 0\n",
      "scale 0, median #cells per radius (r=15): 1.0\n",
      "scale 1\n"
     ]
    },
    {
     "name": "stderr",
     "output_type": "stream",
     "text": [
      "/home/study/anaconda3/envs/bioml/lib/python3.9/site-packages/anndata/_core/anndata.py:117: ImplicitModificationWarning: Transforming to str index.\n",
      "  warnings.warn(\"Transforming to str index.\", ImplicitModificationWarning)\n",
      "/home/study/anaconda3/envs/bioml/lib/python3.9/site-packages/anndata/_core/anndata.py:117: ImplicitModificationWarning: Transforming to str index.\n",
      "  warnings.warn(\"Transforming to str index.\", ImplicitModificationWarning)\n"
     ]
    },
    {
     "name": "stdout",
     "output_type": "stream",
     "text": [
      "scale 1, median #cells per radius (r=15): 3.0\n",
      "scale 2\n",
      "total batch: 40, running batch 8\n",
      "scale 0\n",
      "scale 2, median #cells per radius (r=15): 3.0\n",
      "scale 3\n"
     ]
    },
    {
     "name": "stderr",
     "output_type": "stream",
     "text": [
      "/home/study/anaconda3/envs/bioml/lib/python3.9/site-packages/anndata/_core/anndata.py:117: ImplicitModificationWarning: Transforming to str index.\n",
      "  warnings.warn(\"Transforming to str index.\", ImplicitModificationWarning)\n",
      "/home/study/anaconda3/envs/bioml/lib/python3.9/site-packages/anndata/_core/anndata.py:117: ImplicitModificationWarning: Transforming to str index.\n",
      "  warnings.warn(\"Transforming to str index.\", ImplicitModificationWarning)\n"
     ]
    },
    {
     "name": "stdout",
     "output_type": "stream",
     "text": [
      "scale 0, median #cells per radius (r=15): 1.0\n",
      "scale 1\n",
      "scale 0, median #cells per radius (r=15): 1.0\n",
      "scale 1\n",
      "total batch: 40, running batch 9\n",
      "scale 0\n",
      "scale 0, median #cells per radius (r=15): 1.0\n",
      "scale 1\n",
      "total batch: 40, running batch 10\n",
      "scale 0\n"
     ]
    },
    {
     "name": "stderr",
     "output_type": "stream",
     "text": [
      "/home/study/anaconda3/envs/bioml/lib/python3.9/site-packages/anndata/_core/anndata.py:117: ImplicitModificationWarning: Transforming to str index.\n",
      "  warnings.warn(\"Transforming to str index.\", ImplicitModificationWarning)\n",
      "/home/study/anaconda3/envs/bioml/lib/python3.9/site-packages/anndata/_core/anndata.py:117: ImplicitModificationWarning: Transforming to str index.\n",
      "  warnings.warn(\"Transforming to str index.\", ImplicitModificationWarning)\n"
     ]
    },
    {
     "name": "stdout",
     "output_type": "stream",
     "text": [
      "scale 0, median #cells per radius (r=15): 1.0\n",
      "scale 1\n",
      "scale 0, median #cells per radius (r=15): 1.0\n",
      "scale 1\n",
      "scale 3, median #cells per radius (r=15): 3.0\n",
      "scale 4\n"
     ]
    },
    {
     "name": "stderr",
     "output_type": "stream",
     "text": [
      "/home/study/anaconda3/envs/bioml/lib/python3.9/site-packages/anndata/_core/anndata.py:117: ImplicitModificationWarning: Transforming to str index.\n",
      "  warnings.warn(\"Transforming to str index.\", ImplicitModificationWarning)\n",
      "/home/study/anaconda3/envs/bioml/lib/python3.9/site-packages/anndata/_core/anndata.py:117: ImplicitModificationWarning: Transforming to str index.\n",
      "  warnings.warn(\"Transforming to str index.\", ImplicitModificationWarning)\n"
     ]
    },
    {
     "name": "stdout",
     "output_type": "stream",
     "text": [
      "total batch: 40, running batch 11\n",
      "scale 0\n",
      "scale 2, median #cells per radius (r=15): 5.0\n",
      "scale 3\n",
      "scale 1, median #cells per radius (r=15): "
     ]
    },
    {
     "name": "stderr",
     "output_type": "stream",
     "text": [
      "/home/study/anaconda3/envs/bioml/lib/python3.9/site-packages/anndata/_core/anndata.py:117: ImplicitModificationWarning: Transforming to str index.\n",
      "  warnings.warn(\"Transforming to str index.\", ImplicitModificationWarning)\n"
     ]
    },
    {
     "name": "stdout",
     "output_type": "stream",
     "text": [
      "2.0total batch: 40, running batch 12\n"
     ]
    },
    {
     "name": "stderr",
     "output_type": "stream",
     "text": [
      "/home/study/anaconda3/envs/bioml/lib/python3.9/site-packages/anndata/_core/anndata.py:117: ImplicitModificationWarning: Transforming to str index.\n",
      "  warnings.warn(\"Transforming to str index.\", ImplicitModificationWarning)\n"
     ]
    },
    {
     "name": "stdout",
     "output_type": "stream",
     "text": [
      "scale 2\n",
      "\n",
      "scale 0\n",
      "scale 1, median #cells per radius (r=15): 4.0\n",
      "scale 2\n",
      "scale 1, median #cells per radius (r=15): 3.0\n",
      "scale 2\n",
      "scale 1, median #cells per radius (r=15): 2.0\n",
      "scale 2\n",
      "scale 4, median #cells per radius (r=15): 5.0\n",
      "scale 5\n",
      "total batch: 40, running batch 13"
     ]
    },
    {
     "name": "stderr",
     "output_type": "stream",
     "text": [
      "/home/study/anaconda3/envs/bioml/lib/python3.9/site-packages/anndata/_core/anndata.py:117: ImplicitModificationWarning: Transforming to str index.\n",
      "  warnings.warn(\"Transforming to str index.\", ImplicitModificationWarning)\n",
      "/home/study/anaconda3/envs/bioml/lib/python3.9/site-packages/anndata/_core/anndata.py:117: ImplicitModificationWarning: Transforming to str index.\n",
      "  warnings.warn(\"Transforming to str index.\", ImplicitModificationWarning)\n"
     ]
    },
    {
     "name": "stdout",
     "output_type": "stream",
     "text": [
      "\n",
      "scale 0\n",
      "scale 0, median #cells per radius (r=15): 1.0\n",
      "scale 1\n",
      "scale 0, median #cells per radius (r=15): 1.0\n",
      "scale 1\n",
      "scale 1, median #cells per radius (r=15): 4.0\n",
      "scale 2\n",
      "total batch: 40, running batch 14\n",
      "scale 0\n"
     ]
    },
    {
     "name": "stderr",
     "output_type": "stream",
     "text": [
      "/home/study/anaconda3/envs/bioml/lib/python3.9/site-packages/anndata/_core/anndata.py:117: ImplicitModificationWarning: Transforming to str index.\n",
      "  warnings.warn(\"Transforming to str index.\", ImplicitModificationWarning)\n",
      "/home/study/anaconda3/envs/bioml/lib/python3.9/site-packages/anndata/_core/anndata.py:117: ImplicitModificationWarning: Transforming to str index.\n",
      "  warnings.warn(\"Transforming to str index.\", ImplicitModificationWarning)\n"
     ]
    },
    {
     "name": "stdout",
     "output_type": "stream",
     "text": [
      "scale 1, median #cells per radius (r=15): 4.0\n",
      "scale 2scale 2, median #cells per radius (r=15):\n",
      "total batch: 40, running batch 15 \n",
      "3.0scale 0\n",
      "\n",
      "scale 3\n"
     ]
    },
    {
     "name": "stderr",
     "output_type": "stream",
     "text": [
      "/home/study/anaconda3/envs/bioml/lib/python3.9/site-packages/anndata/_core/anndata.py:117: ImplicitModificationWarning: Transforming to str index.\n",
      "  warnings.warn(\"Transforming to str index.\", ImplicitModificationWarning)\n",
      "/home/study/anaconda3/envs/bioml/lib/python3.9/site-packages/anndata/_core/anndata.py:117: ImplicitModificationWarning: Transforming to str index.\n",
      "  warnings.warn(\"Transforming to str index.\", ImplicitModificationWarning)\n"
     ]
    },
    {
     "name": "stdout",
     "output_type": "stream",
     "text": [
      "scale 2, median #cells per radius (r=15): scale 0, median #cells per radius (r=15):3.0 \n",
      "scale 31.0\n",
      "\n",
      "scale 1\n",
      "scale 5, median #cells per radius (r=15): 6.0\n"
     ]
    },
    {
     "name": "stderr",
     "output_type": "stream",
     "text": [
      "/home/study/anaconda3/envs/bioml/lib/python3.9/site-packages/anndata/_core/anndata.py:117: ImplicitModificationWarning: Transforming to str index.\n",
      "  warnings.warn(\"Transforming to str index.\", ImplicitModificationWarning)\n",
      "/home/study/anaconda3/envs/bioml/lib/python3.9/site-packages/anndata/_core/anndata.py:117: ImplicitModificationWarning: Transforming to str index.\n",
      "  warnings.warn(\"Transforming to str index.\", ImplicitModificationWarning)\n"
     ]
    },
    {
     "name": "stdout",
     "output_type": "stream",
     "text": [
      "scale 3, median #cells per radius (r=15): 6.0\n",
      "scale 4\n",
      "total batch: 40, running batch 16\n",
      "scale 0\n",
      "scale 2, median #cells per radius (r=15): 5.0\n",
      "scale 3\n",
      "scale 2, median #cells per radius (r=15): 6.0\n",
      "scale 3\n"
     ]
    },
    {
     "name": "stderr",
     "output_type": "stream",
     "text": [
      "/home/study/anaconda3/envs/bioml/lib/python3.9/site-packages/anndata/_core/anndata.py:117: ImplicitModificationWarning: Transforming to str index.\n",
      "  warnings.warn(\"Transforming to str index.\", ImplicitModificationWarning)\n",
      "/home/study/anaconda3/envs/bioml/lib/python3.9/site-packages/anndata/_core/anndata.py:117: ImplicitModificationWarning: Transforming to str index.\n",
      "  warnings.warn(\"Transforming to str index.\", ImplicitModificationWarning)\n"
     ]
    },
    {
     "name": "stdout",
     "output_type": "stream",
     "text": [
      "scale 0, median #cells per radius (r=15): 1.0scale 1, median #cells per radius (r=15): \n",
      "3.0scale 1\n",
      "\n",
      "scale 2\n",
      "scale 3, median #cells per radius (r=15): 4.0\n",
      "scale 4\n",
      "scale 0, median #cells per radius (r=15): 1.0\n",
      "scale 1\n",
      "total batch: 40, running batch 17\n",
      "scale 3, median #cells per radius (r=15):scale 0 4.0\n",
      "\n",
      "scale 4\n",
      "scale 0, median #cells per radius (r=15): 1.0\n",
      "scale 1\n",
      "scale 2, median #cells per radius (r=15): 6.0\n",
      "scale 3total batch: 40, running batch 18\n",
      "\n",
      "scale 0\n"
     ]
    },
    {
     "name": "stderr",
     "output_type": "stream",
     "text": [
      "/home/study/anaconda3/envs/bioml/lib/python3.9/site-packages/anndata/_core/anndata.py:117: ImplicitModificationWarning: Transforming to str index.\n",
      "  warnings.warn(\"Transforming to str index.\", ImplicitModificationWarning)\n",
      "/home/study/anaconda3/envs/bioml/lib/python3.9/site-packages/anndata/_core/anndata.py:117: ImplicitModificationWarning: Transforming to str index.\n",
      "  warnings.warn(\"Transforming to str index.\", ImplicitModificationWarning)\n"
     ]
    },
    {
     "name": "stdout",
     "output_type": "stream",
     "text": [
      "scale 1, median #cells per radius (r=15): 3.0\n",
      "scale 2\n",
      "scale 0, median #cells per radius (r=15): 1.0\n",
      "scale 1\n",
      "scale 1, median #cells per radius (r=15): 4.0\n",
      "scale 2\n"
     ]
    },
    {
     "name": "stderr",
     "output_type": "stream",
     "text": [
      "/home/study/anaconda3/envs/bioml/lib/python3.9/site-packages/anndata/_core/anndata.py:117: ImplicitModificationWarning: Transforming to str index.\n",
      "  warnings.warn(\"Transforming to str index.\", ImplicitModificationWarning)\n",
      "/home/study/anaconda3/envs/bioml/lib/python3.9/site-packages/anndata/_core/anndata.py:117: ImplicitModificationWarning: Transforming to str index.\n",
      "  warnings.warn(\"Transforming to str index.\", ImplicitModificationWarning)\n"
     ]
    },
    {
     "name": "stdout",
     "output_type": "stream",
     "text": [
      "scale 2, median #cells per radius (r=15): 5.0\n",
      "scale 3\n",
      "total batch: 40, running batch 19\n",
      "scale 0\n",
      "scale 4, median #cells per radius (r=15): 8.0\n",
      "scale 5\n",
      "scale 4, median #cells per radius (r=15): 5.0\n",
      "scale 5\n",
      "scale 4, median #cells per radius (r=15): 5.0\n",
      "scale 5\n",
      "scale 1, median #cells per radius (r=15):"
     ]
    },
    {
     "name": "stderr",
     "output_type": "stream",
     "text": [
      "/home/study/anaconda3/envs/bioml/lib/python3.9/site-packages/anndata/_core/anndata.py:117: ImplicitModificationWarning: Transforming to str index.\n",
      "  warnings.warn(\"Transforming to str index.\", ImplicitModificationWarning)\n"
     ]
    },
    {
     "name": "stdout",
     "output_type": "stream",
     "text": [
      " 2.0\n",
      "scale 2"
     ]
    },
    {
     "name": "stderr",
     "output_type": "stream",
     "text": [
      "/home/study/anaconda3/envs/bioml/lib/python3.9/site-packages/anndata/_core/anndata.py:117: ImplicitModificationWarning: Transforming to str index.\n",
      "  warnings.warn(\"Transforming to str index.\", ImplicitModificationWarning)\n"
     ]
    },
    {
     "name": "stdout",
     "output_type": "stream",
     "text": [
      "\n",
      "scale 3, median #cells per radius (r=15): 7.0\n",
      "scale 4\n",
      "total batch: 40, running batch 20\n",
      "scale 0\n",
      "scale 2, median #cells per radius (r=15): 4.0\n",
      "scale 3\n",
      "scale 3, median #cells per radius (r=15): 8.0\n",
      "scale 4\n"
     ]
    },
    {
     "name": "stderr",
     "output_type": "stream",
     "text": [
      "/home/study/anaconda3/envs/bioml/lib/python3.9/site-packages/anndata/_core/anndata.py:117: ImplicitModificationWarning: Transforming to str index.\n",
      "  warnings.warn(\"Transforming to str index.\", ImplicitModificationWarning)\n",
      "/home/study/anaconda3/envs/bioml/lib/python3.9/site-packages/anndata/_core/anndata.py:117: ImplicitModificationWarning: Transforming to str index.\n",
      "  warnings.warn(\"Transforming to str index.\", ImplicitModificationWarning)\n"
     ]
    },
    {
     "name": "stdout",
     "output_type": "stream",
     "text": [
      "scale 1, median #cells per radius (r=15): total batch: 40, running batch 214.0\n",
      "\n",
      "scale 0scale 2\n",
      "\n",
      "scale 5, median #cells per radius (r=15): 7.0\n"
     ]
    },
    {
     "name": "stderr",
     "output_type": "stream",
     "text": [
      "/home/study/anaconda3/envs/bioml/lib/python3.9/site-packages/anndata/_core/anndata.py:117: ImplicitModificationWarning: Transforming to str index.\n",
      "  warnings.warn(\"Transforming to str index.\", ImplicitModificationWarning)\n",
      "/home/study/anaconda3/envs/bioml/lib/python3.9/site-packages/anndata/_core/anndata.py:117: ImplicitModificationWarning: Transforming to str index.\n",
      "  warnings.warn(\"Transforming to str index.\", ImplicitModificationWarning)\n"
     ]
    },
    {
     "name": "stdout",
     "output_type": "stream",
     "text": [
      "scale 1, median #cells per radius (r=15): 4.0scale 2, median #cells per radius (r=15):\n",
      " 4.0\n",
      "scale 2scale 3\n",
      "\n",
      "scale 2, median #cells per radius (r=15): 3.0\n",
      "scale 3\n",
      "scale 0, median #cells per radius (r=15): 1.0\n",
      "scale 1\n",
      "scale 5, median #cells per radius (r=15): 6.0\n",
      "total batch: 40, running batch 22\n",
      "scale 0\n",
      "scale 3, median #cells per radius (r=15): 8.0\n",
      "scale 4\n",
      "scale 0, median #cells per radius (r=15): 1.0\n",
      "scale 1\n",
      "scale 0, median #cells per radius (r=15):1.0 \n",
      "scale 1\n",
      "scale 5, median #cells per radius (r=15): 9.0\n",
      "scale 0, median #cells per radius (r=15): 1.0\n",
      "scale 1scale 0, median #cells per radius (r=15):\n",
      " 1.0\n",
      "scale 1\n",
      "scale 3, median #cells per radius (r=15):"
     ]
    },
    {
     "name": "stderr",
     "output_type": "stream",
     "text": [
      "/home/study/anaconda3/envs/bioml/lib/python3.9/site-packages/anndata/_core/anndata.py:117: ImplicitModificationWarning: Transforming to str index.\n",
      "  warnings.warn(\"Transforming to str index.\", ImplicitModificationWarning)\n"
     ]
    },
    {
     "name": "stdout",
     "output_type": "stream",
     "text": [
      " "
     ]
    },
    {
     "name": "stderr",
     "output_type": "stream",
     "text": [
      "/home/study/anaconda3/envs/bioml/lib/python3.9/site-packages/anndata/_core/anndata.py:117: ImplicitModificationWarning: Transforming to str index.\n",
      "  warnings.warn(\"Transforming to str index.\", ImplicitModificationWarning)\n"
     ]
    },
    {
     "name": "stdout",
     "output_type": "stream",
     "text": [
      "7.0\n",
      "scale 4\n",
      "scale 4, median #cells per radius (r=15):scale 3, median #cells per radius (r=15):  6.08.0\n",
      "scale 4\n",
      "\n",
      "scale 5\n",
      "total batch: 40, running batch 23\n",
      "\n",
      "scale 0scale 2, median #cells per radius (r=15): 6.0\n",
      "scale 3\n"
     ]
    },
    {
     "name": "stderr",
     "output_type": "stream",
     "text": [
      "/home/study/anaconda3/envs/bioml/lib/python3.9/site-packages/anndata/_core/anndata.py:117: ImplicitModificationWarning: Transforming to str index.\n",
      "  warnings.warn(\"Transforming to str index.\", ImplicitModificationWarning)\n",
      "/home/study/anaconda3/envs/bioml/lib/python3.9/site-packages/anndata/_core/anndata.py:117: ImplicitModificationWarning: Transforming to str index.\n",
      "  warnings.warn(\"Transforming to str index.\", ImplicitModificationWarning)\n"
     ]
    },
    {
     "name": "stdout",
     "output_type": "stream",
     "text": [
      "scale 4, median #cells per radius (r=15):scale 1, median #cells per radius (r=15):  10.05.0\n",
      "scale 5\n",
      "\n",
      "scale 2\n",
      "scale 3, median #cells per radius (r=15): 4.0\n",
      "scale 4\n",
      "scale 0, median #cells per radius (r=15): 1.0\n",
      "scale 1\n",
      "total batch: 40, running batch 24\n",
      "scale 0\n",
      "scale 3, median #cells per radius (r=15): 6.0\n",
      "scale 4\n",
      "scale 0, median #cells per radius (r=15): 1.0\n",
      "scale 1\n"
     ]
    },
    {
     "name": "stderr",
     "output_type": "stream",
     "text": [
      "/home/study/anaconda3/envs/bioml/lib/python3.9/site-packages/anndata/_core/anndata.py:117: ImplicitModificationWarning: Transforming to str index.\n",
      "  warnings.warn(\"Transforming to str index.\", ImplicitModificationWarning)\n",
      "/home/study/anaconda3/envs/bioml/lib/python3.9/site-packages/anndata/_core/anndata.py:117: ImplicitModificationWarning: Transforming to str index.\n",
      "  warnings.warn(\"Transforming to str index.\", ImplicitModificationWarning)\n"
     ]
    },
    {
     "name": "stdout",
     "output_type": "stream",
     "text": [
      "scale 4, median #cells per radius (r=15): 7.0\n",
      "scale 5\n",
      "scale 1, median #cells per radius (r=15): 3.0\n",
      "scale 2\n",
      "total batch: 40, running batch 25\n",
      "scale 0\n",
      "scale 2, median #cells per radius (r=15): 5.0\n",
      "scale 3\n"
     ]
    },
    {
     "name": "stderr",
     "output_type": "stream",
     "text": [
      "/home/study/anaconda3/envs/bioml/lib/python3.9/site-packages/anndata/_core/anndata.py:117: ImplicitModificationWarning: Transforming to str index.\n",
      "  warnings.warn(\"Transforming to str index.\", ImplicitModificationWarning)\n",
      "/home/study/anaconda3/envs/bioml/lib/python3.9/site-packages/anndata/_core/anndata.py:117: ImplicitModificationWarning: Transforming to str index.\n",
      "  warnings.warn(\"Transforming to str index.\", ImplicitModificationWarning)\n"
     ]
    },
    {
     "name": "stdout",
     "output_type": "stream",
     "text": [
      "scale 4, median #cells per radius (r=15): 10.0\n",
      "scale 5\n",
      "scale 1, median #cells per radius (r=15): 3.0\n",
      "scale 2\n",
      "total batch: 40, running batch 26\n",
      "scale 0\n",
      "scale 1, median #cells per radius (r=15):scale 1, median #cells per radius (r=15):scale 4, median #cells per radius (r=15):  2.05.0\n",
      "4.0scale 2\n",
      " \n",
      "\n",
      "scale 5scale 2\n",
      "\n",
      "scale 2, median #cells per radius (r=15): scale 0, median #cells per radius (r=15):6.0\n",
      "scale 3 \n",
      "1.0\n",
      "scale 1\n",
      "total batch: 40, running batch 27\n",
      "scale 0scale 4, median #cells per radius (r=15):scale 1, median #cells per radius (r=15):\n",
      "  9.03.0\n",
      "scale 5\n",
      "\n",
      "scale 2\n"
     ]
    },
    {
     "name": "stderr",
     "output_type": "stream",
     "text": [
      "/home/study/anaconda3/envs/bioml/lib/python3.9/site-packages/anndata/_core/anndata.py:117: ImplicitModificationWarning: Transforming to str index.\n",
      "  warnings.warn(\"Transforming to str index.\", ImplicitModificationWarning)\n",
      "/home/study/anaconda3/envs/bioml/lib/python3.9/site-packages/anndata/_core/anndata.py:117: ImplicitModificationWarning: Transforming to str index.\n",
      "  warnings.warn(\"Transforming to str index.\", ImplicitModificationWarning)\n"
     ]
    },
    {
     "name": "stdout",
     "output_type": "stream",
     "text": [
      "1.0scale 0, median #cells per radius (r=15): \n",
      "scale 1\n",
      "scale 1, median #cells per radius (r=15): 6.0\n",
      "scale 2\n",
      "scale 0, median #cells per radius (r=15): 1.0\n"
     ]
    },
    {
     "name": "stderr",
     "output_type": "stream",
     "text": [
      "/home/study/anaconda3/envs/bioml/lib/python3.9/site-packages/anndata/_core/anndata.py:117: ImplicitModificationWarning: Transforming to str index.\n",
      "  warnings.warn(\"Transforming to str index.\", ImplicitModificationWarning)\n",
      "/home/study/anaconda3/envs/bioml/lib/python3.9/site-packages/anndata/_core/anndata.py:117: ImplicitModificationWarning: Transforming to str index.\n",
      "  warnings.warn(\"Transforming to str index.\", ImplicitModificationWarning)\n"
     ]
    },
    {
     "name": "stdout",
     "output_type": "stream",
     "text": [
      "scale 1\n",
      "scale 3, median #cells per radius (r=15): 8.0\n",
      "scale 4\n",
      "scale 2, median #cells per radius (r=15): 5.0\n",
      "scale 3\n",
      "scale 2, median #cells per radius (r=15): 3.0total batch: 40, running batch 28\n",
      "\n",
      "scale 3\n",
      "scale 0\n",
      "scale 2, median #cells per radius (r=15):10.0 7.0scale 5, median #cells per radius (r=15):\n",
      " scale 3\n",
      "\n",
      "scale 1, median #cells per radius (r=15):scale 4, median #cells per radius (r=15):scale 1, median #cells per radius (r=15):   8.04.0\n",
      "scale 5, median #cells per radius (r=15):scale 5\n",
      "scale 2\n",
      "2.0scale 5, median #cells per radius (r=15):\n",
      "\n",
      " 6.0\n",
      "scale 2"
     ]
    },
    {
     "name": "stderr",
     "output_type": "stream",
     "text": [
      "/home/study/anaconda3/envs/bioml/lib/python3.9/site-packages/anndata/_core/anndata.py:117: ImplicitModificationWarning: Transforming to str index.\n",
      "  warnings.warn(\"Transforming to str index.\", ImplicitModificationWarning)\n",
      "/home/study/anaconda3/envs/bioml/lib/python3.9/site-packages/anndata/_core/anndata.py:117: ImplicitModificationWarning: Transforming to str index.\n",
      "  warnings.warn(\"Transforming to str index.\", ImplicitModificationWarning)\n"
     ]
    },
    {
     "name": "stdout",
     "output_type": "stream",
     "text": [
      " 9.0\n",
      "\n",
      "scale 2, median #cells per radius (r=15): 5.0\n",
      "scale 3\n",
      "scale 5, median #cells per radius (r=15): 12.0\n",
      "scale 0, median #cells per radius (r=15): 1.0\n",
      "scale 1\n",
      "total batch: 40, running batch 29\n",
      "scale 0\n",
      "scale 2, median #cells per radius (r=15): 3.0\n",
      "scale 3\n",
      "scale 5, median #cells per radius (r=15): 13.0\n",
      "\n"
     ]
    },
    {
     "name": "stderr",
     "output_type": "stream",
     "text": [
      "/home/study/anaconda3/envs/bioml/lib/python3.9/site-packages/anndata/_core/anndata.py:117: ImplicitModificationWarning: Transforming to str index.\n",
      "  warnings.warn(\"Transforming to str index.\", ImplicitModificationWarning)\n",
      "/home/study/anaconda3/envs/bioml/lib/python3.9/site-packages/anndata/_core/anndata.py:117: ImplicitModificationWarning: Transforming to str index.\n",
      "  warnings.warn(\"Transforming to str index.\", ImplicitModificationWarning)\n"
     ]
    },
    {
     "name": "stdout",
     "output_type": "stream",
     "text": [
      "scale 2, median #cells per radius (r=15): 5.0scale 3scale 2, median #cells per radius (r=15): \n",
      "5.0\n",
      "scale 3\n",
      "scale 0, median #cells per radius (r=15): 1.0\n",
      "scale 1\n",
      "scale 1, median #cells per radius (r=15): 3.0\n",
      "scale 2scale 4, median #cells per radius (r=15):\n",
      " 10.0\n",
      "scale 5\n",
      "total batch: 40, running batch 31\n",
      "scale 0\n",
      "scale 3, median #cells per radius (r=15): 4.0\n",
      "scale 5, median #cells per radius (r=15): scale 411.0\n",
      "\n",
      "scale 3, median #cells per radius (r=15): 8.0\n",
      "scale 4\n",
      "total batch: 40, running batch 32\n",
      "scale 0\n"
     ]
    },
    {
     "name": "stderr",
     "output_type": "stream",
     "text": [
      "/home/study/anaconda3/envs/bioml/lib/python3.9/site-packages/anndata/_core/anndata.py:117: ImplicitModificationWarning: Transforming to str index.\n",
      "  warnings.warn(\"Transforming to str index.\", ImplicitModificationWarning)\n",
      "/home/study/anaconda3/envs/bioml/lib/python3.9/site-packages/anndata/_core/anndata.py:117: ImplicitModificationWarning: Transforming to str index.\n",
      "  warnings.warn(\"Transforming to str index.\", ImplicitModificationWarning)\n"
     ]
    },
    {
     "name": "stdout",
     "output_type": "stream",
     "text": [
      "scale 3, median #cells per radius (r=15): 6.0\n",
      "scale 4\n",
      "scale 3, median #cells per radius (r=15): 4.0scale 0, median #cells per radius (r=15): \n",
      "1.0scale 4\n",
      "\n",
      "scale 1\n",
      "scale 1, median #cells per radius (r=15): 3.0\n",
      "scale 2\n",
      "scale 3, median #cells per radius (r=15): 8.0\n",
      "scale 4\n"
     ]
    },
    {
     "name": "stderr",
     "output_type": "stream",
     "text": [
      "/home/study/anaconda3/envs/bioml/lib/python3.9/site-packages/anndata/_core/anndata.py:117: ImplicitModificationWarning: Transforming to str index.\n",
      "  warnings.warn(\"Transforming to str index.\", ImplicitModificationWarning)\n"
     ]
    },
    {
     "name": "stdout",
     "output_type": "stream",
     "text": [
      "scale 2, median #cells per radius (r=15):"
     ]
    },
    {
     "name": "stderr",
     "output_type": "stream",
     "text": [
      "/home/study/anaconda3/envs/bioml/lib/python3.9/site-packages/anndata/_core/anndata.py:117: ImplicitModificationWarning: Transforming to str index.\n",
      "  warnings.warn(\"Transforming to str index.\", ImplicitModificationWarning)\n"
     ]
    },
    {
     "name": "stdout",
     "output_type": "stream",
     "text": [
      " \n",
      "3.09.0\n",
      "scale 3scale 1, median #cells per radius (r=15):\n",
      " scale 2\n",
      "total batch: 40, running batch 33\n",
      "scale 0\n"
     ]
    },
    {
     "name": "stderr",
     "output_type": "stream",
     "text": [
      "/home/study/anaconda3/envs/bioml/lib/python3.9/site-packages/anndata/_core/anndata.py:117: ImplicitModificationWarning: Transforming to str index.\n",
      "  warnings.warn(\"Transforming to str index.\", ImplicitModificationWarning)\n",
      "/home/study/anaconda3/envs/bioml/lib/python3.9/site-packages/anndata/_core/anndata.py:117: ImplicitModificationWarning: Transforming to str index.\n",
      "  warnings.warn(\"Transforming to str index.\", ImplicitModificationWarning)\n"
     ]
    },
    {
     "name": "stdout",
     "output_type": "stream",
     "text": [
      "scale 4, median #cells per radius (r=15): 5.0\n",
      "scale 5scale 3, median #cells per radius (r=15):\n",
      " 6.0\n",
      "scale 4\n",
      "scale 2, median #cells per radius (r=15): 4.0\n",
      "scale 3\n",
      "scale 2, median #cells per radius (r=15): 6.0\n",
      "scale 3total batch: 40, running batch 34\n",
      "scale 0\n",
      "\n",
      "scale 0, median #cells per radius (r=15):scale 4, median #cells per radius (r=15):  5.01.0\n",
      "\n",
      "scale 0, median #cells per radius (r=15):scale 1scale 5\n",
      " \n",
      "1.0\n",
      "scale 1\n"
     ]
    },
    {
     "name": "stderr",
     "output_type": "stream",
     "text": [
      "/home/study/anaconda3/envs/bioml/lib/python3.9/site-packages/anndata/_core/anndata.py:117: ImplicitModificationWarning: Transforming to str index.\n",
      "  warnings.warn(\"Transforming to str index.\", ImplicitModificationWarning)\n"
     ]
    },
    {
     "name": "stdout",
     "output_type": "stream",
     "text": [
      "scale 4, median #cells per radius (r=15): 8.0\n",
      "\n",
      "scale 5\n"
     ]
    },
    {
     "name": "stderr",
     "output_type": "stream",
     "text": [
      "/home/study/anaconda3/envs/bioml/lib/python3.9/site-packages/anndata/_core/anndata.py:117: ImplicitModificationWarning: Transforming to str index.\n",
      "  warnings.warn(\"Transforming to str index.\", ImplicitModificationWarning)\n"
     ]
    },
    {
     "name": "stdout",
     "output_type": "stream",
     "text": [
      "scale 0, median #cells per radius (r=15): 1.0\n",
      "scale 4, median #cells per radius (r=15):scale 1 10.0\n",
      "scale 5\n",
      "scale 5, median #cells per radius (r=15):total batch: 40, running batch 35 \n",
      "scale 010.0\n",
      "\n",
      "scale 0, median #cells per radius (r=15): 1.0\n",
      "scale 1\n",
      "scale 5, median #cells per radius (r=15): 12.0\n",
      "scale 2, median #cells per radius (r=15): 4.0"
     ]
    },
    {
     "name": "stderr",
     "output_type": "stream",
     "text": [
      "/home/study/anaconda3/envs/bioml/lib/python3.9/site-packages/anndata/_core/anndata.py:117: ImplicitModificationWarning: Transforming to str index.\n",
      "  warnings.warn(\"Transforming to str index.\", ImplicitModificationWarning)\n"
     ]
    },
    {
     "name": "stdout",
     "output_type": "stream",
     "text": [
      "\n"
     ]
    },
    {
     "name": "stderr",
     "output_type": "stream",
     "text": [
      "/home/study/anaconda3/envs/bioml/lib/python3.9/site-packages/anndata/_core/anndata.py:117: ImplicitModificationWarning: Transforming to str index.\n",
      "  warnings.warn(\"Transforming to str index.\", ImplicitModificationWarning)\n"
     ]
    },
    {
     "name": "stdout",
     "output_type": "stream",
     "text": [
      "\n",
      "scale 3total batch: 40, running batch 36scale 1, median #cells per radius (r=15):\n",
      " scale 0\n",
      "6.0\n",
      "scale 2scale 5, median #cells per radius (r=15):\n",
      " 6.0\n",
      "scale 1, median #cells per radius (r=15): scale 1, median #cells per radius (r=15):2.0scale 2, median #cells per radius (r=15):\n",
      " 4.0scale 2\n",
      " \n",
      "4.0\n",
      "scale 2\n",
      "scale 3\n",
      "scale 5, median #cells per radius (r=15): 9.0\n"
     ]
    },
    {
     "name": "stderr",
     "output_type": "stream",
     "text": [
      "/home/study/anaconda3/envs/bioml/lib/python3.9/site-packages/anndata/_core/anndata.py:117: ImplicitModificationWarning: Transforming to str index.\n",
      "  warnings.warn(\"Transforming to str index.\", ImplicitModificationWarning)\n",
      "/home/study/anaconda3/envs/bioml/lib/python3.9/site-packages/anndata/_core/anndata.py:117: ImplicitModificationWarning: Transforming to str index.\n",
      "  warnings.warn(\"Transforming to str index.\", ImplicitModificationWarning)\n"
     ]
    },
    {
     "name": "stdout",
     "output_type": "stream",
     "text": [
      "scale 3, median #cells per radius (r=15): 9.0\n",
      "scale 4\n",
      "scale 3, median #cells per radius (r=15): total batch: 40, running batch 377.0\n",
      "\n",
      "scale 4scale 0\n",
      "\n",
      "scale 3, median #cells per radius (r=15): 7.0\n",
      "scale 4\n",
      "scale 1, median #cells per radius (r=15): 2.0\n",
      "scale 2\n",
      "scale 2, median #cells per radius (r=15): scale 1, median #cells per radius (r=15):2.0 \n",
      "scale 32.0\n",
      "\n"
     ]
    },
    {
     "name": "stderr",
     "output_type": "stream",
     "text": [
      "/home/study/anaconda3/envs/bioml/lib/python3.9/site-packages/anndata/_core/anndata.py:117: ImplicitModificationWarning: Transforming to str index.\n",
      "  warnings.warn(\"Transforming to str index.\", ImplicitModificationWarning)\n"
     ]
    },
    {
     "name": "stdout",
     "output_type": "stream",
     "text": [
      "scale 2\n",
      "scale 4, median #cells per radius (r=15):"
     ]
    },
    {
     "name": "stderr",
     "output_type": "stream",
     "text": [
      "/home/study/anaconda3/envs/bioml/lib/python3.9/site-packages/anndata/_core/anndata.py:117: ImplicitModificationWarning: Transforming to str index.\n",
      "  warnings.warn(\"Transforming to str index.\", ImplicitModificationWarning)\n"
     ]
    },
    {
     "name": "stdout",
     "output_type": "stream",
     "text": [
      " 11.0\n",
      "scale 5\n",
      "scale 4, median #cells per radius (r=15): 8.0scale 5, median #cells per radius (r=15):\n",
      " scale 56.0\n",
      "\n",
      "scale 0, median #cells per radius (r=15): 1.0\n",
      "scale 1\n",
      "scale 3, median #cells per radius (r=15): 12.0\n",
      "scale 4\n",
      "scale 3, median #cells per radius (r=15):total batch: 40, running batch 38scale 0, median #cells per radius (r=15): 5.0\n",
      " scale 4\n",
      "1.0scale 0\n",
      "\n",
      "\n",
      "scale 1\n",
      "scale 3, median #cells per radius (r=15): 3.0\n",
      "scale 4\n",
      "scale 1, median #cells per radius (r=15): 3.0\n",
      "scale 2\n",
      "scale 2, median #cells per radius (r=15): 6.0\n",
      "scale 3\n",
      "scale 3, median #cells per radius (r=15): 9.0\n",
      "scale 4\n"
     ]
    },
    {
     "name": "stderr",
     "output_type": "stream",
     "text": [
      "/home/study/anaconda3/envs/bioml/lib/python3.9/site-packages/anndata/_core/anndata.py:117: ImplicitModificationWarning: Transforming to str index.\n",
      "  warnings.warn(\"Transforming to str index.\", ImplicitModificationWarning)\n",
      "/home/study/anaconda3/envs/bioml/lib/python3.9/site-packages/anndata/_core/anndata.py:117: ImplicitModificationWarning: Transforming to str index.\n",
      "  warnings.warn(\"Transforming to str index.\", ImplicitModificationWarning)\n"
     ]
    },
    {
     "name": "stdout",
     "output_type": "stream",
     "text": [
      "scale 5, median #cells per radius (r=15): 12.0\n",
      "scale 3, median #cells per radius (r=15): 5.0\n",
      "scale 4\n",
      "total batch: 40, running batch 39\n",
      "scale 0\n",
      "scale 2, median #cells per radius (r=15): 3.0\n",
      "scale 3\n",
      "scale 4, median #cells per radius (r=15): 9.0\n",
      "scale 2, median #cells per radius (r=15): scale 5\n",
      "3.0\n",
      "scale 3\n",
      "scale 4, median #cells per radius (r=15): 4.0\n",
      "scale 5\n"
     ]
    },
    {
     "name": "stderr",
     "output_type": "stream",
     "text": [
      "/home/study/anaconda3/envs/bioml/lib/python3.9/site-packages/anndata/_core/anndata.py:117: ImplicitModificationWarning: Transforming to str index.\n",
      "  warnings.warn(\"Transforming to str index.\", ImplicitModificationWarning)\n",
      "/home/study/anaconda3/envs/bioml/lib/python3.9/site-packages/anndata/_core/anndata.py:117: ImplicitModificationWarning: Transforming to str index.\n",
      "  warnings.warn(\"Transforming to str index.\", ImplicitModificationWarning)\n"
     ]
    },
    {
     "name": "stdout",
     "output_type": "stream",
     "text": [
      "total batch: 40, running batch 40\n",
      "scale 0\n",
      "scale 3, median #cells per radius (r=15): 6.0\n",
      "scale 4\n",
      "scale 0, median #cells per radius (r=15): 1.0\n",
      "scale 1\n",
      "scale 1, median #cells per radius (r=15): 2.0\n",
      "scale 2\n",
      "scale 5, median #cells per radius (r=15): 4.0\n",
      "total batch: 40, running batch 41\n",
      "scale 0\n",
      "scale 3, median #cells per radius (r=15): 4.0\n",
      "scale 4\n"
     ]
    },
    {
     "name": "stderr",
     "output_type": "stream",
     "text": [
      "/home/study/anaconda3/envs/bioml/lib/python3.9/site-packages/anndata/_core/anndata.py:117: ImplicitModificationWarning: Transforming to str index.\n",
      "  warnings.warn(\"Transforming to str index.\", ImplicitModificationWarning)\n",
      "/home/study/anaconda3/envs/bioml/lib/python3.9/site-packages/anndata/_core/anndata.py:117: ImplicitModificationWarning: Transforming to str index.\n",
      "  warnings.warn(\"Transforming to str index.\", ImplicitModificationWarning)\n"
     ]
    },
    {
     "name": "stdout",
     "output_type": "stream",
     "text": [
      "scale 3, median #cells per radius (r=15):"
     ]
    },
    {
     "name": "stderr",
     "output_type": "stream",
     "text": [
      "/home/study/anaconda3/envs/bioml/lib/python3.9/site-packages/anndata/_core/anndata.py:117: ImplicitModificationWarning: Transforming to str index.\n",
      "  warnings.warn(\"Transforming to str index.\", ImplicitModificationWarning)\n"
     ]
    },
    {
     "name": "stdout",
     "output_type": "stream",
     "text": [
      " 4.0"
     ]
    },
    {
     "name": "stderr",
     "output_type": "stream",
     "text": [
      "/home/study/anaconda3/envs/bioml/lib/python3.9/site-packages/anndata/_core/anndata.py:117: ImplicitModificationWarning: Transforming to str index.\n",
      "  warnings.warn(\"Transforming to str index.\", ImplicitModificationWarning)\n"
     ]
    },
    {
     "name": "stdout",
     "output_type": "stream",
     "text": [
      "\n",
      "scale 4\n",
      "scale 4, median #cells per radius (r=15): scale 0, median #cells per radius (r=15): 9.01.0\n",
      "\n",
      "scale 1scale 5\n",
      "\n",
      "scale 2, median #cells per radius (r=15): 4.0\n",
      "scale 3\n",
      "scale 0, median #cells per radius (r=15): 1.0\n",
      "scale 1\n",
      "scale 0, median #cells per radius (r=15): 1.0\n",
      "scale 1scale 2, median #cells per radius (r=15):\n",
      " 3.0\n",
      "scale 3\n",
      "scale 1, median #cells per radius (r=15): 4.0\n",
      "scale 2\n",
      "scale 5, median #cells per radius (r=15): 10.0\n",
      "scale 2, median #cells per radius (r=15): 8.0\n",
      "scale 3\n",
      "scale 4, median #cells per radius (r=15): 7.0\n",
      "scale 4, median #cells per radius (r=15):scale 5\n",
      " 15.0scale 3, median #cells per radius (r=15):\n",
      " scale 58.0\n",
      "\n",
      "scale 4\n",
      "scale 4, median #cells per radius (r=15): 7.0\n",
      "scale 5\n",
      "scale 4, median #cells per radius (r=15): 5.0\n",
      "scale 5\n",
      "scale 4, median #cells per radius (r=15): 7.0\n",
      "scale 5\n",
      "scale 1, median #cells per radius (r=15): 3.0\n",
      "scale 2scale 4, median #cells per radius (r=15):\n",
      " 11.0\n",
      "scale 5\n",
      "scale 3, median #cells per radius (r=15): 4.0\n",
      "scale 5, median #cells per radius (r=15): scale 413.0\n",
      "\n",
      "scale 4, median #cells per radius (r=15): 5.0\n",
      "scale 5scale 0, median #cells per radius (r=15): \n",
      "1.0\n",
      "scale 1\n",
      "scale 5, median #cells per radius (r=15): 5.0\n",
      "scale 4, median #cells per radius (r=15): 12.0\n",
      "scale 5\n",
      "scale 0, median #cells per radius (r=15): 1.0\n",
      "scale 1\n",
      "scale 1, median #cells per radius (r=15): 5.0\n",
      "scale 2scale 1, median #cells per radius (r=15):scale 2, median #cells per radius (r=15):\n",
      "scale 3, median #cells per radius (r=15):  5.03.0 \n",
      "6.0\n",
      "\n",
      "scale 2scale 3scale 4\n",
      "\n",
      "\n",
      "scale 5, median #cells per radius (r=15): 10.0\n",
      "scale 3, median #cells per radius (r=15): 12.0\n",
      "scale 4\n",
      "scale 4, median #cells per radius (r=15):scale 5, median #cells per radius (r=15):  5.0\n",
      "9.0scale 5\n",
      "\n",
      "scale 1, median #cells per radius (r=15): 4.0\n",
      "scale 2\n",
      "scale 2, median #cells per radius (r=15): 4.0\n",
      "scale 3\n",
      "scale 5, median #cells per radius (r=15): 8.0\n",
      "scale 5, median #cells per radius (r=15): 7.0\n",
      "scale 5, median #cells per radius (r=15): 8.0\n",
      "scale 5, median #cells per radius (r=15): 11.0\n",
      "scale 1, median #cells per radius (r=15): 3.0\n",
      "scale 2\n",
      "scale 5, median #cells per radius (r=15): 6.0\n",
      "scale 2, median #cells per radius (r=15): 4.0\n",
      "scale 3\n",
      "scale 1, median #cells per radius (r=15): 3.0\n",
      "scale 2\n",
      "scale 4, median #cells per radius (r=15): 8.0\n",
      "scale 5\n",
      "scale 4, median #cells per radius (r=15): 10.0\n",
      "scale 5\n",
      "scale 5, median #cells per radius (r=15): 13.0\n",
      "scale 5, median #cells per radius (r=15): 15.0\n",
      "scale 3, median #cells per radius (r=15): 5.0\n",
      "scale 4\n",
      "scale 3, median #cells per radius (r=15): 7.0\n",
      "scale 4\n",
      "scale 4, median #cells per radius (r=15): 15.0\n",
      "scale 5\n",
      "scale 5, median #cells per radius (r=15): 18.0\n",
      "scale 2, median #cells per radius (r=15):\n",
      " 8.0scale 3\n",
      "scale 2, median #cells per radius (r=15): 6.0\n",
      "scale 3\n",
      "scale 2, median #cells per radius (r=15): 4.0\n",
      "scale 3\n",
      "scale 3, median #cells per radius (r=15): 5.0\n",
      "scale 4\n",
      "scale 2, median #cells per radius (r=15): 5.0\n",
      "scale 3\n",
      "scale 5, median #cells per radius (r=15): 9.0\n",
      "scale 4, median #cells per radius (r=15): 7.0\n",
      "scale 5\n",
      "scale 5, median #cells per radius (r=15): 12.0\n",
      "scale 4, median #cells per radius (r=15): 7.0\n",
      "scale 5\n",
      "scale 4, median #cells per radius (r=15): 9.0\n",
      "scale 5\n",
      "scale 3, median #cells per radius (r=15): 6.0\n",
      "scale 4\n",
      "scale 3, median #cells per radius (r=15): 6.0\n",
      "scale 4\n",
      "scale 3, median #cells per radius (r=15): 8.0\n",
      "scale 4\n",
      "scale 5, median #cells per radius (r=15): 8.0\n",
      "scale 5, median #cells per radius (r=15): 18.0\n",
      "scale 3, median #cells per radius (r=15): 11.0\n",
      "scale 4\n",
      "scale 5, median #cells per radius (r=15): 8.0\n",
      "scale 4, median #cells per radius (r=15): 7.0\n",
      "scale 5\n",
      "scale 4, median #cells per radius (r=15): 7.0\n",
      "scale 5\n",
      "scale 5, median #cells per radius (r=15): 10.0\n",
      "scale 4, median #cells per radius (r=15): 10.0\n",
      "scale 5\n",
      "scale 5, median #cells per radius (r=15): 9.0\n",
      "scale 5, median #cells per radius (r=15): 9.0\n",
      "scale 4, median #cells per radius (r=15): 14.0\n",
      "scale 5\n",
      "scale 5, median #cells per radius (r=15): 12.0\n",
      "scale 5, median #cells per radius (r=15): 17.0\n"
     ]
    },
    {
     "name": "stderr",
     "output_type": "stream",
     "text": [
      "/home/study/anaconda3/envs/bioml/lib/python3.9/site-packages/anndata/_core/anndata.py:1755: FutureWarning: The AnnData.concatenate method is deprecated in favour of the anndata.concat function. Please use anndata.concat instead.\n",
      "\n",
      "See the tutorial for concat at: https://anndata.readthedocs.io/en/latest/concatenation.html\n",
      "  warnings.warn(\n",
      "/home/study/anaconda3/envs/bioml/lib/python3.9/site-packages/tqdm/auto.py:21: TqdmWarning: IProgress not found. Please update jupyter and ipywidgets. See https://ipywidgets.readthedocs.io/en/stable/user_install.html\n",
      "  from .autonotebook import tqdm as notebook_tqdm\n"
     ]
    },
    {
     "name": "stdout",
     "output_type": "stream",
     "text": [
      "searching resolution to k=13\n",
      "Res =  0.1 Num of clusters =  6\n",
      "Res =  0.15000000000000002 Num of clusters =  9\n",
      "Res changed to 0.15000000000000002\n",
      "Res =  0.2 Num of clusters =  9\n",
      "Res changed to 0.2\n",
      "Res =  0.25 Num of clusters =  15\n",
      "Res changed to 0.2\n",
      "Res =  0.225 Num of clusters =  11\n",
      "Res changed to 0.225\n",
      "Res =  0.25 Num of clusters =  15\n",
      "Res changed to 0.225\n",
      "Res =  0.23750000000000002 Num of clusters =  14\n",
      "Res changed to 0.225\n",
      "Res =  0.23125 Num of clusters =  11\n",
      "Res changed to 0.23125\n",
      "Res =  0.23750000000000002 Num of clusters =  14\n",
      "Res changed to 0.23125\n",
      "Res =  0.234375 Num of clusters =  13\n",
      "recommended res =  0.234375\n"
     ]
    },
    {
     "data": {
      "text/plain": [
       "          SampleID  cellLabelInImage  cellSize  tumorYN  tumorCluster   \n",
       "0-0              1                 2       146        1             0  \\\n",
       "1-0              1                 3       102        0             0   \n",
       "2-0              1                 4        43        1             0   \n",
       "3-0              1                 5       211        1             0   \n",
       "4-0              1                 6       177        0             0   \n",
       "...            ...               ...       ...      ...           ...   \n",
       "197673-39       41              5093        90        1             0   \n",
       "197674-39       41              5094       132        1            21   \n",
       "197675-39       41              5095       123        0             0   \n",
       "197676-39       41              5096        99        0             0   \n",
       "197677-39       41              5097        66        0             0   \n",
       "\n",
       "                            Group  immuneCluster   immuneGroup UniqueID   \n",
       "0-0        Keratin-positive tumor              0           NaN      1_2  \\\n",
       "1-0                        Immune             46         CD3 T      1_3   \n",
       "2-0        Keratin-positive tumor              0           NaN      1_4   \n",
       "3-0        Keratin-positive tumor              0           NaN      1_5   \n",
       "4-0                        Immune             75             B      1_6   \n",
       "...                           ...            ...           ...      ...   \n",
       "197673-39  Keratin-positive tumor              0           NaN  41_5093   \n",
       "197674-39                   Tumor              0           NaN  41_5094   \n",
       "197675-39                  Immune             31   Macrophages  41_5095   \n",
       "197676-39                  Immune             56  Other immune  41_5096   \n",
       "197677-39                  Immune             65             B  41_5097   \n",
       "\n",
       "                      subtype batch leiden MENDER_leiden_k13 MENDER  \n",
       "0-0                     Mixed     0      8                 8      8  \n",
       "1-0                     Mixed     0      1                 1      1  \n",
       "2-0                     Mixed     0      4                 4      4  \n",
       "3-0                     Mixed     0      0                 0      0  \n",
       "4-0                     Mixed     0      2                 2      2  \n",
       "...                       ...   ...    ...               ...    ...  \n",
       "197673-39  Compartimentalized    39      0                 0      0  \n",
       "197674-39  Compartimentalized    39      2                 2      2  \n",
       "197675-39  Compartimentalized    39      2                 2      2  \n",
       "197676-39  Compartimentalized    39      7                 7      7  \n",
       "197677-39  Compartimentalized    39      7                 7      7  \n",
       "\n",
       "[197678 rows x 14 columns]"
      ],
      "text/html": [
       "<div>\n",
       "<style scoped>\n",
       "    .dataframe tbody tr th:only-of-type {\n",
       "        vertical-align: middle;\n",
       "    }\n",
       "\n",
       "    .dataframe tbody tr th {\n",
       "        vertical-align: top;\n",
       "    }\n",
       "\n",
       "    .dataframe thead th {\n",
       "        text-align: right;\n",
       "    }\n",
       "</style>\n",
       "<table border=\"1\" class=\"dataframe\">\n",
       "  <thead>\n",
       "    <tr style=\"text-align: right;\">\n",
       "      <th></th>\n",
       "      <th>SampleID</th>\n",
       "      <th>cellLabelInImage</th>\n",
       "      <th>cellSize</th>\n",
       "      <th>tumorYN</th>\n",
       "      <th>tumorCluster</th>\n",
       "      <th>Group</th>\n",
       "      <th>immuneCluster</th>\n",
       "      <th>immuneGroup</th>\n",
       "      <th>UniqueID</th>\n",
       "      <th>subtype</th>\n",
       "      <th>batch</th>\n",
       "      <th>leiden</th>\n",
       "      <th>MENDER_leiden_k13</th>\n",
       "      <th>MENDER</th>\n",
       "    </tr>\n",
       "  </thead>\n",
       "  <tbody>\n",
       "    <tr>\n",
       "      <th>0-0</th>\n",
       "      <td>1</td>\n",
       "      <td>2</td>\n",
       "      <td>146</td>\n",
       "      <td>1</td>\n",
       "      <td>0</td>\n",
       "      <td>Keratin-positive tumor</td>\n",
       "      <td>0</td>\n",
       "      <td>NaN</td>\n",
       "      <td>1_2</td>\n",
       "      <td>Mixed</td>\n",
       "      <td>0</td>\n",
       "      <td>8</td>\n",
       "      <td>8</td>\n",
       "      <td>8</td>\n",
       "    </tr>\n",
       "    <tr>\n",
       "      <th>1-0</th>\n",
       "      <td>1</td>\n",
       "      <td>3</td>\n",
       "      <td>102</td>\n",
       "      <td>0</td>\n",
       "      <td>0</td>\n",
       "      <td>Immune</td>\n",
       "      <td>46</td>\n",
       "      <td>CD3 T</td>\n",
       "      <td>1_3</td>\n",
       "      <td>Mixed</td>\n",
       "      <td>0</td>\n",
       "      <td>1</td>\n",
       "      <td>1</td>\n",
       "      <td>1</td>\n",
       "    </tr>\n",
       "    <tr>\n",
       "      <th>2-0</th>\n",
       "      <td>1</td>\n",
       "      <td>4</td>\n",
       "      <td>43</td>\n",
       "      <td>1</td>\n",
       "      <td>0</td>\n",
       "      <td>Keratin-positive tumor</td>\n",
       "      <td>0</td>\n",
       "      <td>NaN</td>\n",
       "      <td>1_4</td>\n",
       "      <td>Mixed</td>\n",
       "      <td>0</td>\n",
       "      <td>4</td>\n",
       "      <td>4</td>\n",
       "      <td>4</td>\n",
       "    </tr>\n",
       "    <tr>\n",
       "      <th>3-0</th>\n",
       "      <td>1</td>\n",
       "      <td>5</td>\n",
       "      <td>211</td>\n",
       "      <td>1</td>\n",
       "      <td>0</td>\n",
       "      <td>Keratin-positive tumor</td>\n",
       "      <td>0</td>\n",
       "      <td>NaN</td>\n",
       "      <td>1_5</td>\n",
       "      <td>Mixed</td>\n",
       "      <td>0</td>\n",
       "      <td>0</td>\n",
       "      <td>0</td>\n",
       "      <td>0</td>\n",
       "    </tr>\n",
       "    <tr>\n",
       "      <th>4-0</th>\n",
       "      <td>1</td>\n",
       "      <td>6</td>\n",
       "      <td>177</td>\n",
       "      <td>0</td>\n",
       "      <td>0</td>\n",
       "      <td>Immune</td>\n",
       "      <td>75</td>\n",
       "      <td>B</td>\n",
       "      <td>1_6</td>\n",
       "      <td>Mixed</td>\n",
       "      <td>0</td>\n",
       "      <td>2</td>\n",
       "      <td>2</td>\n",
       "      <td>2</td>\n",
       "    </tr>\n",
       "    <tr>\n",
       "      <th>...</th>\n",
       "      <td>...</td>\n",
       "      <td>...</td>\n",
       "      <td>...</td>\n",
       "      <td>...</td>\n",
       "      <td>...</td>\n",
       "      <td>...</td>\n",
       "      <td>...</td>\n",
       "      <td>...</td>\n",
       "      <td>...</td>\n",
       "      <td>...</td>\n",
       "      <td>...</td>\n",
       "      <td>...</td>\n",
       "      <td>...</td>\n",
       "      <td>...</td>\n",
       "    </tr>\n",
       "    <tr>\n",
       "      <th>197673-39</th>\n",
       "      <td>41</td>\n",
       "      <td>5093</td>\n",
       "      <td>90</td>\n",
       "      <td>1</td>\n",
       "      <td>0</td>\n",
       "      <td>Keratin-positive tumor</td>\n",
       "      <td>0</td>\n",
       "      <td>NaN</td>\n",
       "      <td>41_5093</td>\n",
       "      <td>Compartimentalized</td>\n",
       "      <td>39</td>\n",
       "      <td>0</td>\n",
       "      <td>0</td>\n",
       "      <td>0</td>\n",
       "    </tr>\n",
       "    <tr>\n",
       "      <th>197674-39</th>\n",
       "      <td>41</td>\n",
       "      <td>5094</td>\n",
       "      <td>132</td>\n",
       "      <td>1</td>\n",
       "      <td>21</td>\n",
       "      <td>Tumor</td>\n",
       "      <td>0</td>\n",
       "      <td>NaN</td>\n",
       "      <td>41_5094</td>\n",
       "      <td>Compartimentalized</td>\n",
       "      <td>39</td>\n",
       "      <td>2</td>\n",
       "      <td>2</td>\n",
       "      <td>2</td>\n",
       "    </tr>\n",
       "    <tr>\n",
       "      <th>197675-39</th>\n",
       "      <td>41</td>\n",
       "      <td>5095</td>\n",
       "      <td>123</td>\n",
       "      <td>0</td>\n",
       "      <td>0</td>\n",
       "      <td>Immune</td>\n",
       "      <td>31</td>\n",
       "      <td>Macrophages</td>\n",
       "      <td>41_5095</td>\n",
       "      <td>Compartimentalized</td>\n",
       "      <td>39</td>\n",
       "      <td>2</td>\n",
       "      <td>2</td>\n",
       "      <td>2</td>\n",
       "    </tr>\n",
       "    <tr>\n",
       "      <th>197676-39</th>\n",
       "      <td>41</td>\n",
       "      <td>5096</td>\n",
       "      <td>99</td>\n",
       "      <td>0</td>\n",
       "      <td>0</td>\n",
       "      <td>Immune</td>\n",
       "      <td>56</td>\n",
       "      <td>Other immune</td>\n",
       "      <td>41_5096</td>\n",
       "      <td>Compartimentalized</td>\n",
       "      <td>39</td>\n",
       "      <td>7</td>\n",
       "      <td>7</td>\n",
       "      <td>7</td>\n",
       "    </tr>\n",
       "    <tr>\n",
       "      <th>197677-39</th>\n",
       "      <td>41</td>\n",
       "      <td>5097</td>\n",
       "      <td>66</td>\n",
       "      <td>0</td>\n",
       "      <td>0</td>\n",
       "      <td>Immune</td>\n",
       "      <td>65</td>\n",
       "      <td>B</td>\n",
       "      <td>41_5097</td>\n",
       "      <td>Compartimentalized</td>\n",
       "      <td>39</td>\n",
       "      <td>7</td>\n",
       "      <td>7</td>\n",
       "      <td>7</td>\n",
       "    </tr>\n",
       "  </tbody>\n",
       "</table>\n",
       "<p>197678 rows × 14 columns</p>\n",
       "</div>"
      ]
     },
     "execution_count": 13,
     "metadata": {},
     "output_type": "execute_result"
    }
   ],
   "execution_count": 13
  },
  {
   "cell_type": "code",
   "id": "8dcf14ac",
   "metadata": {
    "ExecuteTime": {
     "end_time": "2025-06-16T09:24:23.142097Z",
     "start_time": "2025-06-16T09:24:23.122399Z"
    }
   },
   "source": [
    "\n",
    "# Compute the raw counts per SampleID × MENDER, then normalize per sample\n",
    "mender = (\n",
    "    msm.adata_MENDER.obs\n",
    "       .groupby(['SampleID', 'MENDER'])\n",
    "       .size()\n",
    "       .unstack(fill_value=0)\n",
    ")\n",
    "mender_norm = mender.div(mender.sum(axis=1), axis=0).reset_index()  # SampleID becomes a column\n",
    "\n",
    "# Extract y_raw (subtype) for each SampleID, in the same sample_ids order\n",
    "y_raw = adata_raw.obs.groupby('SampleID')['subtype'].first()\n",
    "y_raw = y_raw.loc[sample_ids]  # reorder so it matches sample_ids\n",
    "\n",
    "# Turn y_raw into a DataFrame so we can merge on SampleID\n",
    "y_df = y_raw.reset_index().rename(columns={'subtype': 'subtype'})  # columns: ['SampleID','subtype']\n",
    "\n",
    "# Merge the normalized MENDER fractions with the subtype column\n",
    "merged = mender_norm.merge(y_df, on='SampleID', how='left')\n",
    "\n",
    "file_path = f\"mender_representation_total_{n}_samples_{cluster_parameter}_cluster_parameter.csv\"\n",
    "# Write the final table to CSV (includes SampleID, MENDER‐normalized columns, and subtype)\n",
    "merged.to_csv(file_path, index=False)\n"
   ],
   "outputs": [
    {
     "ename": "NameError",
     "evalue": "name 'msm' is not defined",
     "output_type": "error",
     "traceback": [
      "\u001B[0;31m---------------------------------------------------------------------------\u001B[0m",
      "\u001B[0;31mNameError\u001B[0m                                 Traceback (most recent call last)",
      "Cell \u001B[0;32mIn[7], line 3\u001B[0m\n\u001B[1;32m      1\u001B[0m \u001B[38;5;66;03m# Compute the raw counts per SampleID × MENDER, then normalize per sample\u001B[39;00m\n\u001B[1;32m      2\u001B[0m mender \u001B[38;5;241m=\u001B[39m (\n\u001B[0;32m----> 3\u001B[0m     \u001B[43mmsm\u001B[49m\u001B[38;5;241m.\u001B[39madata_MENDER\u001B[38;5;241m.\u001B[39mobs\n\u001B[1;32m      4\u001B[0m        \u001B[38;5;241m.\u001B[39mgroupby([\u001B[38;5;124m'\u001B[39m\u001B[38;5;124mSampleID\u001B[39m\u001B[38;5;124m'\u001B[39m, \u001B[38;5;124m'\u001B[39m\u001B[38;5;124mMENDER\u001B[39m\u001B[38;5;124m'\u001B[39m])\n\u001B[1;32m      5\u001B[0m        \u001B[38;5;241m.\u001B[39msize()\n\u001B[1;32m      6\u001B[0m        \u001B[38;5;241m.\u001B[39munstack(fill_value\u001B[38;5;241m=\u001B[39m\u001B[38;5;241m0\u001B[39m)\n\u001B[1;32m      7\u001B[0m )\n\u001B[1;32m      8\u001B[0m mender_norm \u001B[38;5;241m=\u001B[39m mender\u001B[38;5;241m.\u001B[39mdiv(mender\u001B[38;5;241m.\u001B[39msum(axis\u001B[38;5;241m=\u001B[39m\u001B[38;5;241m1\u001B[39m), axis\u001B[38;5;241m=\u001B[39m\u001B[38;5;241m0\u001B[39m)\u001B[38;5;241m.\u001B[39mreset_index()  \u001B[38;5;66;03m# SampleID becomes a column\u001B[39;00m\n\u001B[1;32m     10\u001B[0m \u001B[38;5;66;03m# Extract y_raw (subtype) for each SampleID, in the same sample_ids order\u001B[39;00m\n",
      "\u001B[0;31mNameError\u001B[0m: name 'msm' is not defined"
     ]
    }
   ],
   "execution_count": 7
  },
  {
   "cell_type": "markdown",
   "metadata": {},
   "source": [
    "Read saved mender represation and run classification"
   ],
   "id": "1c99542e6e7f147d"
  },
  {
   "cell_type": "code",
   "metadata": {
    "ExecuteTime": {
     "end_time": "2025-06-16T09:25:19.279930Z",
     "start_time": "2025-06-16T09:25:19.274977Z"
    }
   },
   "source": [
    "# cluster_parameter = 13 # Todo uncomment when running from here\n",
    "\n",
    "# file_path = f\"mender_representation_total_{n}_samples_{cluster_parameter}_cluster_parameter.csv\" # Todo uncomment when running from here\n",
    "# Read the merged CSV back into a DataFrame\n",
    "df = pd.read_csv(file_path)\n",
    "\n",
    "# Put SampleID back into the index (optional, but often convenient)\n",
    "df = df.set_index(\"SampleID\")\n",
    "\n",
    "# Extract y_raw as a Series of subtype values\n",
    "y_raw = df[\"subtype\"]\n",
    "\n",
    "# Extract mender_norm by dropping the “subtype” column\n",
    "mender_norm = df.drop(columns=[\"subtype\"])"
   ],
   "id": "ced0edac14bec783",
   "outputs": [],
   "execution_count": 12
  },
  {
   "cell_type": "code",
   "metadata": {
    "ExecuteTime": {
     "end_time": "2025-06-16T09:25:21.007652Z",
     "start_time": "2025-06-16T09:25:20.914520Z"
    }
   },
   "source": [
    "# Define your classifier\n",
    "knn = KNeighborsClassifier()\n",
    "\n",
    "# Compute cross‐val scores over all 10×5=50 folds at once\n",
    "mender_knn = cross_val_score(knn, mender_norm, y_raw, scoring=\"accuracy\", cv=cv)\n",
    "\n",
    "print(mender_knn)\n",
    "mender_knn.mean(), mender_knn.std()"
   ],
   "id": "181be9b834f59b48",
   "outputs": [
    {
     "name": "stdout",
     "output_type": "stream",
     "text": [
      "[0.625 0.875 0.625 0.75  0.75  0.75  0.625 0.75  0.75  0.625 0.875 0.875\n",
      " 0.75  0.75  0.625 0.75  0.75  0.625 0.5   0.625 0.75  0.625 0.625 1.\n",
      " 0.625 0.875 0.75  0.875 0.75  0.75  0.75  0.875 0.875 0.75  0.625 0.75\n",
      " 0.75  0.75  0.75  0.625 0.75  1.    0.5   0.875 0.75  0.75  0.625 0.875\n",
      " 0.875 0.75 ]\n"
     ]
    },
    {
     "data": {
      "text/plain": [
       "(0.7425, 0.11014195385955344)"
      ]
     },
     "execution_count": 13,
     "metadata": {},
     "output_type": "execute_result"
    }
   ],
   "execution_count": 13
  },
  {
   "cell_type": "code",
   "id": "5eb9a2d8",
   "metadata": {
    "ExecuteTime": {
     "end_time": "2025-06-16T09:26:36.417532Z",
     "start_time": "2025-06-16T09:26:36.335473Z"
    }
   },
   "source": [
    "svc = svm.SVC()\n",
    "# Define your classifier\n",
    "\n",
    "# Use RepeatedStratifiedKFold to get 10 different random 5‐fold splits\n",
    "cv = RepeatedStratifiedKFold(n_splits=5, n_repeats=10, random_state=42)\n",
    "\n",
    "# Compute cross‐val scores over all 10×5=50 folds at once\n",
    "mender_svc = cross_val_score(svc, mender_norm, y_raw, scoring=\"accuracy\", cv=cv)\n",
    "\n",
    "print(mender_svc)\n",
    "mender_svc.mean(), mender_svc.std()"
   ],
   "outputs": [
    {
     "name": "stdout",
     "output_type": "stream",
     "text": [
      "[0.75  0.75  0.875 0.875 0.875 1.    1.    0.875 0.75  0.75  0.875 0.875\n",
      " 0.875 0.875 0.75  0.875 0.875 0.875 0.5   0.875 0.75  0.875 0.75  0.875\n",
      " 0.75  0.875 1.    0.875 0.75  0.875 1.    0.875 0.875 0.75  0.75  0.875\n",
      " 0.875 0.75  0.875 0.75  0.875 0.875 0.75  0.875 0.75  0.875 0.875 0.625\n",
      " 1.    0.875]\n"
     ]
    },
    {
     "data": {
      "text/plain": [
       "(0.8375, 0.09437293044088436)"
      ]
     },
     "execution_count": 24,
     "metadata": {},
     "output_type": "execute_result"
    }
   ],
   "execution_count": 24
  },
  {
   "cell_type": "markdown",
   "id": "cb08f9f9",
   "metadata": {},
   "source": [
    "# T-test"
   ]
  },
  {
   "cell_type": "markdown",
   "id": "fd89ca9f",
   "metadata": {},
   "source": [
    "## KNN"
   ]
  },
  {
   "cell_type": "code",
   "id": "5dfec4cc",
   "metadata": {
    "ExecuteTime": {
     "end_time": "2025-06-16T09:26:38.568451Z",
     "start_time": "2025-06-16T09:26:38.564391Z"
    }
   },
   "source": [
    "# By default, ttest_ind returns a two-sided p-value\n",
    "t_stat, p_two_sided = stats.ttest_ind(mender_knn, fine_knn, equal_var=False)\n",
    "\n",
    "# Convert to one-sided p-value\n",
    "if t_stat > 0:\n",
    "    p_one_sided = p_two_sided / 2\n",
    "else:\n",
    "    p_one_sided = 1 - p_two_sided / 2\n",
    "\n",
    "print(f\"t-statistic: {t_stat:.4f}\")\n",
    "print(f\"one-sided p-value: {p_one_sided:.4f}\")\n",
    "p_knn_mender_fine = p_one_sided"
   ],
   "outputs": [
    {
     "name": "stdout",
     "output_type": "stream",
     "text": [
      "t-statistic: 1.6329\n",
      "one-sided p-value: 0.0529\n"
     ]
    }
   ],
   "execution_count": 25
  },
  {
   "cell_type": "code",
   "id": "ac259850",
   "metadata": {
    "ExecuteTime": {
     "end_time": "2025-06-16T09:26:40.258991Z",
     "start_time": "2025-06-16T09:26:40.255564Z"
    }
   },
   "source": [
    "# By default, ttest_ind returns a two-sided p-value\n",
    "t_stat, p_two_sided = stats.ttest_ind(mender_knn, coarse_knn, equal_var=False)\n",
    "\n",
    "# Convert to one-sided p-value\n",
    "if t_stat > 0:\n",
    "    p_one_sided = p_two_sided / 2\n",
    "else:\n",
    "    p_one_sided = 1 - p_two_sided / 2\n",
    "\n",
    "print(f\"t-statistic: {t_stat:.4f}\")\n",
    "print(f\"one-sided p-value: {p_one_sided:.4f}\")\n",
    "p_knn_mender_coarse = p_one_sided"
   ],
   "outputs": [
    {
     "name": "stdout",
     "output_type": "stream",
     "text": [
      "t-statistic: 2.7475\n",
      "one-sided p-value: 0.0036\n"
     ]
    }
   ],
   "execution_count": 26
  },
  {
   "cell_type": "markdown",
   "id": "150705da",
   "metadata": {},
   "source": [
    "## SVM"
   ]
  },
  {
   "cell_type": "code",
   "id": "a2b511a7",
   "metadata": {
    "ExecuteTime": {
     "end_time": "2025-06-16T09:26:42.794662Z",
     "start_time": "2025-06-16T09:26:42.791316Z"
    }
   },
   "source": [
    "# By default, ttest_ind returns a two-sided p-value\n",
    "t_stat, p_two_sided = stats.ttest_ind(mender_svc, fine_svc, equal_var=False)\n",
    "\n",
    "# Convert to one-sided p-value\n",
    "if t_stat > 0:\n",
    "    p_one_sided = p_two_sided / 2\n",
    "else:\n",
    "    p_one_sided = 1 - p_two_sided / 2\n",
    "\n",
    "print(f\"t-statistic: {t_stat:.4f}\")\n",
    "print(f\"one-sided p-value: {p_one_sided:.4f}\")\n",
    "p_svc_mender_fine = p_one_sided"
   ],
   "outputs": [
    {
     "name": "stdout",
     "output_type": "stream",
     "text": [
      "t-statistic: 4.8842\n",
      "one-sided p-value: 0.0000\n"
     ]
    }
   ],
   "execution_count": 27
  },
  {
   "cell_type": "code",
   "id": "b316937a",
   "metadata": {
    "ExecuteTime": {
     "end_time": "2025-06-16T09:27:03.624897Z",
     "start_time": "2025-06-16T09:27:03.621686Z"
    }
   },
   "source": [
    "# By default, ttest_ind returns a two-sided p-value\n",
    "t_stat, p_two_sided = stats.ttest_ind(mender_svc, coarse_svc, equal_var=False)\n",
    "\n",
    "# Convert to one-sided p-value\n",
    "if t_stat > 0:\n",
    "    p_one_sided = p_two_sided / 2\n",
    "else:\n",
    "    p_one_sided = 1 - p_two_sided / 2\n",
    "\n",
    "print(f\"t-statistic: {t_stat:.4f}\")\n",
    "print(f\"one-sided p-value: {p_one_sided:.4f}\")\n",
    "p_svc_mender_coarse = p_one_sided"
   ],
   "outputs": [
    {
     "name": "stdout",
     "output_type": "stream",
     "text": [
      "t-statistic: 4.9512\n",
      "one-sided p-value: 0.0000\n"
     ]
    }
   ],
   "execution_count": 31
  },
  {
   "cell_type": "markdown",
   "id": "89dc185f",
   "metadata": {},
   "source": [
    "# Visualize results"
   ]
  },
  {
   "cell_type": "code",
   "id": "b50ef632",
   "metadata": {
    "ExecuteTime": {
     "end_time": "2025-06-16T09:27:23.531852Z",
     "start_time": "2025-06-16T09:27:23.311948Z"
    }
   },
   "source": [
    "# Calculate 95% confidence intervals for each group\n",
    "def mean_ci(data, confidence=0.95):\n",
    "    n = len(data)\n",
    "    m = np.mean(data)\n",
    "    se = st.sem(data)\n",
    "    h = se * st.t.ppf((1 + confidence) / 2., n-1)\n",
    "    return m, h\n",
    "\n",
    "means = []\n",
    "cis = []\n",
    "for arr in [mender_knn, fine_knn, coarse_knn]:\n",
    "    m, h = mean_ci(arr)\n",
    "    means.append(m)\n",
    "    cis.append(h)\n",
    "\n",
    "bar_names = ['MENDER', 'Fine', 'Coarse']\n",
    "\n",
    "fig = go.Figure(\n",
    "    data=[\n",
    "        go.Bar(\n",
    "            x=bar_names,\n",
    "            y=means,\n",
    "            error_y=dict(type='data', array=cis, visible=True, color='black', thickness=2, width=8),\n",
    "            marker_color=['#636EFA', '#EF553B', '#00CC96'],\n",
    "            showlegend=False\n",
    "        )\n",
    "    ]\n",
    ")\n",
    "\n",
    "# Add individual data points\n",
    "all_knn = [mender_knn, fine_knn, coarse_knn]\n",
    "for i, arr in enumerate(all_knn):\n",
    "    fig.add_trace(\n",
    "        go.Scatter(\n",
    "            x=[bar_names[i]] * len(arr),\n",
    "            y=arr,\n",
    "            mode='markers',\n",
    "            marker=dict(color='black', size=8),\n",
    "            name='Data points',\n",
    "            showlegend=False\n",
    "        )\n",
    "    )\n",
    "\n",
    "# Add p-value annotations above the Fine and Coarse bars\n",
    "fig.add_annotation(\n",
    "    x='Fine',\n",
    "    y=means[1] + 0.05,\n",
    "    text=f\"p = {p_knn_mender_fine:.2f}\",\n",
    "    showarrow=False,\n",
    "    font=dict(size=14),\n",
    "    xanchor='left'\n",
    ")\n",
    "fig.add_annotation(\n",
    "    x='Coarse',\n",
    "    y=means[2] + 0.05,\n",
    "    text=f\"p = {p_knn_mender_coarse:.2f}\",\n",
    "    showarrow=False,\n",
    "    font=dict(size=14),\n",
    "    xanchor='left'\n",
    ")\n",
    "\n",
    "fig.update_layout(\n",
    "    title={'text': 'KNN Accuracy Comparison (with 95% CI)', 'x': 0.5, 'xanchor': 'center'},\n",
    "    yaxis_title='Accuracy (mean ± 95% CI)',\n",
    "    xaxis_title='Representation',\n",
    "    yaxis=dict(range=[0, 1]),\n",
    "    template='plotly_white',\n",
    "    width=500,\n",
    "    height=450\n",
    ")\n",
    "fig.show()"
   ],
   "outputs": [
    {
     "data": {
      "application/vnd.plotly.v1+json": {
       "data": [
        {
         "error_y": {
          "array": [
           0.03161979182205882,
           0.02925034917575289,
           0.03301445028089414
          ],
          "color": "black",
          "thickness": 2,
          "type": "data",
          "visible": true,
          "width": 8
         },
         "marker": {
          "color": [
           "#636EFA",
           "#EF553B",
           "#00CC96"
          ]
         },
         "showlegend": false,
         "x": [
          "MENDER",
          "Fine",
          "Coarse"
         ],
         "y": [
          0.7425,
          0.7075,
          0.68
         ],
         "type": "bar"
        },
        {
         "marker": {
          "color": "black",
          "size": 8
         },
         "mode": "markers",
         "name": "Data points",
         "showlegend": false,
         "x": [
          "MENDER",
          "MENDER",
          "MENDER",
          "MENDER",
          "MENDER",
          "MENDER",
          "MENDER",
          "MENDER",
          "MENDER",
          "MENDER",
          "MENDER",
          "MENDER",
          "MENDER",
          "MENDER",
          "MENDER",
          "MENDER",
          "MENDER",
          "MENDER",
          "MENDER",
          "MENDER",
          "MENDER",
          "MENDER",
          "MENDER",
          "MENDER",
          "MENDER",
          "MENDER",
          "MENDER",
          "MENDER",
          "MENDER",
          "MENDER",
          "MENDER",
          "MENDER",
          "MENDER",
          "MENDER",
          "MENDER",
          "MENDER",
          "MENDER",
          "MENDER",
          "MENDER",
          "MENDER",
          "MENDER",
          "MENDER",
          "MENDER",
          "MENDER",
          "MENDER",
          "MENDER",
          "MENDER",
          "MENDER",
          "MENDER",
          "MENDER"
         ],
         "y": {
          "dtype": "f8",
          "bdata": "AAAAAAAA5D8AAAAAAADsPwAAAAAAAOQ/AAAAAAAA6D8AAAAAAADoPwAAAAAAAOg/AAAAAAAA5D8AAAAAAADoPwAAAAAAAOg/AAAAAAAA5D8AAAAAAADsPwAAAAAAAOw/AAAAAAAA6D8AAAAAAADoPwAAAAAAAOQ/AAAAAAAA6D8AAAAAAADoPwAAAAAAAOQ/AAAAAAAA4D8AAAAAAADkPwAAAAAAAOg/AAAAAAAA5D8AAAAAAADkPwAAAAAAAPA/AAAAAAAA5D8AAAAAAADsPwAAAAAAAOg/AAAAAAAA7D8AAAAAAADoPwAAAAAAAOg/AAAAAAAA6D8AAAAAAADsPwAAAAAAAOw/AAAAAAAA6D8AAAAAAADkPwAAAAAAAOg/AAAAAAAA6D8AAAAAAADoPwAAAAAAAOg/AAAAAAAA5D8AAAAAAADoPwAAAAAAAPA/AAAAAAAA4D8AAAAAAADsPwAAAAAAAOg/AAAAAAAA6D8AAAAAAADkPwAAAAAAAOw/AAAAAAAA7D8AAAAAAADoPw=="
         },
         "type": "scatter"
        },
        {
         "marker": {
          "color": "black",
          "size": 8
         },
         "mode": "markers",
         "name": "Data points",
         "showlegend": false,
         "x": [
          "Fine",
          "Fine",
          "Fine",
          "Fine",
          "Fine",
          "Fine",
          "Fine",
          "Fine",
          "Fine",
          "Fine",
          "Fine",
          "Fine",
          "Fine",
          "Fine",
          "Fine",
          "Fine",
          "Fine",
          "Fine",
          "Fine",
          "Fine",
          "Fine",
          "Fine",
          "Fine",
          "Fine",
          "Fine",
          "Fine",
          "Fine",
          "Fine",
          "Fine",
          "Fine",
          "Fine",
          "Fine",
          "Fine",
          "Fine",
          "Fine",
          "Fine",
          "Fine",
          "Fine",
          "Fine",
          "Fine",
          "Fine",
          "Fine",
          "Fine",
          "Fine",
          "Fine",
          "Fine",
          "Fine",
          "Fine",
          "Fine",
          "Fine"
         ],
         "y": {
          "dtype": "f8",
          "bdata": "AAAAAAAA4D8AAAAAAADkPwAAAAAAAOg/AAAAAAAA7D8AAAAAAADoPwAAAAAAAOQ/AAAAAAAA6D8AAAAAAADsPwAAAAAAAOQ/AAAAAAAA5D8AAAAAAADoPwAAAAAAAOg/AAAAAAAA5D8AAAAAAADsPwAAAAAAAOQ/AAAAAAAA6D8AAAAAAADoPwAAAAAAAOg/AAAAAAAA6D8AAAAAAADoPwAAAAAAAOQ/AAAAAAAA6D8AAAAAAADoPwAAAAAAAOg/AAAAAAAA5D8AAAAAAADkPwAAAAAAAOw/AAAAAAAA6D8AAAAAAADkPwAAAAAAAOg/AAAAAAAA6D8AAAAAAADoPwAAAAAAAOg/AAAAAAAA4D8AAAAAAADkPwAAAAAAAOg/AAAAAAAA7D8AAAAAAADkPwAAAAAAAOg/AAAAAAAA4D8AAAAAAADkPwAAAAAAAOQ/AAAAAAAA6D8AAAAAAADkPwAAAAAAAOg/AAAAAAAA6D8AAAAAAADsPwAAAAAAAOA/AAAAAAAA7D8AAAAAAADkPw=="
         },
         "type": "scatter"
        },
        {
         "marker": {
          "color": "black",
          "size": 8
         },
         "mode": "markers",
         "name": "Data points",
         "showlegend": false,
         "x": [
          "Coarse",
          "Coarse",
          "Coarse",
          "Coarse",
          "Coarse",
          "Coarse",
          "Coarse",
          "Coarse",
          "Coarse",
          "Coarse",
          "Coarse",
          "Coarse",
          "Coarse",
          "Coarse",
          "Coarse",
          "Coarse",
          "Coarse",
          "Coarse",
          "Coarse",
          "Coarse",
          "Coarse",
          "Coarse",
          "Coarse",
          "Coarse",
          "Coarse",
          "Coarse",
          "Coarse",
          "Coarse",
          "Coarse",
          "Coarse",
          "Coarse",
          "Coarse",
          "Coarse",
          "Coarse",
          "Coarse",
          "Coarse",
          "Coarse",
          "Coarse",
          "Coarse",
          "Coarse",
          "Coarse",
          "Coarse",
          "Coarse",
          "Coarse",
          "Coarse",
          "Coarse",
          "Coarse",
          "Coarse",
          "Coarse",
          "Coarse"
         ],
         "y": {
          "dtype": "f8",
          "bdata": "AAAAAAAA5D8AAAAAAADgPwAAAAAAAOw/AAAAAAAA5D8AAAAAAADkPwAAAAAAAOg/AAAAAAAA6D8AAAAAAADoPwAAAAAAAOw/AAAAAAAA5D8AAAAAAADgPwAAAAAAAOQ/AAAAAAAA6D8AAAAAAADoPwAAAAAAAOQ/AAAAAAAA7D8AAAAAAADkPwAAAAAAAOg/AAAAAAAA7D8AAAAAAADkPwAAAAAAAOQ/AAAAAAAA6D8AAAAAAADkPwAAAAAAAOQ/AAAAAAAA5D8AAAAAAADkPwAAAAAAAOg/AAAAAAAA6D8AAAAAAADgPwAAAAAAAOQ/AAAAAAAA7D8AAAAAAADoPwAAAAAAAOg/AAAAAAAA2D8AAAAAAADgPwAAAAAAAOQ/AAAAAAAA6D8AAAAAAADgPwAAAAAAAOw/AAAAAAAA5D8AAAAAAADoPwAAAAAAAOQ/AAAAAAAA5D8AAAAAAADkPwAAAAAAAOQ/AAAAAAAA6D8AAAAAAADsPwAAAAAAAOQ/AAAAAAAA6D8AAAAAAADkPw=="
         },
         "type": "scatter"
        }
       ],
       "layout": {
        "template": {
         "data": {
          "barpolar": [
           {
            "marker": {
             "line": {
              "color": "white",
              "width": 0.5
             },
             "pattern": {
              "fillmode": "overlay",
              "size": 10,
              "solidity": 0.2
             }
            },
            "type": "barpolar"
           }
          ],
          "bar": [
           {
            "error_x": {
             "color": "#2a3f5f"
            },
            "error_y": {
             "color": "#2a3f5f"
            },
            "marker": {
             "line": {
              "color": "white",
              "width": 0.5
             },
             "pattern": {
              "fillmode": "overlay",
              "size": 10,
              "solidity": 0.2
             }
            },
            "type": "bar"
           }
          ],
          "carpet": [
           {
            "aaxis": {
             "endlinecolor": "#2a3f5f",
             "gridcolor": "#C8D4E3",
             "linecolor": "#C8D4E3",
             "minorgridcolor": "#C8D4E3",
             "startlinecolor": "#2a3f5f"
            },
            "baxis": {
             "endlinecolor": "#2a3f5f",
             "gridcolor": "#C8D4E3",
             "linecolor": "#C8D4E3",
             "minorgridcolor": "#C8D4E3",
             "startlinecolor": "#2a3f5f"
            },
            "type": "carpet"
           }
          ],
          "choropleth": [
           {
            "colorbar": {
             "outlinewidth": 0,
             "ticks": ""
            },
            "type": "choropleth"
           }
          ],
          "contourcarpet": [
           {
            "colorbar": {
             "outlinewidth": 0,
             "ticks": ""
            },
            "type": "contourcarpet"
           }
          ],
          "contour": [
           {
            "colorbar": {
             "outlinewidth": 0,
             "ticks": ""
            },
            "colorscale": [
             [
              0.0,
              "#0d0887"
             ],
             [
              0.1111111111111111,
              "#46039f"
             ],
             [
              0.2222222222222222,
              "#7201a8"
             ],
             [
              0.3333333333333333,
              "#9c179e"
             ],
             [
              0.4444444444444444,
              "#bd3786"
             ],
             [
              0.5555555555555556,
              "#d8576b"
             ],
             [
              0.6666666666666666,
              "#ed7953"
             ],
             [
              0.7777777777777778,
              "#fb9f3a"
             ],
             [
              0.8888888888888888,
              "#fdca26"
             ],
             [
              1.0,
              "#f0f921"
             ]
            ],
            "type": "contour"
           }
          ],
          "heatmap": [
           {
            "colorbar": {
             "outlinewidth": 0,
             "ticks": ""
            },
            "colorscale": [
             [
              0.0,
              "#0d0887"
             ],
             [
              0.1111111111111111,
              "#46039f"
             ],
             [
              0.2222222222222222,
              "#7201a8"
             ],
             [
              0.3333333333333333,
              "#9c179e"
             ],
             [
              0.4444444444444444,
              "#bd3786"
             ],
             [
              0.5555555555555556,
              "#d8576b"
             ],
             [
              0.6666666666666666,
              "#ed7953"
             ],
             [
              0.7777777777777778,
              "#fb9f3a"
             ],
             [
              0.8888888888888888,
              "#fdca26"
             ],
             [
              1.0,
              "#f0f921"
             ]
            ],
            "type": "heatmap"
           }
          ],
          "histogram2dcontour": [
           {
            "colorbar": {
             "outlinewidth": 0,
             "ticks": ""
            },
            "colorscale": [
             [
              0.0,
              "#0d0887"
             ],
             [
              0.1111111111111111,
              "#46039f"
             ],
             [
              0.2222222222222222,
              "#7201a8"
             ],
             [
              0.3333333333333333,
              "#9c179e"
             ],
             [
              0.4444444444444444,
              "#bd3786"
             ],
             [
              0.5555555555555556,
              "#d8576b"
             ],
             [
              0.6666666666666666,
              "#ed7953"
             ],
             [
              0.7777777777777778,
              "#fb9f3a"
             ],
             [
              0.8888888888888888,
              "#fdca26"
             ],
             [
              1.0,
              "#f0f921"
             ]
            ],
            "type": "histogram2dcontour"
           }
          ],
          "histogram2d": [
           {
            "colorbar": {
             "outlinewidth": 0,
             "ticks": ""
            },
            "colorscale": [
             [
              0.0,
              "#0d0887"
             ],
             [
              0.1111111111111111,
              "#46039f"
             ],
             [
              0.2222222222222222,
              "#7201a8"
             ],
             [
              0.3333333333333333,
              "#9c179e"
             ],
             [
              0.4444444444444444,
              "#bd3786"
             ],
             [
              0.5555555555555556,
              "#d8576b"
             ],
             [
              0.6666666666666666,
              "#ed7953"
             ],
             [
              0.7777777777777778,
              "#fb9f3a"
             ],
             [
              0.8888888888888888,
              "#fdca26"
             ],
             [
              1.0,
              "#f0f921"
             ]
            ],
            "type": "histogram2d"
           }
          ],
          "histogram": [
           {
            "marker": {
             "pattern": {
              "fillmode": "overlay",
              "size": 10,
              "solidity": 0.2
             }
            },
            "type": "histogram"
           }
          ],
          "mesh3d": [
           {
            "colorbar": {
             "outlinewidth": 0,
             "ticks": ""
            },
            "type": "mesh3d"
           }
          ],
          "parcoords": [
           {
            "line": {
             "colorbar": {
              "outlinewidth": 0,
              "ticks": ""
             }
            },
            "type": "parcoords"
           }
          ],
          "pie": [
           {
            "automargin": true,
            "type": "pie"
           }
          ],
          "scatter3d": [
           {
            "line": {
             "colorbar": {
              "outlinewidth": 0,
              "ticks": ""
             }
            },
            "marker": {
             "colorbar": {
              "outlinewidth": 0,
              "ticks": ""
             }
            },
            "type": "scatter3d"
           }
          ],
          "scattercarpet": [
           {
            "marker": {
             "colorbar": {
              "outlinewidth": 0,
              "ticks": ""
             }
            },
            "type": "scattercarpet"
           }
          ],
          "scattergeo": [
           {
            "marker": {
             "colorbar": {
              "outlinewidth": 0,
              "ticks": ""
             }
            },
            "type": "scattergeo"
           }
          ],
          "scattergl": [
           {
            "marker": {
             "colorbar": {
              "outlinewidth": 0,
              "ticks": ""
             }
            },
            "type": "scattergl"
           }
          ],
          "scattermapbox": [
           {
            "marker": {
             "colorbar": {
              "outlinewidth": 0,
              "ticks": ""
             }
            },
            "type": "scattermapbox"
           }
          ],
          "scattermap": [
           {
            "marker": {
             "colorbar": {
              "outlinewidth": 0,
              "ticks": ""
             }
            },
            "type": "scattermap"
           }
          ],
          "scatterpolargl": [
           {
            "marker": {
             "colorbar": {
              "outlinewidth": 0,
              "ticks": ""
             }
            },
            "type": "scatterpolargl"
           }
          ],
          "scatterpolar": [
           {
            "marker": {
             "colorbar": {
              "outlinewidth": 0,
              "ticks": ""
             }
            },
            "type": "scatterpolar"
           }
          ],
          "scatter": [
           {
            "fillpattern": {
             "fillmode": "overlay",
             "size": 10,
             "solidity": 0.2
            },
            "type": "scatter"
           }
          ],
          "scatterternary": [
           {
            "marker": {
             "colorbar": {
              "outlinewidth": 0,
              "ticks": ""
             }
            },
            "type": "scatterternary"
           }
          ],
          "surface": [
           {
            "colorbar": {
             "outlinewidth": 0,
             "ticks": ""
            },
            "colorscale": [
             [
              0.0,
              "#0d0887"
             ],
             [
              0.1111111111111111,
              "#46039f"
             ],
             [
              0.2222222222222222,
              "#7201a8"
             ],
             [
              0.3333333333333333,
              "#9c179e"
             ],
             [
              0.4444444444444444,
              "#bd3786"
             ],
             [
              0.5555555555555556,
              "#d8576b"
             ],
             [
              0.6666666666666666,
              "#ed7953"
             ],
             [
              0.7777777777777778,
              "#fb9f3a"
             ],
             [
              0.8888888888888888,
              "#fdca26"
             ],
             [
              1.0,
              "#f0f921"
             ]
            ],
            "type": "surface"
           }
          ],
          "table": [
           {
            "cells": {
             "fill": {
              "color": "#EBF0F8"
             },
             "line": {
              "color": "white"
             }
            },
            "header": {
             "fill": {
              "color": "#C8D4E3"
             },
             "line": {
              "color": "white"
             }
            },
            "type": "table"
           }
          ]
         },
         "layout": {
          "annotationdefaults": {
           "arrowcolor": "#2a3f5f",
           "arrowhead": 0,
           "arrowwidth": 1
          },
          "autotypenumbers": "strict",
          "coloraxis": {
           "colorbar": {
            "outlinewidth": 0,
            "ticks": ""
           }
          },
          "colorscale": {
           "diverging": [
            [
             0,
             "#8e0152"
            ],
            [
             0.1,
             "#c51b7d"
            ],
            [
             0.2,
             "#de77ae"
            ],
            [
             0.3,
             "#f1b6da"
            ],
            [
             0.4,
             "#fde0ef"
            ],
            [
             0.5,
             "#f7f7f7"
            ],
            [
             0.6,
             "#e6f5d0"
            ],
            [
             0.7,
             "#b8e186"
            ],
            [
             0.8,
             "#7fbc41"
            ],
            [
             0.9,
             "#4d9221"
            ],
            [
             1,
             "#276419"
            ]
           ],
           "sequential": [
            [
             0.0,
             "#0d0887"
            ],
            [
             0.1111111111111111,
             "#46039f"
            ],
            [
             0.2222222222222222,
             "#7201a8"
            ],
            [
             0.3333333333333333,
             "#9c179e"
            ],
            [
             0.4444444444444444,
             "#bd3786"
            ],
            [
             0.5555555555555556,
             "#d8576b"
            ],
            [
             0.6666666666666666,
             "#ed7953"
            ],
            [
             0.7777777777777778,
             "#fb9f3a"
            ],
            [
             0.8888888888888888,
             "#fdca26"
            ],
            [
             1.0,
             "#f0f921"
            ]
           ],
           "sequentialminus": [
            [
             0.0,
             "#0d0887"
            ],
            [
             0.1111111111111111,
             "#46039f"
            ],
            [
             0.2222222222222222,
             "#7201a8"
            ],
            [
             0.3333333333333333,
             "#9c179e"
            ],
            [
             0.4444444444444444,
             "#bd3786"
            ],
            [
             0.5555555555555556,
             "#d8576b"
            ],
            [
             0.6666666666666666,
             "#ed7953"
            ],
            [
             0.7777777777777778,
             "#fb9f3a"
            ],
            [
             0.8888888888888888,
             "#fdca26"
            ],
            [
             1.0,
             "#f0f921"
            ]
           ]
          },
          "colorway": [
           "#636efa",
           "#EF553B",
           "#00cc96",
           "#ab63fa",
           "#FFA15A",
           "#19d3f3",
           "#FF6692",
           "#B6E880",
           "#FF97FF",
           "#FECB52"
          ],
          "font": {
           "color": "#2a3f5f"
          },
          "geo": {
           "bgcolor": "white",
           "lakecolor": "white",
           "landcolor": "white",
           "showlakes": true,
           "showland": true,
           "subunitcolor": "#C8D4E3"
          },
          "hoverlabel": {
           "align": "left"
          },
          "hovermode": "closest",
          "mapbox": {
           "style": "light"
          },
          "paper_bgcolor": "white",
          "plot_bgcolor": "white",
          "polar": {
           "angularaxis": {
            "gridcolor": "#EBF0F8",
            "linecolor": "#EBF0F8",
            "ticks": ""
           },
           "bgcolor": "white",
           "radialaxis": {
            "gridcolor": "#EBF0F8",
            "linecolor": "#EBF0F8",
            "ticks": ""
           }
          },
          "scene": {
           "xaxis": {
            "backgroundcolor": "white",
            "gridcolor": "#DFE8F3",
            "gridwidth": 2,
            "linecolor": "#EBF0F8",
            "showbackground": true,
            "ticks": "",
            "zerolinecolor": "#EBF0F8"
           },
           "yaxis": {
            "backgroundcolor": "white",
            "gridcolor": "#DFE8F3",
            "gridwidth": 2,
            "linecolor": "#EBF0F8",
            "showbackground": true,
            "ticks": "",
            "zerolinecolor": "#EBF0F8"
           },
           "zaxis": {
            "backgroundcolor": "white",
            "gridcolor": "#DFE8F3",
            "gridwidth": 2,
            "linecolor": "#EBF0F8",
            "showbackground": true,
            "ticks": "",
            "zerolinecolor": "#EBF0F8"
           }
          },
          "shapedefaults": {
           "line": {
            "color": "#2a3f5f"
           }
          },
          "ternary": {
           "aaxis": {
            "gridcolor": "#DFE8F3",
            "linecolor": "#A2B1C6",
            "ticks": ""
           },
           "baxis": {
            "gridcolor": "#DFE8F3",
            "linecolor": "#A2B1C6",
            "ticks": ""
           },
           "bgcolor": "white",
           "caxis": {
            "gridcolor": "#DFE8F3",
            "linecolor": "#A2B1C6",
            "ticks": ""
           }
          },
          "title": {
           "x": 0.05
          },
          "xaxis": {
           "automargin": true,
           "gridcolor": "#EBF0F8",
           "linecolor": "#EBF0F8",
           "ticks": "",
           "title": {
            "standoff": 15
           },
           "zerolinecolor": "#EBF0F8",
           "zerolinewidth": 2
          },
          "yaxis": {
           "automargin": true,
           "gridcolor": "#EBF0F8",
           "linecolor": "#EBF0F8",
           "ticks": "",
           "title": {
            "standoff": 15
           },
           "zerolinecolor": "#EBF0F8",
           "zerolinewidth": 2
          }
         }
        },
        "annotations": [
         {
          "font": {
           "size": 14
          },
          "showarrow": false,
          "text": "p = 0.05",
          "x": "Fine",
          "xanchor": "left",
          "y": 0.7575000000000001
         },
         {
          "font": {
           "size": 14
          },
          "showarrow": false,
          "text": "p = 0.00",
          "x": "Coarse",
          "xanchor": "left",
          "y": 0.7300000000000001
         }
        ],
        "title": {
         "text": "KNN Accuracy Comparison (with 95% CI)",
         "x": 0.5,
         "xanchor": "center"
        },
        "yaxis": {
         "title": {
          "text": "Accuracy (mean ± 95% CI)"
         },
         "range": [
          0,
          1
         ]
        },
        "xaxis": {
         "title": {
          "text": "Representation"
         }
        },
        "width": 500,
        "height": 450
       },
       "config": {
        "plotlyServerURL": "https://plot.ly"
       }
      }
     },
     "metadata": {},
     "output_type": "display_data"
    }
   ],
   "execution_count": 32
  },
  {
   "metadata": {
    "ExecuteTime": {
     "end_time": "2025-06-16T09:30:57.125504Z",
     "start_time": "2025-06-16T09:30:57.103426Z"
    }
   },
   "cell_type": "code",
   "source": [
    "# Calculate 95% confidence intervals for each group\n",
    "def mean_ci(data, confidence=0.95):\n",
    "    n = len(data)\n",
    "    m = np.mean(data)\n",
    "    se = st.sem(data)\n",
    "    h = se * st.t.ppf((1 + confidence) / 2., n-1)\n",
    "    return m, h\n",
    "\n",
    "means = []\n",
    "cis = []\n",
    "for arr in [mender_svc, fine_svc, coarse_svc]:\n",
    "    m, h = mean_ci(arr)\n",
    "    means.append(m)\n",
    "    cis.append(h)\n",
    "\n",
    "bar_names = ['MENDER', 'Fine', 'Coarse']\n",
    "\n",
    "fig = go.Figure(\n",
    "    data=[\n",
    "        go.Bar(\n",
    "            x=bar_names,\n",
    "            y=means,\n",
    "            error_y=dict(type='data', array=cis, visible=True, color='black', thickness=2, width=8),\n",
    "            marker_color=['#636EFA', '#EF553B', '#00CC96'],\n",
    "            showlegend=False\n",
    "        )\n",
    "    ]\n",
    ")\n",
    "\n",
    "# Add individual data points\n",
    "all_svc = [mender_svc, fine_svc, coarse_svc]\n",
    "for i, arr in enumerate(all_svc):\n",
    "    fig.add_trace(\n",
    "        go.Scatter(\n",
    "            x=[bar_names[i]] * len(arr),\n",
    "            y=arr,\n",
    "            mode='markers',\n",
    "            marker=dict(color='black', size=8),\n",
    "            name='Data points',\n",
    "            showlegend=False\n",
    "        )\n",
    "    )\n",
    "\n",
    "# Add p-value annotations above the Fine and Coarse bars\n",
    "fig.add_annotation(\n",
    "    x='Fine',\n",
    "    y=means[1] + 0.05,\n",
    "    text=f\"p = {p_svc_mender_fine:.2f}\",\n",
    "    showarrow=False,\n",
    "    font=dict(size=14),\n",
    "    xanchor='left'\n",
    ")\n",
    "fig.add_annotation(\n",
    "    x='Coarse',\n",
    "    y=means[2] + 0.05,\n",
    "    text=f\"p = {p_svc_mender_coarse:.2f}\",\n",
    "    showarrow=False,\n",
    "    font=dict(size=14),\n",
    "    xanchor='left'\n",
    ")\n",
    "\n",
    "fig.update_layout(\n",
    "    title={'text': 'SVM Accuracy Comparison (with 95% CI)', 'x': 0.5, 'xanchor': 'center'},\n",
    "    yaxis_title='Accuracy (mean ± 95% CI)',\n",
    "    xaxis_title='Representation',\n",
    "    yaxis=dict(range=[0, 1]),\n",
    "    template='plotly_white',\n",
    "    width=500,\n",
    "    height=450\n",
    ")\n",
    "fig.show()"
   ],
   "id": "57b23ceae242850b",
   "outputs": [
    {
     "data": {
      "application/vnd.plotly.v1+json": {
       "data": [
        {
         "error_y": {
          "array": [
           0.027092786260024856,
           0.0281739382216556,
           0.032897224971894
          ],
          "color": "black",
          "thickness": 2,
          "type": "data",
          "visible": true,
          "width": 8
         },
         "marker": {
          "color": [
           "#636EFA",
           "#EF553B",
           "#00CC96"
          ]
         },
         "showlegend": false,
         "x": [
          "MENDER",
          "Fine",
          "Coarse"
         ],
         "y": [
          0.8375,
          0.7425,
          0.7325
         ],
         "type": "bar"
        },
        {
         "marker": {
          "color": "black",
          "size": 8
         },
         "mode": "markers",
         "name": "Data points",
         "showlegend": false,
         "x": [
          "MENDER",
          "MENDER",
          "MENDER",
          "MENDER",
          "MENDER",
          "MENDER",
          "MENDER",
          "MENDER",
          "MENDER",
          "MENDER",
          "MENDER",
          "MENDER",
          "MENDER",
          "MENDER",
          "MENDER",
          "MENDER",
          "MENDER",
          "MENDER",
          "MENDER",
          "MENDER",
          "MENDER",
          "MENDER",
          "MENDER",
          "MENDER",
          "MENDER",
          "MENDER",
          "MENDER",
          "MENDER",
          "MENDER",
          "MENDER",
          "MENDER",
          "MENDER",
          "MENDER",
          "MENDER",
          "MENDER",
          "MENDER",
          "MENDER",
          "MENDER",
          "MENDER",
          "MENDER",
          "MENDER",
          "MENDER",
          "MENDER",
          "MENDER",
          "MENDER",
          "MENDER",
          "MENDER",
          "MENDER",
          "MENDER",
          "MENDER"
         ],
         "y": {
          "dtype": "f8",
          "bdata": "AAAAAAAA6D8AAAAAAADoPwAAAAAAAOw/AAAAAAAA7D8AAAAAAADsPwAAAAAAAPA/AAAAAAAA8D8AAAAAAADsPwAAAAAAAOg/AAAAAAAA6D8AAAAAAADsPwAAAAAAAOw/AAAAAAAA7D8AAAAAAADsPwAAAAAAAOg/AAAAAAAA7D8AAAAAAADsPwAAAAAAAOw/AAAAAAAA4D8AAAAAAADsPwAAAAAAAOg/AAAAAAAA7D8AAAAAAADoPwAAAAAAAOw/AAAAAAAA6D8AAAAAAADsPwAAAAAAAPA/AAAAAAAA7D8AAAAAAADoPwAAAAAAAOw/AAAAAAAA8D8AAAAAAADsPwAAAAAAAOw/AAAAAAAA6D8AAAAAAADoPwAAAAAAAOw/AAAAAAAA7D8AAAAAAADoPwAAAAAAAOw/AAAAAAAA6D8AAAAAAADsPwAAAAAAAOw/AAAAAAAA6D8AAAAAAADsPwAAAAAAAOg/AAAAAAAA7D8AAAAAAADsPwAAAAAAAOQ/AAAAAAAA8D8AAAAAAADsPw=="
         },
         "type": "scatter"
        },
        {
         "marker": {
          "color": "black",
          "size": 8
         },
         "mode": "markers",
         "name": "Data points",
         "showlegend": false,
         "x": [
          "Fine",
          "Fine",
          "Fine",
          "Fine",
          "Fine",
          "Fine",
          "Fine",
          "Fine",
          "Fine",
          "Fine",
          "Fine",
          "Fine",
          "Fine",
          "Fine",
          "Fine",
          "Fine",
          "Fine",
          "Fine",
          "Fine",
          "Fine",
          "Fine",
          "Fine",
          "Fine",
          "Fine",
          "Fine",
          "Fine",
          "Fine",
          "Fine",
          "Fine",
          "Fine",
          "Fine",
          "Fine",
          "Fine",
          "Fine",
          "Fine",
          "Fine",
          "Fine",
          "Fine",
          "Fine",
          "Fine",
          "Fine",
          "Fine",
          "Fine",
          "Fine",
          "Fine",
          "Fine",
          "Fine",
          "Fine",
          "Fine",
          "Fine"
         ],
         "y": {
          "dtype": "f8",
          "bdata": "AAAAAAAA5D8AAAAAAADkPwAAAAAAAOw/AAAAAAAA7D8AAAAAAADoPwAAAAAAAOg/AAAAAAAA7D8AAAAAAADsPwAAAAAAAOg/AAAAAAAA5D8AAAAAAADgPwAAAAAAAOg/AAAAAAAA6D8AAAAAAADsPwAAAAAAAOg/AAAAAAAA7D8AAAAAAADoPwAAAAAAAOg/AAAAAAAA5D8AAAAAAADoPwAAAAAAAOg/AAAAAAAA6D8AAAAAAADkPwAAAAAAAOw/AAAAAAAA5D8AAAAAAADoPwAAAAAAAOw/AAAAAAAA6D8AAAAAAADoPwAAAAAAAOg/AAAAAAAA6D8AAAAAAADsPwAAAAAAAOw/AAAAAAAA6D8AAAAAAADgPwAAAAAAAOg/AAAAAAAA6D8AAAAAAADkPwAAAAAAAOg/AAAAAAAA5D8AAAAAAADoPwAAAAAAAOw/AAAAAAAA5D8AAAAAAADkPwAAAAAAAOg/AAAAAAAA6D8AAAAAAADsPwAAAAAAAOQ/AAAAAAAA6D8AAAAAAADoPw=="
         },
         "type": "scatter"
        },
        {
         "marker": {
          "color": "black",
          "size": 8
         },
         "mode": "markers",
         "name": "Data points",
         "showlegend": false,
         "x": [
          "Coarse",
          "Coarse",
          "Coarse",
          "Coarse",
          "Coarse",
          "Coarse",
          "Coarse",
          "Coarse",
          "Coarse",
          "Coarse",
          "Coarse",
          "Coarse",
          "Coarse",
          "Coarse",
          "Coarse",
          "Coarse",
          "Coarse",
          "Coarse",
          "Coarse",
          "Coarse",
          "Coarse",
          "Coarse",
          "Coarse",
          "Coarse",
          "Coarse",
          "Coarse",
          "Coarse",
          "Coarse",
          "Coarse",
          "Coarse",
          "Coarse",
          "Coarse",
          "Coarse",
          "Coarse",
          "Coarse",
          "Coarse",
          "Coarse",
          "Coarse",
          "Coarse",
          "Coarse",
          "Coarse",
          "Coarse",
          "Coarse",
          "Coarse",
          "Coarse",
          "Coarse",
          "Coarse",
          "Coarse",
          "Coarse",
          "Coarse"
         ],
         "y": {
          "dtype": "f8",
          "bdata": "AAAAAAAA5D8AAAAAAADkPwAAAAAAAOw/AAAAAAAA7D8AAAAAAADoPwAAAAAAAOQ/AAAAAAAA7D8AAAAAAADsPwAAAAAAAOg/AAAAAAAA5D8AAAAAAADgPwAAAAAAAOg/AAAAAAAA6D8AAAAAAADsPwAAAAAAAOQ/AAAAAAAA7D8AAAAAAADkPwAAAAAAAOg/AAAAAAAA6D8AAAAAAADoPwAAAAAAAOw/AAAAAAAA6D8AAAAAAADoPwAAAAAAAOg/AAAAAAAA5D8AAAAAAADoPwAAAAAAAOw/AAAAAAAA6D8AAAAAAADkPwAAAAAAAOg/AAAAAAAA6D8AAAAAAADsPwAAAAAAAOw/AAAAAAAA4D8AAAAAAADgPwAAAAAAAOg/AAAAAAAA6D8AAAAAAADgPwAAAAAAAOg/AAAAAAAA5D8AAAAAAADsPwAAAAAAAOw/AAAAAAAA6D8AAAAAAADkPwAAAAAAAOQ/AAAAAAAA6D8AAAAAAADsPwAAAAAAAOQ/AAAAAAAA7D8AAAAAAADkPw=="
         },
         "type": "scatter"
        }
       ],
       "layout": {
        "template": {
         "data": {
          "barpolar": [
           {
            "marker": {
             "line": {
              "color": "white",
              "width": 0.5
             },
             "pattern": {
              "fillmode": "overlay",
              "size": 10,
              "solidity": 0.2
             }
            },
            "type": "barpolar"
           }
          ],
          "bar": [
           {
            "error_x": {
             "color": "#2a3f5f"
            },
            "error_y": {
             "color": "#2a3f5f"
            },
            "marker": {
             "line": {
              "color": "white",
              "width": 0.5
             },
             "pattern": {
              "fillmode": "overlay",
              "size": 10,
              "solidity": 0.2
             }
            },
            "type": "bar"
           }
          ],
          "carpet": [
           {
            "aaxis": {
             "endlinecolor": "#2a3f5f",
             "gridcolor": "#C8D4E3",
             "linecolor": "#C8D4E3",
             "minorgridcolor": "#C8D4E3",
             "startlinecolor": "#2a3f5f"
            },
            "baxis": {
             "endlinecolor": "#2a3f5f",
             "gridcolor": "#C8D4E3",
             "linecolor": "#C8D4E3",
             "minorgridcolor": "#C8D4E3",
             "startlinecolor": "#2a3f5f"
            },
            "type": "carpet"
           }
          ],
          "choropleth": [
           {
            "colorbar": {
             "outlinewidth": 0,
             "ticks": ""
            },
            "type": "choropleth"
           }
          ],
          "contourcarpet": [
           {
            "colorbar": {
             "outlinewidth": 0,
             "ticks": ""
            },
            "type": "contourcarpet"
           }
          ],
          "contour": [
           {
            "colorbar": {
             "outlinewidth": 0,
             "ticks": ""
            },
            "colorscale": [
             [
              0.0,
              "#0d0887"
             ],
             [
              0.1111111111111111,
              "#46039f"
             ],
             [
              0.2222222222222222,
              "#7201a8"
             ],
             [
              0.3333333333333333,
              "#9c179e"
             ],
             [
              0.4444444444444444,
              "#bd3786"
             ],
             [
              0.5555555555555556,
              "#d8576b"
             ],
             [
              0.6666666666666666,
              "#ed7953"
             ],
             [
              0.7777777777777778,
              "#fb9f3a"
             ],
             [
              0.8888888888888888,
              "#fdca26"
             ],
             [
              1.0,
              "#f0f921"
             ]
            ],
            "type": "contour"
           }
          ],
          "heatmap": [
           {
            "colorbar": {
             "outlinewidth": 0,
             "ticks": ""
            },
            "colorscale": [
             [
              0.0,
              "#0d0887"
             ],
             [
              0.1111111111111111,
              "#46039f"
             ],
             [
              0.2222222222222222,
              "#7201a8"
             ],
             [
              0.3333333333333333,
              "#9c179e"
             ],
             [
              0.4444444444444444,
              "#bd3786"
             ],
             [
              0.5555555555555556,
              "#d8576b"
             ],
             [
              0.6666666666666666,
              "#ed7953"
             ],
             [
              0.7777777777777778,
              "#fb9f3a"
             ],
             [
              0.8888888888888888,
              "#fdca26"
             ],
             [
              1.0,
              "#f0f921"
             ]
            ],
            "type": "heatmap"
           }
          ],
          "histogram2dcontour": [
           {
            "colorbar": {
             "outlinewidth": 0,
             "ticks": ""
            },
            "colorscale": [
             [
              0.0,
              "#0d0887"
             ],
             [
              0.1111111111111111,
              "#46039f"
             ],
             [
              0.2222222222222222,
              "#7201a8"
             ],
             [
              0.3333333333333333,
              "#9c179e"
             ],
             [
              0.4444444444444444,
              "#bd3786"
             ],
             [
              0.5555555555555556,
              "#d8576b"
             ],
             [
              0.6666666666666666,
              "#ed7953"
             ],
             [
              0.7777777777777778,
              "#fb9f3a"
             ],
             [
              0.8888888888888888,
              "#fdca26"
             ],
             [
              1.0,
              "#f0f921"
             ]
            ],
            "type": "histogram2dcontour"
           }
          ],
          "histogram2d": [
           {
            "colorbar": {
             "outlinewidth": 0,
             "ticks": ""
            },
            "colorscale": [
             [
              0.0,
              "#0d0887"
             ],
             [
              0.1111111111111111,
              "#46039f"
             ],
             [
              0.2222222222222222,
              "#7201a8"
             ],
             [
              0.3333333333333333,
              "#9c179e"
             ],
             [
              0.4444444444444444,
              "#bd3786"
             ],
             [
              0.5555555555555556,
              "#d8576b"
             ],
             [
              0.6666666666666666,
              "#ed7953"
             ],
             [
              0.7777777777777778,
              "#fb9f3a"
             ],
             [
              0.8888888888888888,
              "#fdca26"
             ],
             [
              1.0,
              "#f0f921"
             ]
            ],
            "type": "histogram2d"
           }
          ],
          "histogram": [
           {
            "marker": {
             "pattern": {
              "fillmode": "overlay",
              "size": 10,
              "solidity": 0.2
             }
            },
            "type": "histogram"
           }
          ],
          "mesh3d": [
           {
            "colorbar": {
             "outlinewidth": 0,
             "ticks": ""
            },
            "type": "mesh3d"
           }
          ],
          "parcoords": [
           {
            "line": {
             "colorbar": {
              "outlinewidth": 0,
              "ticks": ""
             }
            },
            "type": "parcoords"
           }
          ],
          "pie": [
           {
            "automargin": true,
            "type": "pie"
           }
          ],
          "scatter3d": [
           {
            "line": {
             "colorbar": {
              "outlinewidth": 0,
              "ticks": ""
             }
            },
            "marker": {
             "colorbar": {
              "outlinewidth": 0,
              "ticks": ""
             }
            },
            "type": "scatter3d"
           }
          ],
          "scattercarpet": [
           {
            "marker": {
             "colorbar": {
              "outlinewidth": 0,
              "ticks": ""
             }
            },
            "type": "scattercarpet"
           }
          ],
          "scattergeo": [
           {
            "marker": {
             "colorbar": {
              "outlinewidth": 0,
              "ticks": ""
             }
            },
            "type": "scattergeo"
           }
          ],
          "scattergl": [
           {
            "marker": {
             "colorbar": {
              "outlinewidth": 0,
              "ticks": ""
             }
            },
            "type": "scattergl"
           }
          ],
          "scattermapbox": [
           {
            "marker": {
             "colorbar": {
              "outlinewidth": 0,
              "ticks": ""
             }
            },
            "type": "scattermapbox"
           }
          ],
          "scattermap": [
           {
            "marker": {
             "colorbar": {
              "outlinewidth": 0,
              "ticks": ""
             }
            },
            "type": "scattermap"
           }
          ],
          "scatterpolargl": [
           {
            "marker": {
             "colorbar": {
              "outlinewidth": 0,
              "ticks": ""
             }
            },
            "type": "scatterpolargl"
           }
          ],
          "scatterpolar": [
           {
            "marker": {
             "colorbar": {
              "outlinewidth": 0,
              "ticks": ""
             }
            },
            "type": "scatterpolar"
           }
          ],
          "scatter": [
           {
            "fillpattern": {
             "fillmode": "overlay",
             "size": 10,
             "solidity": 0.2
            },
            "type": "scatter"
           }
          ],
          "scatterternary": [
           {
            "marker": {
             "colorbar": {
              "outlinewidth": 0,
              "ticks": ""
             }
            },
            "type": "scatterternary"
           }
          ],
          "surface": [
           {
            "colorbar": {
             "outlinewidth": 0,
             "ticks": ""
            },
            "colorscale": [
             [
              0.0,
              "#0d0887"
             ],
             [
              0.1111111111111111,
              "#46039f"
             ],
             [
              0.2222222222222222,
              "#7201a8"
             ],
             [
              0.3333333333333333,
              "#9c179e"
             ],
             [
              0.4444444444444444,
              "#bd3786"
             ],
             [
              0.5555555555555556,
              "#d8576b"
             ],
             [
              0.6666666666666666,
              "#ed7953"
             ],
             [
              0.7777777777777778,
              "#fb9f3a"
             ],
             [
              0.8888888888888888,
              "#fdca26"
             ],
             [
              1.0,
              "#f0f921"
             ]
            ],
            "type": "surface"
           }
          ],
          "table": [
           {
            "cells": {
             "fill": {
              "color": "#EBF0F8"
             },
             "line": {
              "color": "white"
             }
            },
            "header": {
             "fill": {
              "color": "#C8D4E3"
             },
             "line": {
              "color": "white"
             }
            },
            "type": "table"
           }
          ]
         },
         "layout": {
          "annotationdefaults": {
           "arrowcolor": "#2a3f5f",
           "arrowhead": 0,
           "arrowwidth": 1
          },
          "autotypenumbers": "strict",
          "coloraxis": {
           "colorbar": {
            "outlinewidth": 0,
            "ticks": ""
           }
          },
          "colorscale": {
           "diverging": [
            [
             0,
             "#8e0152"
            ],
            [
             0.1,
             "#c51b7d"
            ],
            [
             0.2,
             "#de77ae"
            ],
            [
             0.3,
             "#f1b6da"
            ],
            [
             0.4,
             "#fde0ef"
            ],
            [
             0.5,
             "#f7f7f7"
            ],
            [
             0.6,
             "#e6f5d0"
            ],
            [
             0.7,
             "#b8e186"
            ],
            [
             0.8,
             "#7fbc41"
            ],
            [
             0.9,
             "#4d9221"
            ],
            [
             1,
             "#276419"
            ]
           ],
           "sequential": [
            [
             0.0,
             "#0d0887"
            ],
            [
             0.1111111111111111,
             "#46039f"
            ],
            [
             0.2222222222222222,
             "#7201a8"
            ],
            [
             0.3333333333333333,
             "#9c179e"
            ],
            [
             0.4444444444444444,
             "#bd3786"
            ],
            [
             0.5555555555555556,
             "#d8576b"
            ],
            [
             0.6666666666666666,
             "#ed7953"
            ],
            [
             0.7777777777777778,
             "#fb9f3a"
            ],
            [
             0.8888888888888888,
             "#fdca26"
            ],
            [
             1.0,
             "#f0f921"
            ]
           ],
           "sequentialminus": [
            [
             0.0,
             "#0d0887"
            ],
            [
             0.1111111111111111,
             "#46039f"
            ],
            [
             0.2222222222222222,
             "#7201a8"
            ],
            [
             0.3333333333333333,
             "#9c179e"
            ],
            [
             0.4444444444444444,
             "#bd3786"
            ],
            [
             0.5555555555555556,
             "#d8576b"
            ],
            [
             0.6666666666666666,
             "#ed7953"
            ],
            [
             0.7777777777777778,
             "#fb9f3a"
            ],
            [
             0.8888888888888888,
             "#fdca26"
            ],
            [
             1.0,
             "#f0f921"
            ]
           ]
          },
          "colorway": [
           "#636efa",
           "#EF553B",
           "#00cc96",
           "#ab63fa",
           "#FFA15A",
           "#19d3f3",
           "#FF6692",
           "#B6E880",
           "#FF97FF",
           "#FECB52"
          ],
          "font": {
           "color": "#2a3f5f"
          },
          "geo": {
           "bgcolor": "white",
           "lakecolor": "white",
           "landcolor": "white",
           "showlakes": true,
           "showland": true,
           "subunitcolor": "#C8D4E3"
          },
          "hoverlabel": {
           "align": "left"
          },
          "hovermode": "closest",
          "mapbox": {
           "style": "light"
          },
          "paper_bgcolor": "white",
          "plot_bgcolor": "white",
          "polar": {
           "angularaxis": {
            "gridcolor": "#EBF0F8",
            "linecolor": "#EBF0F8",
            "ticks": ""
           },
           "bgcolor": "white",
           "radialaxis": {
            "gridcolor": "#EBF0F8",
            "linecolor": "#EBF0F8",
            "ticks": ""
           }
          },
          "scene": {
           "xaxis": {
            "backgroundcolor": "white",
            "gridcolor": "#DFE8F3",
            "gridwidth": 2,
            "linecolor": "#EBF0F8",
            "showbackground": true,
            "ticks": "",
            "zerolinecolor": "#EBF0F8"
           },
           "yaxis": {
            "backgroundcolor": "white",
            "gridcolor": "#DFE8F3",
            "gridwidth": 2,
            "linecolor": "#EBF0F8",
            "showbackground": true,
            "ticks": "",
            "zerolinecolor": "#EBF0F8"
           },
           "zaxis": {
            "backgroundcolor": "white",
            "gridcolor": "#DFE8F3",
            "gridwidth": 2,
            "linecolor": "#EBF0F8",
            "showbackground": true,
            "ticks": "",
            "zerolinecolor": "#EBF0F8"
           }
          },
          "shapedefaults": {
           "line": {
            "color": "#2a3f5f"
           }
          },
          "ternary": {
           "aaxis": {
            "gridcolor": "#DFE8F3",
            "linecolor": "#A2B1C6",
            "ticks": ""
           },
           "baxis": {
            "gridcolor": "#DFE8F3",
            "linecolor": "#A2B1C6",
            "ticks": ""
           },
           "bgcolor": "white",
           "caxis": {
            "gridcolor": "#DFE8F3",
            "linecolor": "#A2B1C6",
            "ticks": ""
           }
          },
          "title": {
           "x": 0.05
          },
          "xaxis": {
           "automargin": true,
           "gridcolor": "#EBF0F8",
           "linecolor": "#EBF0F8",
           "ticks": "",
           "title": {
            "standoff": 15
           },
           "zerolinecolor": "#EBF0F8",
           "zerolinewidth": 2
          },
          "yaxis": {
           "automargin": true,
           "gridcolor": "#EBF0F8",
           "linecolor": "#EBF0F8",
           "ticks": "",
           "title": {
            "standoff": 15
           },
           "zerolinecolor": "#EBF0F8",
           "zerolinewidth": 2
          }
         }
        },
        "annotations": [
         {
          "font": {
           "size": 14
          },
          "showarrow": false,
          "text": "p = 0.00",
          "x": "Fine",
          "xanchor": "left",
          "y": 0.7925000000000001
         },
         {
          "font": {
           "size": 14
          },
          "showarrow": false,
          "text": "p = 0.00",
          "x": "Coarse",
          "xanchor": "left",
          "y": 0.7825000000000001
         }
        ],
        "title": {
         "text": "SVM Accuracy Comparison (with 95% CI)",
         "x": 0.5,
         "xanchor": "center"
        },
        "yaxis": {
         "title": {
          "text": "Accuracy (mean ± 95% CI)"
         },
         "range": [
          0,
          1
         ]
        },
        "xaxis": {
         "title": {
          "text": "Representation"
         }
        },
        "width": 500,
        "height": 450
       },
       "config": {
        "plotlyServerURL": "https://plot.ly"
       }
      }
     },
     "metadata": {},
     "output_type": "display_data"
    }
   ],
   "execution_count": 33
  }
 ],
 "metadata": {
  "kernelspec": {
   "display_name": "bioml",
   "language": "python",
   "name": "python3"
  },
  "language_info": {
   "codemirror_mode": {
    "name": "ipython",
    "version": 3
   },
   "file_extension": ".py",
   "mimetype": "text/x-python",
   "name": "python",
   "nbconvert_exporter": "python",
   "pygments_lexer": "ipython3",
   "version": "3.9.21"
  }
 },
 "nbformat": 4,
 "nbformat_minor": 5
}
