{
 "cells": [
  {
   "cell_type": "code",
   "execution_count": 2,
   "id": "c684c04b",
   "metadata": {},
   "outputs": [],
   "source": [
    "import scanpy as sc\n",
    "import pandas as pd\n",
    "import matplotlib.pyplot as plt\n",
    "import seaborn as sns\n",
    "from anndata import AnnData\n",
    "import MENDER\n",
    "from sklearn.neighbors import KNeighborsClassifier\n",
    "from sklearn.model_selection import cross_val_score, RepeatedStratifiedKFold\n",
    "from sklearn.metrics import accuracy_score\n",
    "from sklearn import svm\n",
    "from scipy import stats\n",
    "import re\n",
    "import os\n",
    "import glob\n",
    "import tifffile\n",
    "import pandas as pd\n",
    "from skimage.measure import regionprops_table\n",
    "import numpy as np\n",
    "import plotly.graph_objects as go\n",
    "import scipy.stats as st\n",
    "from scipy import stats"
   ]
  },
  {
   "cell_type": "markdown",
   "id": "fbb45db1",
   "metadata": {},
   "source": [
    "# Load data"
   ]
  },
  {
   "cell_type": "code",
   "execution_count": null,
   "id": "f9f92216",
   "metadata": {},
   "outputs": [
    {
     "name": "stdout",
     "output_type": "stream",
     "text": [
      "Shape: (2048, 2048)\n",
      "Data type: uint16\n",
      "Found 5213 objects (ignoring background=0)\n",
      "Some label values: [0 1 2 3 4 5 6 7 8 9] … [5204 5205 5206 5207 5208 5209 5210 5211 5212 5213]\n",
      "Shape: (2048, 2048)\n",
      "Data type: uint16\n",
      "Found 6140 objects (ignoring background=0)\n",
      "Some label values: [0 1 2 3 4 5 6 7 8 9] … [6131 6132 6133 6134 6135 6136 6137 6138 6139 6140]\n",
      "Shape: (2048, 2048)\n",
      "Data type: uint16\n",
      "Found 8772 objects (ignoring background=0)\n",
      "Some label values: [0 1 2 3 4 5 6 7 8 9] … [8763 8764 8765 8766 8767 8768 8769 8770 8771 8772]\n",
      "Shape: (2048, 2048)\n",
      "Data type: uint16\n",
      "Found 9738 objects (ignoring background=0)\n",
      "Some label values: [0 1 2 3 4 5 6 7 8 9] … [9729 9730 9731 9732 9733 9734 9735 9736 9737 9738]\n"
     ]
    }
   ],
   "source": [
    "# Directory containing your segmented mask TIFF files\n",
    "mask_dir = r'TNBC_shareCellData'\n",
    "# Output CSV file path\n",
    "output_csv = \"cell_centroids.csv\"\n",
    "\n",
    "records = []\n",
    "\n",
    "# Loop through each TIFF mask\n",
    "for mask_path in glob.glob(os.path.join(mask_dir, \"*.tiff\")):\n",
    "    # Load the mask (each cell labeled by a unique integer)\n",
    "    mask = tifffile.imread(mask_path)\n",
    "\n",
    "    if ('p30_labeledcellData' in mask_path):\n",
    "        print('bruh')\n",
    "    print(\"Shape:\", mask.shape)          # e.g. (1024, 1024)\n",
    "    print(\"Data type:\", mask.dtype)      # e.g. uint16\n",
    "    labels = np.unique(mask)\n",
    "    print(f\"Found {len(labels)-1} objects (ignoring background=0)\")\n",
    "    print(\"Some label values:\", labels[:10], \"…\", labels[-10:])\n",
    "    # Extract properties: label ID and centroids\n",
    "    props = regionprops_table(\n",
    "        mask,\n",
    "        properties=('label', 'centroid')\n",
    "    )\n",
    "    \n",
    "    # Convert to DataFrame\n",
    "    df = pd.DataFrame(props)\n",
    "    # Keep track of source image\n",
    "    \n",
    "    \n",
    "    nums = re.search(r\"\\d+\", os.path.basename(mask_path))\n",
    "    df['image'] = int(nums.group()) if nums else None\n",
    "    records.append(df)\n",
    "\n",
    "# Concatenate all image DataFrames\n",
    "all_cells = pd.concat(records, ignore_index=True)\n",
    "\n",
    "# Rename columns for clarity\n",
    "all_cells = all_cells.rename(\n",
    "    columns={\n",
    "        'label': 'CellID',\n",
    "        'centroid-0': 'CentroidY',\n",
    "        'centroid-1': 'CentroidX'\n",
    "    }\n",
    ")\n",
    "\n",
    "# Save to CSV\n",
    "all_cells.to_csv(output_csv, index=False)\n",
    "print(f\"Saved {len(all_cells)} cell centroids to {output_csv}\")\n"
   ]
  },
  {
   "cell_type": "code",
   "execution_count": null,
   "metadata": {},
   "outputs": [
    {
     "name": "stdout",
     "output_type": "stream",
     "text": [
      "Index(['CellID', 'CentroidY', 'CentroidX', 'image'], dtype='object')\n"
     ]
    }
   ],
   "source": [
    "print(all_cells.columns)"
   ]
  },
  {
   "cell_type": "markdown",
   "id": "bfcc6fb1",
   "metadata": {},
   "source": [
    "Perform Random subsampling to decreace dataset size"
   ]
  },
  {
   "cell_type": "code",
   "execution_count": null,
   "id": "48802f0e",
   "metadata": {},
   "outputs": [
    {
     "name": "stdout",
     "output_type": "stream",
     "text": [
      "Wrote subsampled table with 300 cells per patient to:\n",
      "  TNBC_shareCellData/cellData_300.csv\n"
     ]
    }
   ],
   "source": [
    "# Read in the full cell‐level table\n",
    "df = pd.read_csv(\"TNBC_shareCellData/cellData.csv\", sep=\",\")\n",
    "\n",
    "# Choose how many cells to keep per patient:\n",
    "# The patient with the fewest cells in the original dataset had 2217\n",
    "# The mean is 5923.55\n",
    "# The most cells is 9738\n",
    "# n = 2217\n",
    "n = 300\n",
    "\n",
    "# 3. Option A: if you only want patients who have ≥ n cells, and you want exactly n per patient:\n",
    "#    (patients with fewer than n cells are dropped entirely)\n",
    "df_filtered = df.groupby(\"SampleID\").filter(lambda sub: len(sub) >= n)\n",
    "df_subsample = (\n",
    "    df_filtered\n",
    "    .groupby(\"SampleID\", group_keys=False)\n",
    "    .sample(n=n, random_state=42)\n",
    ")\n",
    "\n",
    "\n",
    "# Write out a new CSV (e.g. “cellData_100.csv”)\n",
    "out_name = f\"TNBC_shareCellData/cellData_{n}.csv\"\n",
    "df_subsample.to_csv(out_name, sep=\",\", index=False)\n",
    "print(f\"Wrote subsampled table with {n} cells per patient to:\\n  {out_name}\")"
   ]
  },
  {
   "cell_type": "code",
   "execution_count": null,
   "id": "c1969a89",
   "metadata": {},
   "outputs": [
    {
     "name": "stderr",
     "output_type": "stream",
     "text": [
      "c:\\Users\\chris\\anaconda3\\envs\\ml_for_bio_3.9\\lib\\site-packages\\anndata\\_core\\anndata.py:117: ImplicitModificationWarning: Transforming to str index.\n",
      "  warnings.warn(\"Transforming to str index.\", ImplicitModificationWarning)\n",
      "c:\\Users\\chris\\anaconda3\\envs\\ml_for_bio_3.9\\lib\\site-packages\\anndata\\_core\\anndata.py:117: ImplicitModificationWarning: Transforming to str index.\n",
      "  warnings.warn(\"Transforming to str index.\", ImplicitModificationWarning)\n"
     ]
    },
    {
     "data": {
      "text/html": [
       "<div>\n",
       "<style scoped>\n",
       "    .dataframe tbody tr th:only-of-type {\n",
       "        vertical-align: middle;\n",
       "    }\n",
       "\n",
       "    .dataframe tbody tr th {\n",
       "        vertical-align: top;\n",
       "    }\n",
       "\n",
       "    .dataframe thead th {\n",
       "        text-align: right;\n",
       "    }\n",
       "</style>\n",
       "<table border=\"1\" class=\"dataframe\">\n",
       "  <thead>\n",
       "    <tr style=\"text-align: right;\">\n",
       "      <th></th>\n",
       "      <th>SampleID</th>\n",
       "      <th>cellLabelInImage</th>\n",
       "      <th>cellSize</th>\n",
       "      <th>tumorYN</th>\n",
       "      <th>tumorCluster</th>\n",
       "      <th>Group</th>\n",
       "      <th>immuneCluster</th>\n",
       "      <th>immuneGroup</th>\n",
       "      <th>UniqueID</th>\n",
       "      <th>subtype</th>\n",
       "    </tr>\n",
       "  </thead>\n",
       "  <tbody>\n",
       "    <tr>\n",
       "      <th>0</th>\n",
       "      <td>1</td>\n",
       "      <td>1839</td>\n",
       "      <td>230</td>\n",
       "      <td>0</td>\n",
       "      <td>0</td>\n",
       "      <td>Immune</td>\n",
       "      <td>85</td>\n",
       "      <td>CD4 T</td>\n",
       "      <td>1_1839</td>\n",
       "      <td>Mixed</td>\n",
       "    </tr>\n",
       "    <tr>\n",
       "      <th>1</th>\n",
       "      <td>1</td>\n",
       "      <td>3381</td>\n",
       "      <td>361</td>\n",
       "      <td>0</td>\n",
       "      <td>0</td>\n",
       "      <td>Immune</td>\n",
       "      <td>84</td>\n",
       "      <td>B</td>\n",
       "      <td>1_3381</td>\n",
       "      <td>Mixed</td>\n",
       "    </tr>\n",
       "    <tr>\n",
       "      <th>2</th>\n",
       "      <td>1</td>\n",
       "      <td>3934</td>\n",
       "      <td>121</td>\n",
       "      <td>0</td>\n",
       "      <td>0</td>\n",
       "      <td>Immune</td>\n",
       "      <td>85</td>\n",
       "      <td>B</td>\n",
       "      <td>1_3934</td>\n",
       "      <td>Mixed</td>\n",
       "    </tr>\n",
       "    <tr>\n",
       "      <th>3</th>\n",
       "      <td>1</td>\n",
       "      <td>3648</td>\n",
       "      <td>187</td>\n",
       "      <td>0</td>\n",
       "      <td>0</td>\n",
       "      <td>Immune</td>\n",
       "      <td>75</td>\n",
       "      <td>B</td>\n",
       "      <td>1_3648</td>\n",
       "      <td>Mixed</td>\n",
       "    </tr>\n",
       "    <tr>\n",
       "      <th>4</th>\n",
       "      <td>1</td>\n",
       "      <td>1639</td>\n",
       "      <td>567</td>\n",
       "      <td>1</td>\n",
       "      <td>0</td>\n",
       "      <td>Keratin-positive tumor</td>\n",
       "      <td>0</td>\n",
       "      <td>NaN</td>\n",
       "      <td>1_1639</td>\n",
       "      <td>Mixed</td>\n",
       "    </tr>\n",
       "    <tr>\n",
       "      <th>...</th>\n",
       "      <td>...</td>\n",
       "      <td>...</td>\n",
       "      <td>...</td>\n",
       "      <td>...</td>\n",
       "      <td>...</td>\n",
       "      <td>...</td>\n",
       "      <td>...</td>\n",
       "      <td>...</td>\n",
       "      <td>...</td>\n",
       "      <td>...</td>\n",
       "    </tr>\n",
       "    <tr>\n",
       "      <th>11995</th>\n",
       "      <td>41</td>\n",
       "      <td>50</td>\n",
       "      <td>625</td>\n",
       "      <td>0</td>\n",
       "      <td>0</td>\n",
       "      <td>Immune</td>\n",
       "      <td>57</td>\n",
       "      <td>CD8 T</td>\n",
       "      <td>41_50</td>\n",
       "      <td>Compartimentalized</td>\n",
       "    </tr>\n",
       "    <tr>\n",
       "      <th>11996</th>\n",
       "      <td>41</td>\n",
       "      <td>3723</td>\n",
       "      <td>380</td>\n",
       "      <td>1</td>\n",
       "      <td>16</td>\n",
       "      <td>Mesenchymal-like</td>\n",
       "      <td>0</td>\n",
       "      <td>NaN</td>\n",
       "      <td>41_3723</td>\n",
       "      <td>Compartimentalized</td>\n",
       "    </tr>\n",
       "    <tr>\n",
       "      <th>11997</th>\n",
       "      <td>41</td>\n",
       "      <td>227</td>\n",
       "      <td>340</td>\n",
       "      <td>0</td>\n",
       "      <td>0</td>\n",
       "      <td>Immune</td>\n",
       "      <td>45</td>\n",
       "      <td>Mono/Neu</td>\n",
       "      <td>41_227</td>\n",
       "      <td>Compartimentalized</td>\n",
       "    </tr>\n",
       "    <tr>\n",
       "      <th>11998</th>\n",
       "      <td>41</td>\n",
       "      <td>860</td>\n",
       "      <td>801</td>\n",
       "      <td>0</td>\n",
       "      <td>0</td>\n",
       "      <td>Immune</td>\n",
       "      <td>47</td>\n",
       "      <td>CD3 T</td>\n",
       "      <td>41_860</td>\n",
       "      <td>Compartimentalized</td>\n",
       "    </tr>\n",
       "    <tr>\n",
       "      <th>11999</th>\n",
       "      <td>41</td>\n",
       "      <td>4344</td>\n",
       "      <td>727</td>\n",
       "      <td>0</td>\n",
       "      <td>0</td>\n",
       "      <td>Immune</td>\n",
       "      <td>66</td>\n",
       "      <td>DC/Mono</td>\n",
       "      <td>41_4344</td>\n",
       "      <td>Compartimentalized</td>\n",
       "    </tr>\n",
       "  </tbody>\n",
       "</table>\n",
       "<p>12000 rows × 10 columns</p>\n",
       "</div>"
      ],
      "text/plain": [
       "       SampleID  cellLabelInImage  cellSize  tumorYN  tumorCluster   \n",
       "0             1              1839       230        0             0  \\\n",
       "1             1              3381       361        0             0   \n",
       "2             1              3934       121        0             0   \n",
       "3             1              3648       187        0             0   \n",
       "4             1              1639       567        1             0   \n",
       "...         ...               ...       ...      ...           ...   \n",
       "11995        41                50       625        0             0   \n",
       "11996        41              3723       380        1            16   \n",
       "11997        41               227       340        0             0   \n",
       "11998        41               860       801        0             0   \n",
       "11999        41              4344       727        0             0   \n",
       "\n",
       "                        Group  immuneCluster immuneGroup UniqueID   \n",
       "0                      Immune             85       CD4 T   1_1839  \\\n",
       "1                      Immune             84           B   1_3381   \n",
       "2                      Immune             85           B   1_3934   \n",
       "3                      Immune             75           B   1_3648   \n",
       "4      Keratin-positive tumor              0         NaN   1_1639   \n",
       "...                       ...            ...         ...      ...   \n",
       "11995                  Immune             57       CD8 T    41_50   \n",
       "11996        Mesenchymal-like              0         NaN  41_3723   \n",
       "11997                  Immune             45    Mono/Neu   41_227   \n",
       "11998                  Immune             47       CD3 T   41_860   \n",
       "11999                  Immune             66     DC/Mono  41_4344   \n",
       "\n",
       "                  subtype  \n",
       "0                   Mixed  \n",
       "1                   Mixed  \n",
       "2                   Mixed  \n",
       "3                   Mixed  \n",
       "4                   Mixed  \n",
       "...                   ...  \n",
       "11995  Compartimentalized  \n",
       "11996  Compartimentalized  \n",
       "11997  Compartimentalized  \n",
       "11998  Compartimentalized  \n",
       "11999  Compartimentalized  \n",
       "\n",
       "[12000 rows x 10 columns]"
      ]
     },
     "execution_count": 5,
     "metadata": {},
     "output_type": "execute_result"
    }
   ],
   "source": [
    "df = pd.read_csv(f\"TNBC_shareCellData/cellData_{n}.csv\", sep=\",\")\n",
    "df_p = pd.read_csv(\"TNBC_shareCellData/patient_class.csv\", header=None)\n",
    "df_p.rename(columns={0:\"SampleID\", 1:\"subtype\"}, inplace=True)\n",
    "subtype_map = {\n",
    "    0: \"Mixed\",\n",
    "    1: \"Compartimentalized\",\n",
    "    2: \"Cold\"\n",
    "}\n",
    "\n",
    "df_p[\"subtype\"] = df_p[\"subtype\"].map(subtype_map).astype('category')\n",
    "\n",
    "\n",
    "\n",
    "# TO DO: LOOK INTO THIS FILTERING SINCE SAMPLEID 30 DOESN\"T ACTUALLY EXIST SO MAYBE IT IS MORE COMPLICATED THAN JUST REMOVING A FEW\n",
    "bad_Values = [42,43,44]\n",
    "\n",
    "df = df[~df[\"SampleID\"].isin(bad_Values)]\n",
    "\n",
    "\n",
    "meta_cols = ['SampleID', 'cellLabelInImage', 'cellSize', 'tumorYN', \n",
    "             'tumorCluster', 'Group', 'immuneCluster', 'immuneGroup']\n",
    "\n",
    "expr_cols = [c for c in df.columns if c not in meta_cols]\n",
    "\n",
    "adata = AnnData(\n",
    "    X = df[expr_cols].values,\n",
    "    obs = df[meta_cols],\n",
    "    var=pd.DataFrame(index=expr_cols)\n",
    ")\n",
    "\n",
    "adata.obs[\"UniqueID\"] = adata.obs['SampleID'].astype(str) + \"_\" + adata.obs['cellLabelInImage'].astype(str)\n",
    "all_cells[\"UniqueID\"] = all_cells[\"image\"].astype(str) + \"_\" + all_cells[\"CellID\"].astype(str)\n",
    "all_cells = all_cells.set_index('UniqueID', drop = False)\n",
    "adata.obs = adata.obs.set_index('UniqueID', drop=False)\n",
    "\n",
    "all_cells_aligned = all_cells.reindex(adata.obs_names)\n",
    "\n",
    "adata.obsm[\"spatial\"] = all_cells_aligned[[\"CentroidX\", \"CentroidY\"]].to_numpy()\n",
    "\n",
    "# X = adata.X.toarray() if hasattr(adata.X, \"toarray\") else adata.X\n",
    "# min_val = X.min()\n",
    "# print(\"Minimum before shift:\", min_val)\n",
    "\n",
    "# 2. If it’s < 0, shift everything up so the minimum is 0\n",
    "# if min_val < 0:\n",
    "#     shift = -min_val\n",
    "#     print(f\"Shifting all values by +{shift:.3g} to eliminate negatives\")\n",
    "#     X += shift\n",
    "#     adata.X = X  # put it back into your AnnData\n",
    "\n",
    "# sc.pp.normalize_total(adata)         # e.g. counts per cell\n",
    "# sc.pp.log1p(adata)\n",
    "# sc.pp.scale(adata)\n",
    "\n",
    "# sc.tl.pca(adata, svd_solver='arpack', n_comps=50)\n",
    "# sc.pp.neighbors(adata)               # builds graph on PCA\n",
    "# sc.tl.umap(adata)\n",
    "code2label_group = {\n",
    "    1: \"Unidentified\",\n",
    "    2: \"Immune\",\n",
    "    3: \"EndoThelial\",\n",
    "    4: \"Mesenchymal-like\",\n",
    "    5: \"Tumor\",\n",
    "    6: \"Keratin-positive tumor\"\n",
    "}\n",
    "\n",
    "code2label_immunegroup = {\n",
    "    1: \"Tregs\",\n",
    "    2: \"CD4 T\",\n",
    "    3: \"CD8 T\",\n",
    "    4: \"CD3 T\",\n",
    "    5: \"NK\",\n",
    "    6: \"B\",\n",
    "    7: \"Neutrophils\",\n",
    "    8: \"Macrophages\",\n",
    "    9: \"DC\",\n",
    "    10: \"DC/Mono\",\n",
    "    11: \"Mono/Neu\",\n",
    "    12: \"Other immune\"\n",
    "}\n",
    "adata.obs[\"Group\"] = adata.obs[\"Group\"].map(code2label_group).astype('category')\n",
    "adata.obs[\"immuneGroup\"] = adata.obs[\"immuneGroup\"].map(code2label_immunegroup)\n",
    "adata.obs = pd.merge(\n",
    "    adata.obs,\n",
    "    df_p,\n",
    "    on=\"SampleID\",\n",
    "    how=\"left\"\n",
    ")\n",
    "\n",
    "# Copy for later use\n",
    "adata_raw = adata.copy()\n",
    "\n",
    "adata.obs"
   ]
  },
  {
   "cell_type": "markdown",
   "id": "ca84f476",
   "metadata": {},
   "source": [
    "# Coarse representation"
   ]
  },
  {
   "cell_type": "code",
   "execution_count": null,
   "metadata": {},
   "outputs": [
    {
     "name": "stdout",
     "output_type": "stream",
     "text": [
      "[0.75  0.5   0.875 0.75  0.625 0.875 0.75  0.75  0.875 0.75  0.625 0.75\n",
      " 0.75  0.875 0.75  1.    0.75  0.75  0.875 0.625 0.625 0.75  0.625 0.75\n",
      " 0.625 0.625 0.75  0.875 0.625 0.75  0.75  0.875 0.75  0.5   0.5   0.75\n",
      " 0.625 0.625 0.875 0.625 0.75  0.75  0.625 0.625 0.75  0.875 0.75  0.625\n",
      " 0.75  0.75 ]\n",
      "0.7275 0.10807983160608645\n"
     ]
    }
   ],
   "source": [
    "# Compute “coarse” counts per SampleID × Group, but KEEP SampleID as the index\n",
    "coarse = (\n",
    "    adata.obs\n",
    "         .groupby([\"SampleID\", \"Group\"])\n",
    "         .size()\n",
    "         .unstack(fill_value=0)\n",
    ")\n",
    "# Now coarse.index is SampleID\n",
    "\n",
    "# Normalize each row to percentages\n",
    "coarse_norm = coarse.div(coarse.sum(axis=1), axis=0)\n",
    "# coarse_norm.index is still SampleID\n",
    "\n",
    "# Build y so that it lines up with coarse_norm.index \n",
    "y = adata.obs.groupby(\"SampleID\")[\"subtype\"].first().loc[coarse_norm.index]\n",
    "\n",
    "# Run KNN with cross‐validation\n",
    "knn = KNeighborsClassifier()\n",
    "cv = RepeatedStratifiedKFold(n_splits=5, n_repeats=10, random_state=42)\n",
    "coarse_knn = cross_val_score(knn, coarse_norm, y, scoring=\"accuracy\", cv=cv)\n",
    "\n",
    "print(coarse_knn)\n",
    "print(coarse_knn.mean(), coarse_knn.std())\n",
    "\n",
    "# UNCOMMENT TO SHOW COARSE REPRESENTATION\n",
    "# coarse_norm"
   ]
  },
  {
   "cell_type": "code",
   "execution_count": null,
   "id": "5598c703",
   "metadata": {},
   "outputs": [
    {
     "name": "stdout",
     "output_type": "stream",
     "text": [
      "[0.75  0.625 0.875 0.875 0.75  0.75  0.875 0.75  0.75  0.625 0.625 0.75\n",
      " 0.75  0.875 0.625 0.875 0.75  0.75  0.75  0.75  0.875 0.75  0.75  0.75\n",
      " 0.625 0.75  0.875 0.75  0.75  0.75  0.75  0.875 0.875 0.75  0.5   0.75\n",
      " 0.875 0.5   0.75  0.625 0.875 0.875 0.75  0.625 0.75  0.75  0.75  0.625\n",
      " 0.875 0.75 ]\n"
     ]
    },
    {
     "data": {
      "text/plain": [
       "(0.7525, 0.0951643315533714)"
      ]
     },
     "execution_count": 7,
     "metadata": {},
     "output_type": "execute_result"
    }
   ],
   "source": [
    "svc = svm.SVC()\n",
    "coarse_svc = cross_val_score(svc, coarse_norm, y, scoring='accuracy', cv=cv)\n",
    "print(coarse_svc)\n",
    "coarse_svc.mean(), coarse_svc.std()"
   ]
  },
  {
   "cell_type": "markdown",
   "id": "f57d9f47",
   "metadata": {},
   "source": [
    "# Fine representation"
   ]
  },
  {
   "cell_type": "code",
   "execution_count": null,
   "id": "2bbb13f3",
   "metadata": {},
   "outputs": [],
   "source": [
    "data_fine = adata.obs.copy()\n",
    "data_fine.loc[data_fine[\"immuneGroup\"].isna(), \"immuneGroup\"] = data_fine.loc[data_fine[\"immuneGroup\"].isna(), \"Group\"]"
   ]
  },
  {
   "cell_type": "code",
   "execution_count": null,
   "id": "5e6a480f",
   "metadata": {},
   "outputs": [],
   "source": [
    "fine = data_fine.groupby([\"SampleID\", \"immuneGroup\"]).size().unstack(fill_value=0).reset_index(drop=True)\n",
    "# Normalize the counts to percentages\n",
    "fine_norm = fine.div(fine.sum(axis=1), axis=0)\n",
    "# UNCOMMENT TO SHOW FINE REPRESENTAITON\n",
    "# fine"
   ]
  },
  {
   "cell_type": "code",
   "execution_count": null,
   "id": "6308b65e",
   "metadata": {},
   "outputs": [
    {
     "name": "stdout",
     "output_type": "stream",
     "text": [
      "[0.625 0.625 0.75  0.875 0.75  0.75  0.875 0.875 0.75  0.625 0.75  0.75\n",
      " 0.75  0.875 0.625 0.75  0.75  0.75  0.75  0.75  0.75  0.75  0.75  0.875\n",
      " 0.625 0.625 0.75  0.75  0.75  0.75  0.75  0.75  0.75  0.625 0.625 0.875\n",
      " 0.875 0.75  0.75  0.625 0.875 0.75  0.75  0.625 0.75  0.75  0.875 0.625\n",
      " 0.75  0.75 ]\n"
     ]
    },
    {
     "data": {
      "text/plain": [
       "(0.745, 0.0788986691902975)"
      ]
     },
     "execution_count": 10,
     "metadata": {},
     "output_type": "execute_result"
    }
   ],
   "source": [
    "knn = KNeighborsClassifier()\n",
    "fine_knn = cross_val_score(knn, fine_norm, y, scoring='accuracy', cv=cv)\n",
    "print(fine_knn)\n",
    "fine_knn.mean(), fine_knn.std()"
   ]
  },
  {
   "cell_type": "code",
   "execution_count": null,
   "id": "c2243db3",
   "metadata": {},
   "outputs": [
    {
     "name": "stdout",
     "output_type": "stream",
     "text": [
      "[0.625 0.625 0.875 0.875 0.75  0.75  0.875 0.875 0.75  0.625 0.75  0.75\n",
      " 0.75  0.875 0.75  0.875 0.75  0.75  0.75  0.75  0.75  0.75  0.75  0.875\n",
      " 0.625 0.75  0.875 0.75  0.75  0.75  0.75  0.875 0.75  0.75  0.625 0.875\n",
      " 0.875 0.75  0.75  0.625 0.875 0.875 0.75  0.625 0.75  0.75  0.875 0.625\n",
      " 0.875 0.75 ]\n"
     ]
    },
    {
     "data": {
      "text/plain": [
       "(0.7675, 0.08295330011518529)"
      ]
     },
     "execution_count": 11,
     "metadata": {},
     "output_type": "execute_result"
    }
   ],
   "source": [
    "svc = svm.SVC()\n",
    "fine_svc = cross_val_score(svc, fine_norm, y, scoring='accuracy', cv=cv)\n",
    "print(fine_svc)\n",
    "fine_svc.mean(), fine_svc.std()"
   ]
  },
  {
   "cell_type": "markdown",
   "id": "32fd942f",
   "metadata": {},
   "source": [
    "# MENDER representation"
   ]
  },
  {
   "cell_type": "code",
   "execution_count": null,
   "id": "c6307146",
   "metadata": {},
   "outputs": [
    {
     "ename": "NameError",
     "evalue": "name 'adata_raw' is not defined",
     "output_type": "error",
     "traceback": [
      "\u001b[1;31m---------------------------------------------------------------------------\u001b[0m",
      "\u001b[1;31mNameError\u001b[0m                                 Traceback (most recent call last)",
      "Cell \u001b[1;32mIn[1], line 8\u001b[0m\n\u001b[0;32m      4\u001b[0m radius \u001b[38;5;241m=\u001b[39m \u001b[38;5;241m15\u001b[39m\n\u001b[0;32m      6\u001b[0m \u001b[38;5;66;03m# I'm not sure why they did so many copies but I took it from this code \u001b[39;00m\n\u001b[0;32m      7\u001b[0m \u001b[38;5;66;03m# https://mender-tutorial.readthedocs.io/en/latest/MERSCOPE.html\u001b[39;00m\n\u001b[1;32m----> 8\u001b[0m adata \u001b[38;5;241m=\u001b[39m \u001b[43madata_raw\u001b[49m\u001b[38;5;241m.\u001b[39mcopy()\n\u001b[0;32m     10\u001b[0m \u001b[38;5;66;03m# adata.obs['SampleID'] = adata.obs['SampleID'].astype('category')\u001b[39;00m\n\u001b[0;32m     11\u001b[0m \n\u001b[0;32m     12\u001b[0m \u001b[38;5;66;03m# Only do it for these 18 samples to make it run more quickly. 6 mixed, comp and cold\u001b[39;00m\n\u001b[0;32m     13\u001b[0m \u001b[38;5;66;03m# sample_ids = [5, 13, 1, 2, 3, 4]\u001b[39;00m\n\u001b[0;32m     14\u001b[0m \u001b[38;5;66;03m# sample_ids = [1, 2, 3, 4, 5, 6, 7, 8, 9, 10, 11, 13, 15, 19, 22, 24, 25, 26]\u001b[39;00m\n\u001b[0;32m     15\u001b[0m sample_ids \u001b[38;5;241m=\u001b[39m [\n\u001b[0;32m     16\u001b[0m     \u001b[38;5;241m1\u001b[39m, \u001b[38;5;241m2\u001b[39m, \u001b[38;5;241m3\u001b[39m, \u001b[38;5;241m4\u001b[39m, \u001b[38;5;241m5\u001b[39m, \u001b[38;5;241m6\u001b[39m, \u001b[38;5;241m7\u001b[39m, \u001b[38;5;241m8\u001b[39m, \u001b[38;5;241m9\u001b[39m, \u001b[38;5;241m10\u001b[39m, \u001b[38;5;241m11\u001b[39m, \u001b[38;5;241m12\u001b[39m, \u001b[38;5;241m13\u001b[39m, \u001b[38;5;241m14\u001b[39m, \u001b[38;5;241m15\u001b[39m, \u001b[38;5;241m16\u001b[39m, \u001b[38;5;241m17\u001b[39m, \u001b[38;5;241m18\u001b[39m, \u001b[38;5;241m19\u001b[39m, \u001b[38;5;241m20\u001b[39m, \u001b[38;5;241m21\u001b[39m,  \u001b[38;5;241m22\u001b[39m, \u001b[38;5;241m23\u001b[39m, \u001b[38;5;241m24\u001b[39m, \u001b[38;5;241m25\u001b[39m, \u001b[38;5;241m26\u001b[39m,\n\u001b[0;32m     17\u001b[0m     \u001b[38;5;241m27\u001b[39m, \u001b[38;5;241m28\u001b[39m, \u001b[38;5;241m29\u001b[39m, \u001b[38;5;241m31\u001b[39m, \u001b[38;5;241m32\u001b[39m, \u001b[38;5;241m33\u001b[39m, \u001b[38;5;241m34\u001b[39m, \u001b[38;5;241m35\u001b[39m, \u001b[38;5;241m36\u001b[39m, \u001b[38;5;241m37\u001b[39m, \u001b[38;5;241m38\u001b[39m, \u001b[38;5;241m39\u001b[39m, \u001b[38;5;241m40\u001b[39m, \u001b[38;5;241m41\u001b[39m,\n\u001b[0;32m     18\u001b[0m ]\n",
      "\u001b[1;31mNameError\u001b[0m: name 'adata_raw' is not defined"
     ]
    }
   ],
   "source": [
    "# batch_obs = 'subtype'\n",
    "batch_obs = 'SampleID'\n",
    "scale = 6\n",
    "radius = 15\n",
    "\n",
    "# I'm not sure why they did so many copies but I took it from this code \n",
    "# https://mender-tutorial.readthedocs.io/en/latest/MERSCOPE.html\n",
    "adata = adata_raw.copy()\n",
    "\n",
    "# adata.obs['SampleID'] = adata.obs['SampleID'].astype('category')\n",
    "\n",
    "# Only do it for these 18 samples to make it run more quickly. 6 mixed, comp and cold\n",
    "# sample_ids = [5, 13, 1, 2, 3, 4]\n",
    "# sample_ids = [1, 2, 3, 4, 5, 6, 7, 8, 9, 10, 11, 13, 15, 19, 22, 24, 25, 26]\n",
    "sample_ids = [\n",
    "    1, 2, 3, 4, 5, 6, 7, 8, 9, 10, 11, 12, 13, 14, 15, 16, 17, 18, 19, 20, 21,  22, 23, 24, 25, 26,\n",
    "    27, 28, 29, 31, 32, 33, 34, 35, 36, 37, 38, 39, 40, 41,\n",
    "]\n",
    "\n",
    "adata = adata[adata.obs['SampleID'].isin(sample_ids)].copy()\n",
    "\n",
    "adata.obs['SampleID'] = adata.obs['SampleID'].astype('category')\n",
    "\n",
    "\n",
    "# TODO: I think the grouping here should be based on fine groups\n",
    "# main body of MENDER\n",
    "msm = MENDER.MENDER(\n",
    "    adata,\n",
    "    batch_obs = batch_obs,\n",
    "    # determine which cell state to use\n",
    "    # In our case the cell type does not need to be estimated since we have a ground truth stored in \n",
    "    # the dataset under all_group_name\n",
    "    ct_obs= 'Group',\n",
    "    random_seed=42,\n",
    "    verbose=True\n",
    ")\n",
    "\n",
    "\n",
    "# set the MENDER parameters\n",
    "\n",
    "\n",
    "msm.prepare()\n",
    "msm.set_MENDER_para(\n",
    "    # default of n_scales is 6\n",
    "    n_scales=scale,\n",
    "\n",
    "    # for single cell data, nn_mode is set to 'radius'\n",
    "    nn_mode='radius',\n",
    "\n",
    "    # default of n_scales is 15 um (see the manuscript for why).\n",
    "    # MENDER also provide a function 'estimate_radius' for estimating the radius\n",
    "    nn_para=radius,\n",
    ")\n",
    "\n",
    "\n",
    "# construct the context representation\n",
    "msm.run_representation_mp(\n",
    "    50\n",
    "    # the number of processings\n",
    ")\n",
    "\n",
    "# set the spatial clustering parameter\n",
    "# positive values for the expected number of domains\n",
    "# negative values for the clustering resolution\n",
    "cluster_parameter = 13\n",
    "# msm.run_clustering_normal(-0.5)\n",
    "# msm.run_clustering_normal(2)\n",
    "msm.run_clustering_normal(cluster_parameter)\n",
    "msm.adata_MENDER.obs\n"
   ]
  },
  {
   "cell_type": "code",
   "execution_count": null,
   "id": "8dcf14ac",
   "metadata": {},
   "outputs": [],
   "source": [
    "\n",
    "# Compute the raw counts per SampleID × MENDER, then normalize per sample\n",
    "mender = (\n",
    "    msm.adata_MENDER.obs\n",
    "       .groupby(['SampleID', 'MENDER'])\n",
    "       .size()\n",
    "       .unstack(fill_value=0)\n",
    ")\n",
    "mender_norm = mender.div(mender.sum(axis=1), axis=0).reset_index()  # SampleID becomes a column\n",
    "\n",
    "# Extract y_raw (subtype) for each SampleID, in the same sample_ids order\n",
    "y_raw = adata_raw.obs.groupby('SampleID')['subtype'].first()\n",
    "y_raw = y_raw.loc[sample_ids]  # reorder so it matches sample_ids\n",
    "\n",
    "# Turn y_raw into a DataFrame so we can merge on SampleID\n",
    "y_df = y_raw.reset_index().rename(columns={'subtype': 'subtype'})  # columns: ['SampleID','subtype']\n",
    "\n",
    "# Merge the normalized MENDER fractions with the subtype column\n",
    "merged = mender_norm.merge(y_df, on='SampleID', how='left')\n",
    "\n",
    "file_path = f\"mender_representation_{n}_samples_{cluster_parameter}_cluster_parameter.csv\"\n",
    "# Write the final table to CSV (includes SampleID, MENDER‐normalized columns, and subtype)\n",
    "merged.to_csv(file_path, index=False)\n"
   ]
  },
  {
   "cell_type": "markdown",
   "metadata": {},
   "source": [
    "Read saved mender represation and run classification"
   ]
  },
  {
   "cell_type": "code",
   "execution_count": null,
   "metadata": {},
   "outputs": [],
   "source": [
    "# Read the merged CSV back into a DataFrame\n",
    "df = pd.read_csv(file_path)\n",
    "\n",
    "# Put SampleID back into the index (optional, but often convenient)\n",
    "df = df.set_index(\"SampleID\")\n",
    "\n",
    "# Extract y_raw as a Series of subtype values\n",
    "y_raw = df[\"subtype\"]\n",
    "\n",
    "# Extract mender_norm by dropping the “subtype” column\n",
    "mender_norm = df.drop(columns=[\"subtype\"])"
   ]
  },
  {
   "cell_type": "code",
   "execution_count": null,
   "metadata": {},
   "outputs": [
    {
     "name": "stdout",
     "output_type": "stream",
     "text": [
      "[0.5   0.875 0.875 0.75  0.375 0.75  0.5   1.    0.625 0.75  0.625 0.75\n",
      " 0.75  0.625 0.875 0.75  0.625 0.75  0.625 0.75  0.75  0.875 0.625 0.75\n",
      " 0.625 1.    0.625 0.75  0.625 0.5   0.625 0.875 0.625 0.75  0.625 0.75\n",
      " 0.625 0.625 0.75  0.75  0.625 0.75  0.625 0.75  0.625 0.625 0.875 0.5\n",
      " 0.75  0.5  ]\n"
     ]
    },
    {
     "data": {
      "text/plain": [
       "(0.6975, 0.12769592789122133)"
      ]
     },
     "execution_count": 53,
     "metadata": {},
     "output_type": "execute_result"
    }
   ],
   "source": [
    "# Define your classifier\n",
    "knn = KNeighborsClassifier()\n",
    "\n",
    "# Compute cross‐val scores over all 10×5=50 folds at once\n",
    "mender_knn = cross_val_score(knn, mender_norm, y_raw, scoring=\"accuracy\", cv=cv)\n",
    "\n",
    "print(mender_knn)\n",
    "mender_knn.mean(), mender_knn.std()"
   ]
  },
  {
   "cell_type": "code",
   "execution_count": null,
   "id": "5eb9a2d8",
   "metadata": {},
   "outputs": [
    {
     "name": "stdout",
     "output_type": "stream",
     "text": [
      "[0.5   0.5   0.5   0.5   0.375 0.5   0.5   0.5   0.5   0.375 0.5   0.5\n",
      " 0.5   0.5   0.375 0.5   0.5   0.5   0.5   0.375 0.5   0.5   0.5   0.5\n",
      " 0.375 0.5   0.5   0.5   0.5   0.375 0.5   0.5   0.5   0.5   0.375 0.5\n",
      " 0.5   0.5   0.5   0.375 0.5   0.5   0.5   0.5   0.375 0.5   0.5   0.5\n",
      " 0.5   0.375]\n"
     ]
    },
    {
     "data": {
      "text/plain": [
       "(0.475, 0.049999999999999996)"
      ]
     },
     "execution_count": 54,
     "metadata": {},
     "output_type": "execute_result"
    }
   ],
   "source": [
    "svc = svm.SVC()\n",
    "# Define your classifier\n",
    "\n",
    "# Use RepeatedStratifiedKFold to get 10 different random 5‐fold splits\n",
    "cv = RepeatedStratifiedKFold(n_splits=5, n_repeats=10, random_state=42)\n",
    "\n",
    "# Compute cross‐val scores over all 10×5=50 folds at once\n",
    "mender_svc = cross_val_score(svc, mender_norm, y_raw, scoring=\"accuracy\", cv=cv)\n",
    "\n",
    "print(mender_svc)\n",
    "mender_svc.mean(), mender_svc.std()"
   ]
  },
  {
   "cell_type": "markdown",
   "id": "cb08f9f9",
   "metadata": {},
   "source": [
    "# T-test"
   ]
  },
  {
   "cell_type": "markdown",
   "id": "fd89ca9f",
   "metadata": {},
   "source": [
    "## KNN"
   ]
  },
  {
   "cell_type": "code",
   "execution_count": null,
   "id": "5dfec4cc",
   "metadata": {},
   "outputs": [
    {
     "name": "stdout",
     "output_type": "stream",
     "text": [
      "t-statistic: -1.0315\n",
      "one-sided p-value: 0.8228\n"
     ]
    }
   ],
   "source": [
    "# By default, ttest_ind returns a two-sided p-value\n",
    "t_stat, p_two_sided = stats.ttest_ind(mender_knn, fine_knn, equal_var=False)\n",
    "\n",
    "# Convert to one-sided p-value\n",
    "if t_stat > 0:\n",
    "    p_one_sided = p_two_sided / 2\n",
    "else:\n",
    "    p_one_sided = 1 - p_two_sided / 2\n",
    "\n",
    "print(f\"t-statistic: {t_stat:.4f}\")\n",
    "print(f\"one-sided p-value: {p_one_sided:.4f}\")\n",
    "p_knn_mender_fine = p_one_sided"
   ]
  },
  {
   "cell_type": "code",
   "execution_count": null,
   "id": "ac259850",
   "metadata": {},
   "outputs": [
    {
     "name": "stdout",
     "output_type": "stream",
     "text": [
      "t-statistic: -0.8276\n",
      "one-sided p-value: 0.7744\n"
     ]
    }
   ],
   "source": [
    "# By default, ttest_ind returns a two-sided p-value\n",
    "t_stat, p_two_sided = stats.ttest_ind(mender_knn, coarse_knn, equal_var=False)\n",
    "\n",
    "# Convert to one-sided p-value\n",
    "if t_stat > 0:\n",
    "    p_one_sided = p_two_sided / 2\n",
    "else:\n",
    "    p_one_sided = 1 - p_two_sided / 2\n",
    "\n",
    "print(f\"t-statistic: {t_stat:.4f}\")\n",
    "print(f\"one-sided p-value: {p_one_sided:.4f}\")\n",
    "p_knn_mender_coarse = p_one_sided"
   ]
  },
  {
   "cell_type": "markdown",
   "id": "150705da",
   "metadata": {},
   "source": [
    "## SVM"
   ]
  },
  {
   "cell_type": "code",
   "execution_count": null,
   "id": "a2b511a7",
   "metadata": {},
   "outputs": [
    {
     "name": "stdout",
     "output_type": "stream",
     "text": [
      "t-statistic: -4.8660\n",
      "one-sided p-value: 0.9962\n"
     ]
    }
   ],
   "source": [
    "# By default, ttest_ind returns a two-sided p-value\n",
    "t_stat, p_two_sided = stats.ttest_ind(mender_svc, fine_svc, equal_var=False)\n",
    "\n",
    "# Convert to one-sided p-value\n",
    "if t_stat > 0:\n",
    "    p_one_sided = p_two_sided / 2\n",
    "else:\n",
    "    p_one_sided = 1 - p_two_sided / 2\n",
    "\n",
    "print(f\"t-statistic: {t_stat:.4f}\")\n",
    "print(f\"one-sided p-value: {p_one_sided:.4f}\")\n",
    "p_svc_mender_fine = p_one_sided"
   ]
  },
  {
   "cell_type": "code",
   "execution_count": null,
   "id": "b316937a",
   "metadata": {},
   "outputs": [
    {
     "name": "stdout",
     "output_type": "stream",
     "text": [
      "t-statistic: -4.8660\n",
      "one-sided p-value: 0.9962\n"
     ]
    }
   ],
   "source": [
    "# By default, ttest_ind returns a two-sided p-value\n",
    "t_stat, p_two_sided = stats.ttest_ind(mender_svc, coarse_svc, equal_var=False)\n",
    "\n",
    "# Convert to one-sided p-value\n",
    "if t_stat > 0:\n",
    "    p_one_sided = p_two_sided / 2\n",
    "else:\n",
    "    p_one_sided = 1 - p_two_sided / 2\n",
    "\n",
    "print(f\"t-statistic: {t_stat:.4f}\")\n",
    "print(f\"one-sided p-value: {p_one_sided:.4f}\")\n",
    "p_svc_mender_coarse = p_one_sided"
   ]
  },
  {
   "cell_type": "markdown",
   "id": "89dc185f",
   "metadata": {},
   "source": [
    "# Visualize results"
   ]
  },
  {
   "cell_type": "code",
   "execution_count": null,
   "id": "b50ef632",
   "metadata": {},
   "outputs": [
    {
     "ename": "ValueError",
     "evalue": "Mime type rendering requires nbformat>=4.2.0 but it is not installed",
     "output_type": "error",
     "traceback": [
      "\u001b[1;31m---------------------------------------------------------------------------\u001b[0m",
      "\u001b[1;31mValueError\u001b[0m                                Traceback (most recent call last)",
      "Cell \u001b[1;32mIn[59], line 71\u001b[0m\n\u001b[0;32m     53\u001b[0m fig\u001b[38;5;241m.\u001b[39madd_annotation(\n\u001b[0;32m     54\u001b[0m     x\u001b[38;5;241m=\u001b[39m\u001b[38;5;124m'\u001b[39m\u001b[38;5;124mCoarse\u001b[39m\u001b[38;5;124m'\u001b[39m,\n\u001b[0;32m     55\u001b[0m     y\u001b[38;5;241m=\u001b[39mmeans[\u001b[38;5;241m2\u001b[39m] \u001b[38;5;241m+\u001b[39m \u001b[38;5;241m0.05\u001b[39m,\n\u001b[1;32m   (...)\u001b[0m\n\u001b[0;32m     59\u001b[0m     xanchor\u001b[38;5;241m=\u001b[39m\u001b[38;5;124m'\u001b[39m\u001b[38;5;124mleft\u001b[39m\u001b[38;5;124m'\u001b[39m\n\u001b[0;32m     60\u001b[0m )\n\u001b[0;32m     62\u001b[0m fig\u001b[38;5;241m.\u001b[39mupdate_layout(\n\u001b[0;32m     63\u001b[0m     title\u001b[38;5;241m=\u001b[39m{\u001b[38;5;124m'\u001b[39m\u001b[38;5;124mtext\u001b[39m\u001b[38;5;124m'\u001b[39m: \u001b[38;5;124m'\u001b[39m\u001b[38;5;124mKNN Accuracy Comparison (with 95\u001b[39m\u001b[38;5;124m%\u001b[39m\u001b[38;5;124m CI)\u001b[39m\u001b[38;5;124m'\u001b[39m, \u001b[38;5;124m'\u001b[39m\u001b[38;5;124mx\u001b[39m\u001b[38;5;124m'\u001b[39m: \u001b[38;5;241m0.5\u001b[39m, \u001b[38;5;124m'\u001b[39m\u001b[38;5;124mxanchor\u001b[39m\u001b[38;5;124m'\u001b[39m: \u001b[38;5;124m'\u001b[39m\u001b[38;5;124mcenter\u001b[39m\u001b[38;5;124m'\u001b[39m},\n\u001b[0;32m     64\u001b[0m     yaxis_title\u001b[38;5;241m=\u001b[39m\u001b[38;5;124m'\u001b[39m\u001b[38;5;124mAccuracy (mean ± 95\u001b[39m\u001b[38;5;124m%\u001b[39m\u001b[38;5;124m CI)\u001b[39m\u001b[38;5;124m'\u001b[39m,\n\u001b[1;32m   (...)\u001b[0m\n\u001b[0;32m     69\u001b[0m     height\u001b[38;5;241m=\u001b[39m\u001b[38;5;241m450\u001b[39m\n\u001b[0;32m     70\u001b[0m )\n\u001b[1;32m---> 71\u001b[0m \u001b[43mfig\u001b[49m\u001b[38;5;241;43m.\u001b[39;49m\u001b[43mshow\u001b[49m\u001b[43m(\u001b[49m\u001b[43m)\u001b[49m\n",
      "File \u001b[1;32mc:\\Users\\chris\\anaconda3\\envs\\ml_for_bio_3.9\\lib\\site-packages\\plotly\\basedatatypes.py:3436\u001b[0m, in \u001b[0;36mBaseFigure.show\u001b[1;34m(self, *args, **kwargs)\u001b[0m\n\u001b[0;32m   3403\u001b[0m \u001b[38;5;250m\u001b[39m\u001b[38;5;124;03m\"\"\"\u001b[39;00m\n\u001b[0;32m   3404\u001b[0m \u001b[38;5;124;03mShow a figure using either the default renderer(s) or the renderer(s)\u001b[39;00m\n\u001b[0;32m   3405\u001b[0m \u001b[38;5;124;03mspecified by the renderer argument\u001b[39;00m\n\u001b[1;32m   (...)\u001b[0m\n\u001b[0;32m   3432\u001b[0m \u001b[38;5;124;03mNone\u001b[39;00m\n\u001b[0;32m   3433\u001b[0m \u001b[38;5;124;03m\"\"\"\u001b[39;00m\n\u001b[0;32m   3434\u001b[0m \u001b[38;5;28;01mimport\u001b[39;00m\u001b[38;5;250m \u001b[39m\u001b[38;5;21;01mplotly\u001b[39;00m\u001b[38;5;21;01m.\u001b[39;00m\u001b[38;5;21;01mio\u001b[39;00m\u001b[38;5;250m \u001b[39m\u001b[38;5;28;01mas\u001b[39;00m\u001b[38;5;250m \u001b[39m\u001b[38;5;21;01mpio\u001b[39;00m\n\u001b[1;32m-> 3436\u001b[0m \u001b[38;5;28;01mreturn\u001b[39;00m pio\u001b[38;5;241m.\u001b[39mshow(\u001b[38;5;28mself\u001b[39m, \u001b[38;5;241m*\u001b[39margs, \u001b[38;5;241m*\u001b[39m\u001b[38;5;241m*\u001b[39mkwargs)\n",
      "File \u001b[1;32mc:\\Users\\chris\\anaconda3\\envs\\ml_for_bio_3.9\\lib\\site-packages\\plotly\\io\\_renderers.py:425\u001b[0m, in \u001b[0;36mshow\u001b[1;34m(fig, renderer, validate, **kwargs)\u001b[0m\n\u001b[0;32m    420\u001b[0m     \u001b[38;5;28;01mraise\u001b[39;00m \u001b[38;5;167;01mValueError\u001b[39;00m(\n\u001b[0;32m    421\u001b[0m         \u001b[38;5;124m\"\u001b[39m\u001b[38;5;124mMime type rendering requires ipython but it is not installed\u001b[39m\u001b[38;5;124m\"\u001b[39m\n\u001b[0;32m    422\u001b[0m     )\n\u001b[0;32m    424\u001b[0m \u001b[38;5;28;01mif\u001b[39;00m \u001b[38;5;129;01mnot\u001b[39;00m nbformat \u001b[38;5;129;01mor\u001b[39;00m Version(nbformat\u001b[38;5;241m.\u001b[39m__version__) \u001b[38;5;241m<\u001b[39m Version(\u001b[38;5;124m\"\u001b[39m\u001b[38;5;124m4.2.0\u001b[39m\u001b[38;5;124m\"\u001b[39m):\n\u001b[1;32m--> 425\u001b[0m     \u001b[38;5;28;01mraise\u001b[39;00m \u001b[38;5;167;01mValueError\u001b[39;00m(\n\u001b[0;32m    426\u001b[0m         \u001b[38;5;124m\"\u001b[39m\u001b[38;5;124mMime type rendering requires nbformat>=4.2.0 but it is not installed\u001b[39m\u001b[38;5;124m\"\u001b[39m\n\u001b[0;32m    427\u001b[0m     )\n\u001b[0;32m    429\u001b[0m display_jupyter_version_warnings()\n\u001b[0;32m    431\u001b[0m ipython_display\u001b[38;5;241m.\u001b[39mdisplay(bundle, raw\u001b[38;5;241m=\u001b[39m\u001b[38;5;28;01mTrue\u001b[39;00m)\n",
      "\u001b[1;31mValueError\u001b[0m: Mime type rendering requires nbformat>=4.2.0 but it is not installed"
     ]
    }
   ],
   "source": [
    "# Calculate 95% confidence intervals for each group\n",
    "def mean_ci(data, confidence=0.95):\n",
    "    n = len(data)\n",
    "    m = np.mean(data)\n",
    "    se = st.sem(data)\n",
    "    h = se * st.t.ppf((1 + confidence) / 2., n-1)\n",
    "    return m, h\n",
    "\n",
    "means = []\n",
    "cis = []\n",
    "for arr in [mender_knn, fine_knn, coarse_knn]:\n",
    "    m, h = mean_ci(arr)\n",
    "    means.append(m)\n",
    "    cis.append(h)\n",
    "\n",
    "bar_names = ['MENDER', 'Fine', 'Coarse']\n",
    "\n",
    "fig = go.Figure(\n",
    "    data=[\n",
    "        go.Bar(\n",
    "            x=bar_names,\n",
    "            y=means,\n",
    "            error_y=dict(type='data', array=cis, visible=True, color='black', thickness=2, width=8),\n",
    "            marker_color=['#636EFA', '#EF553B', '#00CC96'],\n",
    "            showlegend=False\n",
    "        )\n",
    "    ]\n",
    ")\n",
    "\n",
    "# Add individual data points\n",
    "all_knn = [mender_knn, fine_knn, coarse_knn]\n",
    "for i, arr in enumerate(all_knn):\n",
    "    fig.add_trace(\n",
    "        go.Scatter(\n",
    "            x=[bar_names[i]] * len(arr),\n",
    "            y=arr,\n",
    "            mode='markers',\n",
    "            marker=dict(color='black', size=8),\n",
    "            name='Data points',\n",
    "            showlegend=False\n",
    "        )\n",
    "    )\n",
    "\n",
    "# Add p-value annotations above the Fine and Coarse bars\n",
    "fig.add_annotation(\n",
    "    x='Fine',\n",
    "    y=means[1] + 0.05,\n",
    "    text=f\"p = {p_knn_mender_fine:.2f}\",\n",
    "    showarrow=False,\n",
    "    font=dict(size=14),\n",
    "    xanchor='left'\n",
    ")\n",
    "fig.add_annotation(\n",
    "    x='Coarse',\n",
    "    y=means[2] + 0.05,\n",
    "    text=f\"p = {p_knn_mender_coarse:.2f}\",\n",
    "    showarrow=False,\n",
    "    font=dict(size=14),\n",
    "    xanchor='left'\n",
    ")\n",
    "\n",
    "fig.update_layout(\n",
    "    title={'text': 'KNN Accuracy Comparison (with 95% CI)', 'x': 0.5, 'xanchor': 'center'},\n",
    "    yaxis_title='Accuracy (mean ± 95% CI)',\n",
    "    xaxis_title='Representation',\n",
    "    yaxis=dict(range=[0, 1]),\n",
    "    template='plotly_white',\n",
    "    width=500,\n",
    "    height=450\n",
    ")\n",
    "fig.show()"
   ]
  }
 ],
 "metadata": {
  "kernelspec": {
   "display_name": "ml_for_bio_3.9",
   "language": "python",
   "name": "python3"
  },
  "language_info": {
   "codemirror_mode": {
    "name": "ipython",
    "version": 3
   },
   "file_extension": ".py",
   "mimetype": "text/x-python",
   "name": "python",
   "nbconvert_exporter": "python",
   "pygments_lexer": "ipython3",
   "version": "3.9.21"
  }
 },
 "nbformat": 4,
 "nbformat_minor": 5
}
