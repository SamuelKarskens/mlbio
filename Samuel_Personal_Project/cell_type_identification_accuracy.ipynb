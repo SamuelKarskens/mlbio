{
 "cells": [
  {
   "cell_type": "code",
   "id": "initial_id",
   "metadata": {
    "collapsed": true,
    "ExecuteTime": {
     "end_time": "2025-06-27T11:11:16.520263Z",
     "start_time": "2025-06-27T11:11:14.694067Z"
    }
   },
   "source": [
    "import warnings\n",
    "warnings.filterwarnings(\"ignore\")\n",
    "import MENDER\n",
    "import scanpy as sc\n",
    "import pandas as pd\n",
    "import numpy as np\n",
    "from sklearn.metrics import *\n",
    "import time\n",
    "\n",
    "import pysodb\n",
    "from sklearn import svm"
   ],
   "outputs": [],
   "execution_count": 1
  },
  {
   "metadata": {
    "ExecuteTime": {
     "end_time": "2025-06-27T11:11:19.301878Z",
     "start_time": "2025-06-27T11:11:16.545467Z"
    }
   },
   "cell_type": "code",
   "source": [
    "sodb = pysodb.SODB()\n",
    "adata_raw = sodb.load_experiment('codeluppi2018spatial','cortex')"
   ],
   "id": "2863e5b063b43a6d",
   "outputs": [
    {
     "name": "stdout",
     "output_type": "stream",
     "text": [
      "load experiment[cortex] in dataset[codeluppi2018spatial]\n"
     ]
    }
   ],
   "execution_count": 2
  },
  {
   "metadata": {
    "ExecuteTime": {
     "end_time": "2025-06-27T11:11:19.318676Z",
     "start_time": "2025-06-27T11:11:19.313980Z"
    }
   },
   "cell_type": "code",
   "source": [
    "# remove invalid cells\n",
    "adata_raw = adata_raw[adata_raw.obs['Region']!='Excluded']"
   ],
   "id": "b08808ac458e1872",
   "outputs": [],
   "execution_count": 3
  },
  {
   "metadata": {
    "ExecuteTime": {
     "end_time": "2025-06-27T11:11:19.367091Z",
     "start_time": "2025-06-27T11:11:19.364942Z"
    }
   },
   "cell_type": "code",
   "source": "gt_obs = 'Region'",
   "id": "e76b5ec0f4349f79",
   "outputs": [],
   "execution_count": 4
  },
  {
   "metadata": {
    "ExecuteTime": {
     "end_time": "2025-06-27T11:11:34.512782Z",
     "start_time": "2025-06-27T11:11:19.415137Z"
    }
   },
   "cell_type": "code",
   "source": [
    "# Code from tutorial\n",
    "# input parameters of MENDER\n",
    "scale = 6\n",
    "\n",
    "# radius is set to 150 not 15, because the unit of the spatial coordination is 0.1 um for this data, as suggested by estimate_radius\n",
    "radius = 150\n",
    "\n",
    "n_domains = len(adata_raw.obs['Region'].cat.categories)\n",
    "print(n_domains)\n",
    "# record running time\n",
    "time_st = time.time()\n",
    "\n",
    "\n",
    "adata = adata_raw.copy()\n",
    "\n",
    "\n",
    "\n",
    "######### determine cell state using standard Leiden [start]  #########\n",
    "# this step can be optionally skipped if reliable cell type annotation is available\n",
    "sc.pp.highly_variable_genes(adata, flavor=\"seurat_v3\", n_top_genes=4000)\n",
    "sc.pp.normalize_total(adata, inplace=True)\n",
    "sc.pp.log1p(adata)\n",
    "\n",
    "sc.pp.pca(adata)\n",
    "sc.pp.neighbors(adata)\n",
    "sc.tl.leiden(adata,resolution=2,key_added='ct',random_state=666)\n",
    "adata.obs['ct'] = adata.obs['ct'].astype('category')\n",
    "######### determine cell state using standard Leiden [end]  #########\n",
    "\n",
    "\n",
    "# main body of MENDER\n",
    "msm = MENDER.MENDER_single(\n",
    "    adata,\n",
    "    # determine which cell state to use\n",
    "    # we use the cell state got by Leiden\n",
    "    # ct_obs='ct',\n",
    "\n",
    "    random_seed=666\n",
    ")\n",
    "\n",
    "\n",
    "# set the MENDER parameters\n",
    "\n",
    "\n",
    "msm.set_MENDER_para(\n",
    "    # default of n_scales is 6\n",
    "    n_scales=scale,\n",
    "\n",
    "    # for single cell data, nn_mode is set to 'radius'\n",
    "    nn_mode='radius',\n",
    "\n",
    "    # default of n_scales is 15 um (see the manuscript for why).\n",
    "    # MENDER also provide a function 'estimate_radius' for estimating the radius\n",
    "    nn_para=radius,\n",
    "\n",
    ")\n",
    "# construct the context representation\n",
    "msm.run_representation(\n",
    "    # the number of processings\n",
    "    # 8\n",
    ")\n",
    "\n",
    "# set the spatial clustering parameter\n",
    "# positive values for the expected number of domains\n",
    "# negative values for the clustering resolution\n",
    "msm.run_clustering_normal(n_domains)\n",
    "\n",
    "time_ed = time.time()\n",
    "time_cost = time_ed-time_st"
   ],
   "id": "37a31441c239d667",
   "outputs": [
    {
     "name": "stdout",
     "output_type": "stream",
     "text": [
      "11\n",
      "WARNING: adata.X seems to be already log-transformed.\n",
      "scale 0, median #cells per radius (r=150): 1.0\n",
      "scale 1, median #cells per radius (r=150): 2.0\n",
      "scale 2, median #cells per radius (r=150): 3.0\n",
      "scale 3, median #cells per radius (r=150): 4.0\n",
      "scale 4, median #cells per radius (r=150): 5.0\n",
      "scale 5, median #cells per radius (r=150): 6.0\n",
      "searching resolution to k=11\n",
      "Res =  0.1 Num of clusters =  5\n",
      "Res =  0.15000000000000002 Num of clusters =  7\n",
      "Res changed to 0.15000000000000002\n",
      "Res =  0.2 Num of clusters =  7\n",
      "Res changed to 0.2\n",
      "Res =  0.25 Num of clusters =  8\n",
      "Res changed to 0.25\n",
      "Res =  0.3 Num of clusters =  8\n",
      "Res changed to 0.3\n",
      "Res =  0.35 Num of clusters =  8\n",
      "Res changed to 0.35\n",
      "Res =  0.39999999999999997 Num of clusters =  8\n",
      "Res changed to 0.39999999999999997\n",
      "Res =  0.44999999999999996 Num of clusters =  9\n",
      "Res changed to 0.44999999999999996\n",
      "Res =  0.49999999999999994 Num of clusters =  10\n",
      "Res changed to 0.49999999999999994\n",
      "Res =  0.5499999999999999 Num of clusters =  11\n",
      "recommended res =  0.5499999999999999\n"
     ]
    }
   ],
   "execution_count": 5
  },
  {
   "metadata": {
    "ExecuteTime": {
     "end_time": "2025-06-27T11:11:34.667747Z",
     "start_time": "2025-06-27T11:11:34.522143Z"
    }
   },
   "cell_type": "code",
   "source": [
    "# X = msm.adata.obsm['whole']\n",
    "# pd.DataFrame(msm.adata.obsm['whole']).to_csv(\"osmfish_whole2.csv\")"
   ],
   "id": "b6fa0a7e28649b8a",
   "outputs": [],
   "execution_count": 6
  },
  {
   "metadata": {
    "ExecuteTime": {
     "end_time": "2025-06-27T11:11:34.680545Z",
     "start_time": "2025-06-27T11:11:34.678056Z"
    }
   },
   "cell_type": "code",
   "source": "y = adata_raw.obs['ClusterName'].astype('category')\n",
   "id": "3a222cf6566ec1cb",
   "outputs": [],
   "execution_count": 7
  },
  {
   "metadata": {
    "ExecuteTime": {
     "end_time": "2025-06-27T11:11:34.730101Z",
     "start_time": "2025-06-27T11:11:34.724819Z"
    }
   },
   "cell_type": "code",
   "source": "msm.adata.obsm['whole'].shape",
   "id": "1610cb63ea855588",
   "outputs": [
    {
     "data": {
      "text/plain": [
       "(4839, 150)"
      ]
     },
     "execution_count": 8,
     "metadata": {},
     "output_type": "execute_result"
    }
   ],
   "execution_count": 8
  },
  {
   "metadata": {
    "ExecuteTime": {
     "end_time": "2025-06-27T11:11:38.189558Z",
     "start_time": "2025-06-27T11:11:34.776469Z"
    }
   },
   "cell_type": "code",
   "source": [
    "from sklearn.cross_decomposition import CCA\n",
    "\n",
    "# CCA\n",
    "matrix1 = msm.adata.obsm['whole']\n",
    "matrix2 = adata_raw.X\n",
    "\n",
    "cca = CCA(n_components=33)\n",
    "cca.fit(matrix1, matrix2)\n",
    "\n",
    "matrix1_c, matrix2_c = cca.transform(matrix1, matrix2)\n",
    "cca_concat = np.hstack([matrix1_c, matrix2_c])"
   ],
   "id": "75cc5d65a7448a5f",
   "outputs": [],
   "execution_count": 9
  },
  {
   "metadata": {
    "ExecuteTime": {
     "end_time": "2025-06-27T11:11:38.218293Z",
     "start_time": "2025-06-27T11:11:38.214095Z"
    }
   },
   "cell_type": "code",
   "source": [
    "X_cca = cca_concat\n",
    "X_gene = adata_raw.X\n",
    "X_mender = msm.adata.obsm['whole']"
   ],
   "id": "94c5506f2ba796ca",
   "outputs": [],
   "execution_count": 10
  },
  {
   "metadata": {
    "ExecuteTime": {
     "end_time": "2025-06-27T11:11:38.267655Z",
     "start_time": "2025-06-27T11:11:38.265597Z"
    }
   },
   "cell_type": "code",
   "source": [
    "from sklearn.model_selection import cross_val_score, cross_val_predict, StratifiedKFold\n",
    "cv = StratifiedKFold(n_splits=5, shuffle=True, random_state=42)"
   ],
   "id": "d83c0c92957f7538",
   "outputs": [],
   "execution_count": 11
  },
  {
   "metadata": {
    "ExecuteTime": {
     "end_time": "2025-06-27T11:11:54.718991Z",
     "start_time": "2025-06-27T11:11:38.314085Z"
    }
   },
   "cell_type": "code",
   "source": [
    "from sklearn.model_selection import cross_val_score, cross_val_predict, StratifiedKFold\n",
    "\n",
    "lsvc = svm.LinearSVC(random_state=42)\n",
    "scores_linear_svc_mender = cross_val_score(lsvc, X_mender, y, scoring='accuracy', cv=cv)\n",
    "print(scores_linear_svc_mender)\n",
    "scores_linear_svc_gene = cross_val_score(lsvc, X_gene, y, scoring='accuracy', cv=cv)\n",
    "print(scores_linear_svc_gene)\n",
    "scores_linear_svc_cca = cross_val_score(lsvc, X_cca, y, scoring='accuracy', cv=cv)\n",
    "print(scores_linear_svc_cca)"
   ],
   "id": "3ea217371d2da360",
   "outputs": [
    {
     "name": "stdout",
     "output_type": "stream",
     "text": [
      "[0.57231405 0.57954545 0.54958678 0.55475207 0.56256463]\n",
      "[0.75309917 0.76239669 0.74793388 0.77169421 0.8024819 ]\n",
      "[0.82128099 0.81714876 0.80785124 0.77789256 0.84074457]\n"
     ]
    }
   ],
   "execution_count": 12
  },
  {
   "metadata": {
    "ExecuteTime": {
     "end_time": "2025-06-27T11:12:02.623739Z",
     "start_time": "2025-06-27T11:11:54.770930Z"
    }
   },
   "cell_type": "code",
   "source": [
    "rbf_svc = svm.SVC(kernel='rbf', random_state=42)\n",
    "scores_rbf_mender = cross_val_score(rbf_svc, X_mender, y, scoring='accuracy', cv=cv)\n",
    "print(scores_rbf_mender)\n",
    "scores_rbf_gene = cross_val_score(rbf_svc, X_gene, y, scoring='accuracy', cv=cv)\n",
    "print(scores_rbf_gene)\n",
    "scores_rbf_cca = cross_val_score(rbf_svc, X_cca, y, scoring='accuracy', cv=cv)\n",
    "print(scores_rbf_cca)"
   ],
   "id": "f7bb0a8cc331f4d3",
   "outputs": [
    {
     "name": "stdout",
     "output_type": "stream",
     "text": [
      "[0.52582645 0.54235537 0.53512397 0.51652893 0.53257497]\n",
      "[0.72107438 0.73966942 0.71900826 0.69628099 0.71975181]\n",
      "[0.77066116 0.76446281 0.76652893 0.75103306 0.78386763]\n"
     ]
    }
   ],
   "execution_count": 13
  },
  {
   "metadata": {
    "ExecuteTime": {
     "end_time": "2025-06-27T11:12:18.369218Z",
     "start_time": "2025-06-27T11:12:02.634769Z"
    }
   },
   "cell_type": "code",
   "source": [
    "from sklearn.ensemble import RandomForestClassifier\n",
    "\n",
    "random_forest = RandomForestClassifier(max_depth=None, random_state=42)\n",
    "scores_r_forest_mender = cross_val_score(random_forest, X_mender, y, scoring='accuracy', cv=cv)\n",
    "print(scores_r_forest_mender)\n",
    "scores_r_forest_gene = cross_val_score(random_forest, X_gene, y, scoring='accuracy', cv=cv)\n",
    "print(scores_r_forest_gene)\n",
    "scores_r_forest_cca = cross_val_score(random_forest, X_cca, y, scoring='accuracy', cv=cv)\n",
    "print(scores_r_forest_cca)"
   ],
   "id": "582b72f44354c471",
   "outputs": [
    {
     "name": "stdout",
     "output_type": "stream",
     "text": [
      "[0.65392562 0.66942149 0.63429752 0.6322314  0.65460186]\n",
      "[0.79132231 0.81301653 0.80681818 0.79752066 0.81178904]\n",
      "[0.76549587 0.79752066 0.77995868 0.76756198 0.79007239]\n"
     ]
    }
   ],
   "execution_count": 14
  },
  {
   "metadata": {
    "ExecuteTime": {
     "end_time": "2025-06-27T11:12:24.741352Z",
     "start_time": "2025-06-27T11:12:24.738289Z"
    }
   },
   "cell_type": "code",
   "source": [
    "#RBF SVM, Linear SVM and Random Forest.\n",
    "scores = {\"Linear SVM\": [scores_linear_svc_gene, scores_linear_svc_cca, scores_linear_svc_mender],\n",
    "          \"RBF SVM\": [scores_rbf_gene, scores_rbf_cca, scores_rbf_mender],\n",
    "          \"Random Forest\": [scores_r_forest_gene, scores_r_forest_cca, scores_r_forest_mender]}"
   ],
   "id": "c2d735ef6aa8bc7b",
   "outputs": [],
   "execution_count": 15
  },
  {
   "metadata": {
    "ExecuteTime": {
     "end_time": "2025-06-27T11:12:24.808415Z",
     "start_time": "2025-06-27T11:12:24.805428Z"
    }
   },
   "cell_type": "code",
   "source": [
    "from scipy.stats import ttest_ind\n",
    "\n",
    "\n",
    "def one_sided_t_test(first, second):\n",
    "    t_stat, p_two_sided = ttest_ind(first, second, equal_var=False)\n",
    "\n",
    "    # Convert to one-sided p-value\n",
    "    if t_stat > 0:\n",
    "        p_one_sided = p_two_sided / 2\n",
    "    else:\n",
    "        p_one_sided = 1 - p_two_sided / 2\n",
    "\n",
    "    print(f\"t-statistic: {t_stat:.4f}\")\n",
    "    print(f\"one-sided p-value: {p_one_sided:.4f}\")\n",
    "    return p_one_sided"
   ],
   "id": "735485c46e17af33",
   "outputs": [],
   "execution_count": 16
  },
  {
   "metadata": {
    "ExecuteTime": {
     "end_time": "2025-06-27T11:12:25.025493Z",
     "start_time": "2025-06-27T11:12:24.858800Z"
    }
   },
   "cell_type": "code",
   "source": [
    "# from other code\n",
    "import plotly.graph_objects as go\n",
    "import scipy.stats as st\n",
    "from scipy import stats\n",
    "\n",
    "data = [scores_linear_svc_gene, scores_linear_svc_cca, scores_linear_svc_mender]\n",
    "labels = ['Gene', 'CCA', 'MENDER']\n",
    "colors = ['#1f77b4', '#d62728', '#2ca02c']  # blue, red, green\n",
    "\n",
    "for clf_name, score in scores.items():    # Prepare data\n",
    "    data = [score[0], score[1], score[2]]\n",
    "    labels = ['Gene', 'CCA', 'MENDER']\n",
    "    colors = ['#1f77b4', '#d62728', '#2ca02c']  # blue, red, green\n",
    "\n",
    "    # Calculate 95% confidence intervals for each group\n",
    "    def mean_ci(data, confidence=0.95):\n",
    "        n = len(data)\n",
    "        m = np.mean(data)\n",
    "        se = st.sem(data)\n",
    "        h = se * st.t.ppf((1 + confidence) / 2., n-1)\n",
    "        return m, h\n",
    "\n",
    "    means = []\n",
    "    cis = []\n",
    "    for arr in [score[0], score[1], score[2]]:\n",
    "        m, h = mean_ci(arr)\n",
    "        means.append(m)\n",
    "        cis.append(h)\n",
    "\n",
    "    bar_names = ['Gene', 'CCA', 'MENDER']\n",
    "\n",
    "    fig = go.Figure(\n",
    "        data=[\n",
    "            go.Bar(\n",
    "                x=bar_names,\n",
    "                y=means,\n",
    "                error_y=dict(type='data', array=cis, visible=True, color='black', thickness=2, width=8),\n",
    "                marker_color=['#636EFA', '#EF553B', '#00CC96'],\n",
    "                showlegend=False\n",
    "            )\n",
    "        ]\n",
    "    )\n",
    "\n",
    "    # Add individual data points\n",
    "    all_data_points = [score[0], score[1], score[2]]\n",
    "    for i, arr in enumerate(all_data_points):\n",
    "        fig.add_trace(\n",
    "            go.Scatter(\n",
    "                x=[bar_names[i]] * len(arr),\n",
    "                y=arr,\n",
    "                mode='markers',\n",
    "                marker=dict(color='black', size=8),\n",
    "                name='Data points',\n",
    "                showlegend=False\n",
    "            )\n",
    "        )\n",
    "\n",
    "    fig.add_annotation(\n",
    "        x='Gene',\n",
    "        y=means[1] + 0.05,\n",
    "        text=f\"p = {one_sided_t_test(score[1], score[0]):.4f}\",\n",
    "        showarrow=False,\n",
    "        font=dict(size=14),\n",
    "        xanchor='left'\n",
    "    )\n",
    "    fig.add_annotation(\n",
    "        x='MENDER',\n",
    "        y=means[2] + 0.05,\n",
    "        text=f\"p = {one_sided_t_test(score[1], score[2]):.4f}\",\n",
    "        showarrow=False,\n",
    "        font=dict(size=14),\n",
    "        xanchor='left'\n",
    "    )\n",
    "\n",
    "    fig.update_layout(\n",
    "        title={'text': f'{clf_name} Accuracy Comparison (with 95% CI)', 'x': 0.5, 'xanchor': 'center'},\n",
    "        yaxis_title='Accuracy (mean ± 95% CI)',\n",
    "        xaxis_title='Representation',\n",
    "        yaxis=dict(range=[0, 1]),\n",
    "        template='plotly_white',\n",
    "        width=500,\n",
    "        height=450\n",
    "    )\n",
    "    fig.show()"
   ],
   "id": "6430f7e68face052",
   "outputs": [
    {
     "name": "stdout",
     "output_type": "stream",
     "text": [
      "t-statistic: 3.2259\n",
      "one-sided p-value: 0.0061\n",
      "t-statistic: 21.3698\n",
      "one-sided p-value: 0.0000\n"
     ]
    },
    {
     "data": {
      "application/vnd.plotly.v1+json": {
       "data": [
        {
         "error_y": {
          "array": [
           0.026757665677508164,
           0.028548747642219645,
           0.015280592553217866
          ],
          "color": "black",
          "thickness": 2,
          "type": "data",
          "visible": true,
          "width": 8
         },
         "marker": {
          "color": [
           "#636EFA",
           "#EF553B",
           "#00CC96"
          ]
         },
         "showlegend": false,
         "x": [
          "Gene",
          "CCA",
          "MENDER"
         ],
         "y": [
          0.7675211739468578,
          0.81298362491133,
          0.5637525959985299
         ],
         "type": "bar"
        },
        {
         "marker": {
          "color": "black",
          "size": 8
         },
         "mode": "markers",
         "name": "Data points",
         "showlegend": false,
         "x": [
          "Gene",
          "Gene",
          "Gene",
          "Gene",
          "Gene"
         ],
         "y": {
          "dtype": "f8",
          "bdata": "69khcGMZ6D+rZ4fAjWXoP2MZlAoT7+c/bPXsELix6D+W+AOH7q3pPw=="
         },
         "type": "scatter"
        },
        {
         "marker": {
          "color": "black",
          "size": 8
         },
         "mode": "markers",
         "name": "Data points",
         "showlegend": false,
         "x": [
          "CCA",
          "CCA",
          "CCA",
          "CCA",
          "CCA"
         ],
         "y": {
          "dtype": "f8",
          "bdata": "GZQKE+9H6j/gxjIoFSbqPyA5zdfq2ek/Qqkw8X7k6D/6MIEoYefqPw=="
         },
         "type": "scatter"
        },
        {
         "marker": {
          "color": "black",
          "size": 8
         },
         "mode": "markers",
         "name": "Data points",
         "showlegend": false,
         "x": [
          "MENDER",
          "MENDER",
          "MENDER",
          "MENDER",
          "MENDER"
         ],
         "y": {
          "dtype": "f8",
          "bdata": "aIfAjWVQ4j+MLrroooviP62eHQI3luE/NV+rZ4fA4T95GoSLhwDiPw=="
         },
         "type": "scatter"
        }
       ],
       "layout": {
        "template": {
         "data": {
          "barpolar": [
           {
            "marker": {
             "line": {
              "color": "white",
              "width": 0.5
             },
             "pattern": {
              "fillmode": "overlay",
              "size": 10,
              "solidity": 0.2
             }
            },
            "type": "barpolar"
           }
          ],
          "bar": [
           {
            "error_x": {
             "color": "#2a3f5f"
            },
            "error_y": {
             "color": "#2a3f5f"
            },
            "marker": {
             "line": {
              "color": "white",
              "width": 0.5
             },
             "pattern": {
              "fillmode": "overlay",
              "size": 10,
              "solidity": 0.2
             }
            },
            "type": "bar"
           }
          ],
          "carpet": [
           {
            "aaxis": {
             "endlinecolor": "#2a3f5f",
             "gridcolor": "#C8D4E3",
             "linecolor": "#C8D4E3",
             "minorgridcolor": "#C8D4E3",
             "startlinecolor": "#2a3f5f"
            },
            "baxis": {
             "endlinecolor": "#2a3f5f",
             "gridcolor": "#C8D4E3",
             "linecolor": "#C8D4E3",
             "minorgridcolor": "#C8D4E3",
             "startlinecolor": "#2a3f5f"
            },
            "type": "carpet"
           }
          ],
          "choropleth": [
           {
            "colorbar": {
             "outlinewidth": 0,
             "ticks": ""
            },
            "type": "choropleth"
           }
          ],
          "contourcarpet": [
           {
            "colorbar": {
             "outlinewidth": 0,
             "ticks": ""
            },
            "type": "contourcarpet"
           }
          ],
          "contour": [
           {
            "colorbar": {
             "outlinewidth": 0,
             "ticks": ""
            },
            "colorscale": [
             [
              0.0,
              "#0d0887"
             ],
             [
              0.1111111111111111,
              "#46039f"
             ],
             [
              0.2222222222222222,
              "#7201a8"
             ],
             [
              0.3333333333333333,
              "#9c179e"
             ],
             [
              0.4444444444444444,
              "#bd3786"
             ],
             [
              0.5555555555555556,
              "#d8576b"
             ],
             [
              0.6666666666666666,
              "#ed7953"
             ],
             [
              0.7777777777777778,
              "#fb9f3a"
             ],
             [
              0.8888888888888888,
              "#fdca26"
             ],
             [
              1.0,
              "#f0f921"
             ]
            ],
            "type": "contour"
           }
          ],
          "heatmap": [
           {
            "colorbar": {
             "outlinewidth": 0,
             "ticks": ""
            },
            "colorscale": [
             [
              0.0,
              "#0d0887"
             ],
             [
              0.1111111111111111,
              "#46039f"
             ],
             [
              0.2222222222222222,
              "#7201a8"
             ],
             [
              0.3333333333333333,
              "#9c179e"
             ],
             [
              0.4444444444444444,
              "#bd3786"
             ],
             [
              0.5555555555555556,
              "#d8576b"
             ],
             [
              0.6666666666666666,
              "#ed7953"
             ],
             [
              0.7777777777777778,
              "#fb9f3a"
             ],
             [
              0.8888888888888888,
              "#fdca26"
             ],
             [
              1.0,
              "#f0f921"
             ]
            ],
            "type": "heatmap"
           }
          ],
          "histogram2dcontour": [
           {
            "colorbar": {
             "outlinewidth": 0,
             "ticks": ""
            },
            "colorscale": [
             [
              0.0,
              "#0d0887"
             ],
             [
              0.1111111111111111,
              "#46039f"
             ],
             [
              0.2222222222222222,
              "#7201a8"
             ],
             [
              0.3333333333333333,
              "#9c179e"
             ],
             [
              0.4444444444444444,
              "#bd3786"
             ],
             [
              0.5555555555555556,
              "#d8576b"
             ],
             [
              0.6666666666666666,
              "#ed7953"
             ],
             [
              0.7777777777777778,
              "#fb9f3a"
             ],
             [
              0.8888888888888888,
              "#fdca26"
             ],
             [
              1.0,
              "#f0f921"
             ]
            ],
            "type": "histogram2dcontour"
           }
          ],
          "histogram2d": [
           {
            "colorbar": {
             "outlinewidth": 0,
             "ticks": ""
            },
            "colorscale": [
             [
              0.0,
              "#0d0887"
             ],
             [
              0.1111111111111111,
              "#46039f"
             ],
             [
              0.2222222222222222,
              "#7201a8"
             ],
             [
              0.3333333333333333,
              "#9c179e"
             ],
             [
              0.4444444444444444,
              "#bd3786"
             ],
             [
              0.5555555555555556,
              "#d8576b"
             ],
             [
              0.6666666666666666,
              "#ed7953"
             ],
             [
              0.7777777777777778,
              "#fb9f3a"
             ],
             [
              0.8888888888888888,
              "#fdca26"
             ],
             [
              1.0,
              "#f0f921"
             ]
            ],
            "type": "histogram2d"
           }
          ],
          "histogram": [
           {
            "marker": {
             "pattern": {
              "fillmode": "overlay",
              "size": 10,
              "solidity": 0.2
             }
            },
            "type": "histogram"
           }
          ],
          "mesh3d": [
           {
            "colorbar": {
             "outlinewidth": 0,
             "ticks": ""
            },
            "type": "mesh3d"
           }
          ],
          "parcoords": [
           {
            "line": {
             "colorbar": {
              "outlinewidth": 0,
              "ticks": ""
             }
            },
            "type": "parcoords"
           }
          ],
          "pie": [
           {
            "automargin": true,
            "type": "pie"
           }
          ],
          "scatter3d": [
           {
            "line": {
             "colorbar": {
              "outlinewidth": 0,
              "ticks": ""
             }
            },
            "marker": {
             "colorbar": {
              "outlinewidth": 0,
              "ticks": ""
             }
            },
            "type": "scatter3d"
           }
          ],
          "scattercarpet": [
           {
            "marker": {
             "colorbar": {
              "outlinewidth": 0,
              "ticks": ""
             }
            },
            "type": "scattercarpet"
           }
          ],
          "scattergeo": [
           {
            "marker": {
             "colorbar": {
              "outlinewidth": 0,
              "ticks": ""
             }
            },
            "type": "scattergeo"
           }
          ],
          "scattergl": [
           {
            "marker": {
             "colorbar": {
              "outlinewidth": 0,
              "ticks": ""
             }
            },
            "type": "scattergl"
           }
          ],
          "scattermapbox": [
           {
            "marker": {
             "colorbar": {
              "outlinewidth": 0,
              "ticks": ""
             }
            },
            "type": "scattermapbox"
           }
          ],
          "scattermap": [
           {
            "marker": {
             "colorbar": {
              "outlinewidth": 0,
              "ticks": ""
             }
            },
            "type": "scattermap"
           }
          ],
          "scatterpolargl": [
           {
            "marker": {
             "colorbar": {
              "outlinewidth": 0,
              "ticks": ""
             }
            },
            "type": "scatterpolargl"
           }
          ],
          "scatterpolar": [
           {
            "marker": {
             "colorbar": {
              "outlinewidth": 0,
              "ticks": ""
             }
            },
            "type": "scatterpolar"
           }
          ],
          "scatter": [
           {
            "fillpattern": {
             "fillmode": "overlay",
             "size": 10,
             "solidity": 0.2
            },
            "type": "scatter"
           }
          ],
          "scatterternary": [
           {
            "marker": {
             "colorbar": {
              "outlinewidth": 0,
              "ticks": ""
             }
            },
            "type": "scatterternary"
           }
          ],
          "surface": [
           {
            "colorbar": {
             "outlinewidth": 0,
             "ticks": ""
            },
            "colorscale": [
             [
              0.0,
              "#0d0887"
             ],
             [
              0.1111111111111111,
              "#46039f"
             ],
             [
              0.2222222222222222,
              "#7201a8"
             ],
             [
              0.3333333333333333,
              "#9c179e"
             ],
             [
              0.4444444444444444,
              "#bd3786"
             ],
             [
              0.5555555555555556,
              "#d8576b"
             ],
             [
              0.6666666666666666,
              "#ed7953"
             ],
             [
              0.7777777777777778,
              "#fb9f3a"
             ],
             [
              0.8888888888888888,
              "#fdca26"
             ],
             [
              1.0,
              "#f0f921"
             ]
            ],
            "type": "surface"
           }
          ],
          "table": [
           {
            "cells": {
             "fill": {
              "color": "#EBF0F8"
             },
             "line": {
              "color": "white"
             }
            },
            "header": {
             "fill": {
              "color": "#C8D4E3"
             },
             "line": {
              "color": "white"
             }
            },
            "type": "table"
           }
          ]
         },
         "layout": {
          "annotationdefaults": {
           "arrowcolor": "#2a3f5f",
           "arrowhead": 0,
           "arrowwidth": 1
          },
          "autotypenumbers": "strict",
          "coloraxis": {
           "colorbar": {
            "outlinewidth": 0,
            "ticks": ""
           }
          },
          "colorscale": {
           "diverging": [
            [
             0,
             "#8e0152"
            ],
            [
             0.1,
             "#c51b7d"
            ],
            [
             0.2,
             "#de77ae"
            ],
            [
             0.3,
             "#f1b6da"
            ],
            [
             0.4,
             "#fde0ef"
            ],
            [
             0.5,
             "#f7f7f7"
            ],
            [
             0.6,
             "#e6f5d0"
            ],
            [
             0.7,
             "#b8e186"
            ],
            [
             0.8,
             "#7fbc41"
            ],
            [
             0.9,
             "#4d9221"
            ],
            [
             1,
             "#276419"
            ]
           ],
           "sequential": [
            [
             0.0,
             "#0d0887"
            ],
            [
             0.1111111111111111,
             "#46039f"
            ],
            [
             0.2222222222222222,
             "#7201a8"
            ],
            [
             0.3333333333333333,
             "#9c179e"
            ],
            [
             0.4444444444444444,
             "#bd3786"
            ],
            [
             0.5555555555555556,
             "#d8576b"
            ],
            [
             0.6666666666666666,
             "#ed7953"
            ],
            [
             0.7777777777777778,
             "#fb9f3a"
            ],
            [
             0.8888888888888888,
             "#fdca26"
            ],
            [
             1.0,
             "#f0f921"
            ]
           ],
           "sequentialminus": [
            [
             0.0,
             "#0d0887"
            ],
            [
             0.1111111111111111,
             "#46039f"
            ],
            [
             0.2222222222222222,
             "#7201a8"
            ],
            [
             0.3333333333333333,
             "#9c179e"
            ],
            [
             0.4444444444444444,
             "#bd3786"
            ],
            [
             0.5555555555555556,
             "#d8576b"
            ],
            [
             0.6666666666666666,
             "#ed7953"
            ],
            [
             0.7777777777777778,
             "#fb9f3a"
            ],
            [
             0.8888888888888888,
             "#fdca26"
            ],
            [
             1.0,
             "#f0f921"
            ]
           ]
          },
          "colorway": [
           "#636efa",
           "#EF553B",
           "#00cc96",
           "#ab63fa",
           "#FFA15A",
           "#19d3f3",
           "#FF6692",
           "#B6E880",
           "#FF97FF",
           "#FECB52"
          ],
          "font": {
           "color": "#2a3f5f"
          },
          "geo": {
           "bgcolor": "white",
           "lakecolor": "white",
           "landcolor": "white",
           "showlakes": true,
           "showland": true,
           "subunitcolor": "#C8D4E3"
          },
          "hoverlabel": {
           "align": "left"
          },
          "hovermode": "closest",
          "mapbox": {
           "style": "light"
          },
          "paper_bgcolor": "white",
          "plot_bgcolor": "white",
          "polar": {
           "angularaxis": {
            "gridcolor": "#EBF0F8",
            "linecolor": "#EBF0F8",
            "ticks": ""
           },
           "bgcolor": "white",
           "radialaxis": {
            "gridcolor": "#EBF0F8",
            "linecolor": "#EBF0F8",
            "ticks": ""
           }
          },
          "scene": {
           "xaxis": {
            "backgroundcolor": "white",
            "gridcolor": "#DFE8F3",
            "gridwidth": 2,
            "linecolor": "#EBF0F8",
            "showbackground": true,
            "ticks": "",
            "zerolinecolor": "#EBF0F8"
           },
           "yaxis": {
            "backgroundcolor": "white",
            "gridcolor": "#DFE8F3",
            "gridwidth": 2,
            "linecolor": "#EBF0F8",
            "showbackground": true,
            "ticks": "",
            "zerolinecolor": "#EBF0F8"
           },
           "zaxis": {
            "backgroundcolor": "white",
            "gridcolor": "#DFE8F3",
            "gridwidth": 2,
            "linecolor": "#EBF0F8",
            "showbackground": true,
            "ticks": "",
            "zerolinecolor": "#EBF0F8"
           }
          },
          "shapedefaults": {
           "line": {
            "color": "#2a3f5f"
           }
          },
          "ternary": {
           "aaxis": {
            "gridcolor": "#DFE8F3",
            "linecolor": "#A2B1C6",
            "ticks": ""
           },
           "baxis": {
            "gridcolor": "#DFE8F3",
            "linecolor": "#A2B1C6",
            "ticks": ""
           },
           "bgcolor": "white",
           "caxis": {
            "gridcolor": "#DFE8F3",
            "linecolor": "#A2B1C6",
            "ticks": ""
           }
          },
          "title": {
           "x": 0.05
          },
          "xaxis": {
           "automargin": true,
           "gridcolor": "#EBF0F8",
           "linecolor": "#EBF0F8",
           "ticks": "",
           "title": {
            "standoff": 15
           },
           "zerolinecolor": "#EBF0F8",
           "zerolinewidth": 2
          },
          "yaxis": {
           "automargin": true,
           "gridcolor": "#EBF0F8",
           "linecolor": "#EBF0F8",
           "ticks": "",
           "title": {
            "standoff": 15
           },
           "zerolinecolor": "#EBF0F8",
           "zerolinewidth": 2
          }
         }
        },
        "annotations": [
         {
          "font": {
           "size": 14
          },
          "showarrow": false,
          "text": "p = 0.0061",
          "x": "Gene",
          "xanchor": "left",
          "y": 0.8629836249113301
         },
         {
          "font": {
           "size": 14
          },
          "showarrow": false,
          "text": "p = 0.0000",
          "x": "MENDER",
          "xanchor": "left",
          "y": 0.6137525959985299
         }
        ],
        "title": {
         "text": "Linear SVM Accuracy Comparison (with 95% CI)",
         "x": 0.5,
         "xanchor": "center"
        },
        "yaxis": {
         "title": {
          "text": "Accuracy (mean ± 95% CI)"
         },
         "range": [
          0,
          1
         ]
        },
        "xaxis": {
         "title": {
          "text": "Representation"
         }
        },
        "width": 500,
        "height": 450
       },
       "config": {
        "plotlyServerURL": "https://plot.ly"
       }
      }
     },
     "metadata": {},
     "output_type": "display_data"
    },
    {
     "name": "stdout",
     "output_type": "stream",
     "text": [
      "t-statistic: 5.5471\n",
      "one-sided p-value: 0.0003\n",
      "t-statistic: 34.5027\n",
      "one-sided p-value: 0.0000\n"
     ]
    },
    {
     "data": {
      "application/vnd.plotly.v1+json": {
       "data": [
        {
         "error_y": {
          "array": [
           0.01911641891463554,
           0.01467897937840127,
           0.012154169074005645
          ],
          "color": "black",
          "thickness": 2,
          "type": "data",
          "visible": true,
          "width": 8
         },
         "marker": {
          "color": [
           "#636EFA",
           "#EF553B",
           "#00CC96"
          ]
         },
         "showlegend": false,
         "x": [
          "Gene",
          "CCA",
          "MENDER"
         ],
         "y": [
          0.7191569735144051,
          0.7673107164528619,
          0.5304819369781295
         ],
         "type": "bar"
        },
        {
         "marker": {
          "color": "black",
          "size": 8
         },
         "mode": "markers",
         "name": "Data points",
         "showlegend": false,
         "x": [
          "Gene",
          "Gene",
          "Gene",
          "Gene",
          "Gene"
         ],
         "y": {
          "dtype": "f8",
          "bdata": "cGMZlAoT5z/xfuQ0X6vnP9R8rZ4dAuc/GZQKE+9H5j9Xmn/yNAjnPw=="
         },
         "type": "scatter"
        },
        {
         "marker": {
          "color": "black",
          "size": 8
         },
         "mode": "markers",
         "name": "Data points",
         "showlegend": false,
         "x": [
          "CCA",
          "CCA",
          "CCA",
          "CCA",
          "CCA"
         ],
         "y": {
          "dtype": "f8",
          "bdata": "HgI3lkGp6D9ITvO1enboP+Q0X6tnh+g/TvO1enYI6D8vMGaScRXpPw=="
         },
         "type": "scatter"
        },
        {
         "marker": {
          "color": "black",
          "size": 8
         },
         "mode": "markers",
         "name": "Data points",
         "showlegend": false,
         "x": [
          "MENDER",
          "MENDER",
          "MENDER",
          "MENDER",
          "MENDER"
         ],
         "y": {
          "dtype": "f8",
          "bdata": "pcLE+5HT4D+K9yOn+VrhP2ZQKky8H+E/5DRfq2eH4D+2HhSs2grhPw=="
         },
         "type": "scatter"
        }
       ],
       "layout": {
        "template": {
         "data": {
          "barpolar": [
           {
            "marker": {
             "line": {
              "color": "white",
              "width": 0.5
             },
             "pattern": {
              "fillmode": "overlay",
              "size": 10,
              "solidity": 0.2
             }
            },
            "type": "barpolar"
           }
          ],
          "bar": [
           {
            "error_x": {
             "color": "#2a3f5f"
            },
            "error_y": {
             "color": "#2a3f5f"
            },
            "marker": {
             "line": {
              "color": "white",
              "width": 0.5
             },
             "pattern": {
              "fillmode": "overlay",
              "size": 10,
              "solidity": 0.2
             }
            },
            "type": "bar"
           }
          ],
          "carpet": [
           {
            "aaxis": {
             "endlinecolor": "#2a3f5f",
             "gridcolor": "#C8D4E3",
             "linecolor": "#C8D4E3",
             "minorgridcolor": "#C8D4E3",
             "startlinecolor": "#2a3f5f"
            },
            "baxis": {
             "endlinecolor": "#2a3f5f",
             "gridcolor": "#C8D4E3",
             "linecolor": "#C8D4E3",
             "minorgridcolor": "#C8D4E3",
             "startlinecolor": "#2a3f5f"
            },
            "type": "carpet"
           }
          ],
          "choropleth": [
           {
            "colorbar": {
             "outlinewidth": 0,
             "ticks": ""
            },
            "type": "choropleth"
           }
          ],
          "contourcarpet": [
           {
            "colorbar": {
             "outlinewidth": 0,
             "ticks": ""
            },
            "type": "contourcarpet"
           }
          ],
          "contour": [
           {
            "colorbar": {
             "outlinewidth": 0,
             "ticks": ""
            },
            "colorscale": [
             [
              0.0,
              "#0d0887"
             ],
             [
              0.1111111111111111,
              "#46039f"
             ],
             [
              0.2222222222222222,
              "#7201a8"
             ],
             [
              0.3333333333333333,
              "#9c179e"
             ],
             [
              0.4444444444444444,
              "#bd3786"
             ],
             [
              0.5555555555555556,
              "#d8576b"
             ],
             [
              0.6666666666666666,
              "#ed7953"
             ],
             [
              0.7777777777777778,
              "#fb9f3a"
             ],
             [
              0.8888888888888888,
              "#fdca26"
             ],
             [
              1.0,
              "#f0f921"
             ]
            ],
            "type": "contour"
           }
          ],
          "heatmap": [
           {
            "colorbar": {
             "outlinewidth": 0,
             "ticks": ""
            },
            "colorscale": [
             [
              0.0,
              "#0d0887"
             ],
             [
              0.1111111111111111,
              "#46039f"
             ],
             [
              0.2222222222222222,
              "#7201a8"
             ],
             [
              0.3333333333333333,
              "#9c179e"
             ],
             [
              0.4444444444444444,
              "#bd3786"
             ],
             [
              0.5555555555555556,
              "#d8576b"
             ],
             [
              0.6666666666666666,
              "#ed7953"
             ],
             [
              0.7777777777777778,
              "#fb9f3a"
             ],
             [
              0.8888888888888888,
              "#fdca26"
             ],
             [
              1.0,
              "#f0f921"
             ]
            ],
            "type": "heatmap"
           }
          ],
          "histogram2dcontour": [
           {
            "colorbar": {
             "outlinewidth": 0,
             "ticks": ""
            },
            "colorscale": [
             [
              0.0,
              "#0d0887"
             ],
             [
              0.1111111111111111,
              "#46039f"
             ],
             [
              0.2222222222222222,
              "#7201a8"
             ],
             [
              0.3333333333333333,
              "#9c179e"
             ],
             [
              0.4444444444444444,
              "#bd3786"
             ],
             [
              0.5555555555555556,
              "#d8576b"
             ],
             [
              0.6666666666666666,
              "#ed7953"
             ],
             [
              0.7777777777777778,
              "#fb9f3a"
             ],
             [
              0.8888888888888888,
              "#fdca26"
             ],
             [
              1.0,
              "#f0f921"
             ]
            ],
            "type": "histogram2dcontour"
           }
          ],
          "histogram2d": [
           {
            "colorbar": {
             "outlinewidth": 0,
             "ticks": ""
            },
            "colorscale": [
             [
              0.0,
              "#0d0887"
             ],
             [
              0.1111111111111111,
              "#46039f"
             ],
             [
              0.2222222222222222,
              "#7201a8"
             ],
             [
              0.3333333333333333,
              "#9c179e"
             ],
             [
              0.4444444444444444,
              "#bd3786"
             ],
             [
              0.5555555555555556,
              "#d8576b"
             ],
             [
              0.6666666666666666,
              "#ed7953"
             ],
             [
              0.7777777777777778,
              "#fb9f3a"
             ],
             [
              0.8888888888888888,
              "#fdca26"
             ],
             [
              1.0,
              "#f0f921"
             ]
            ],
            "type": "histogram2d"
           }
          ],
          "histogram": [
           {
            "marker": {
             "pattern": {
              "fillmode": "overlay",
              "size": 10,
              "solidity": 0.2
             }
            },
            "type": "histogram"
           }
          ],
          "mesh3d": [
           {
            "colorbar": {
             "outlinewidth": 0,
             "ticks": ""
            },
            "type": "mesh3d"
           }
          ],
          "parcoords": [
           {
            "line": {
             "colorbar": {
              "outlinewidth": 0,
              "ticks": ""
             }
            },
            "type": "parcoords"
           }
          ],
          "pie": [
           {
            "automargin": true,
            "type": "pie"
           }
          ],
          "scatter3d": [
           {
            "line": {
             "colorbar": {
              "outlinewidth": 0,
              "ticks": ""
             }
            },
            "marker": {
             "colorbar": {
              "outlinewidth": 0,
              "ticks": ""
             }
            },
            "type": "scatter3d"
           }
          ],
          "scattercarpet": [
           {
            "marker": {
             "colorbar": {
              "outlinewidth": 0,
              "ticks": ""
             }
            },
            "type": "scattercarpet"
           }
          ],
          "scattergeo": [
           {
            "marker": {
             "colorbar": {
              "outlinewidth": 0,
              "ticks": ""
             }
            },
            "type": "scattergeo"
           }
          ],
          "scattergl": [
           {
            "marker": {
             "colorbar": {
              "outlinewidth": 0,
              "ticks": ""
             }
            },
            "type": "scattergl"
           }
          ],
          "scattermapbox": [
           {
            "marker": {
             "colorbar": {
              "outlinewidth": 0,
              "ticks": ""
             }
            },
            "type": "scattermapbox"
           }
          ],
          "scattermap": [
           {
            "marker": {
             "colorbar": {
              "outlinewidth": 0,
              "ticks": ""
             }
            },
            "type": "scattermap"
           }
          ],
          "scatterpolargl": [
           {
            "marker": {
             "colorbar": {
              "outlinewidth": 0,
              "ticks": ""
             }
            },
            "type": "scatterpolargl"
           }
          ],
          "scatterpolar": [
           {
            "marker": {
             "colorbar": {
              "outlinewidth": 0,
              "ticks": ""
             }
            },
            "type": "scatterpolar"
           }
          ],
          "scatter": [
           {
            "fillpattern": {
             "fillmode": "overlay",
             "size": 10,
             "solidity": 0.2
            },
            "type": "scatter"
           }
          ],
          "scatterternary": [
           {
            "marker": {
             "colorbar": {
              "outlinewidth": 0,
              "ticks": ""
             }
            },
            "type": "scatterternary"
           }
          ],
          "surface": [
           {
            "colorbar": {
             "outlinewidth": 0,
             "ticks": ""
            },
            "colorscale": [
             [
              0.0,
              "#0d0887"
             ],
             [
              0.1111111111111111,
              "#46039f"
             ],
             [
              0.2222222222222222,
              "#7201a8"
             ],
             [
              0.3333333333333333,
              "#9c179e"
             ],
             [
              0.4444444444444444,
              "#bd3786"
             ],
             [
              0.5555555555555556,
              "#d8576b"
             ],
             [
              0.6666666666666666,
              "#ed7953"
             ],
             [
              0.7777777777777778,
              "#fb9f3a"
             ],
             [
              0.8888888888888888,
              "#fdca26"
             ],
             [
              1.0,
              "#f0f921"
             ]
            ],
            "type": "surface"
           }
          ],
          "table": [
           {
            "cells": {
             "fill": {
              "color": "#EBF0F8"
             },
             "line": {
              "color": "white"
             }
            },
            "header": {
             "fill": {
              "color": "#C8D4E3"
             },
             "line": {
              "color": "white"
             }
            },
            "type": "table"
           }
          ]
         },
         "layout": {
          "annotationdefaults": {
           "arrowcolor": "#2a3f5f",
           "arrowhead": 0,
           "arrowwidth": 1
          },
          "autotypenumbers": "strict",
          "coloraxis": {
           "colorbar": {
            "outlinewidth": 0,
            "ticks": ""
           }
          },
          "colorscale": {
           "diverging": [
            [
             0,
             "#8e0152"
            ],
            [
             0.1,
             "#c51b7d"
            ],
            [
             0.2,
             "#de77ae"
            ],
            [
             0.3,
             "#f1b6da"
            ],
            [
             0.4,
             "#fde0ef"
            ],
            [
             0.5,
             "#f7f7f7"
            ],
            [
             0.6,
             "#e6f5d0"
            ],
            [
             0.7,
             "#b8e186"
            ],
            [
             0.8,
             "#7fbc41"
            ],
            [
             0.9,
             "#4d9221"
            ],
            [
             1,
             "#276419"
            ]
           ],
           "sequential": [
            [
             0.0,
             "#0d0887"
            ],
            [
             0.1111111111111111,
             "#46039f"
            ],
            [
             0.2222222222222222,
             "#7201a8"
            ],
            [
             0.3333333333333333,
             "#9c179e"
            ],
            [
             0.4444444444444444,
             "#bd3786"
            ],
            [
             0.5555555555555556,
             "#d8576b"
            ],
            [
             0.6666666666666666,
             "#ed7953"
            ],
            [
             0.7777777777777778,
             "#fb9f3a"
            ],
            [
             0.8888888888888888,
             "#fdca26"
            ],
            [
             1.0,
             "#f0f921"
            ]
           ],
           "sequentialminus": [
            [
             0.0,
             "#0d0887"
            ],
            [
             0.1111111111111111,
             "#46039f"
            ],
            [
             0.2222222222222222,
             "#7201a8"
            ],
            [
             0.3333333333333333,
             "#9c179e"
            ],
            [
             0.4444444444444444,
             "#bd3786"
            ],
            [
             0.5555555555555556,
             "#d8576b"
            ],
            [
             0.6666666666666666,
             "#ed7953"
            ],
            [
             0.7777777777777778,
             "#fb9f3a"
            ],
            [
             0.8888888888888888,
             "#fdca26"
            ],
            [
             1.0,
             "#f0f921"
            ]
           ]
          },
          "colorway": [
           "#636efa",
           "#EF553B",
           "#00cc96",
           "#ab63fa",
           "#FFA15A",
           "#19d3f3",
           "#FF6692",
           "#B6E880",
           "#FF97FF",
           "#FECB52"
          ],
          "font": {
           "color": "#2a3f5f"
          },
          "geo": {
           "bgcolor": "white",
           "lakecolor": "white",
           "landcolor": "white",
           "showlakes": true,
           "showland": true,
           "subunitcolor": "#C8D4E3"
          },
          "hoverlabel": {
           "align": "left"
          },
          "hovermode": "closest",
          "mapbox": {
           "style": "light"
          },
          "paper_bgcolor": "white",
          "plot_bgcolor": "white",
          "polar": {
           "angularaxis": {
            "gridcolor": "#EBF0F8",
            "linecolor": "#EBF0F8",
            "ticks": ""
           },
           "bgcolor": "white",
           "radialaxis": {
            "gridcolor": "#EBF0F8",
            "linecolor": "#EBF0F8",
            "ticks": ""
           }
          },
          "scene": {
           "xaxis": {
            "backgroundcolor": "white",
            "gridcolor": "#DFE8F3",
            "gridwidth": 2,
            "linecolor": "#EBF0F8",
            "showbackground": true,
            "ticks": "",
            "zerolinecolor": "#EBF0F8"
           },
           "yaxis": {
            "backgroundcolor": "white",
            "gridcolor": "#DFE8F3",
            "gridwidth": 2,
            "linecolor": "#EBF0F8",
            "showbackground": true,
            "ticks": "",
            "zerolinecolor": "#EBF0F8"
           },
           "zaxis": {
            "backgroundcolor": "white",
            "gridcolor": "#DFE8F3",
            "gridwidth": 2,
            "linecolor": "#EBF0F8",
            "showbackground": true,
            "ticks": "",
            "zerolinecolor": "#EBF0F8"
           }
          },
          "shapedefaults": {
           "line": {
            "color": "#2a3f5f"
           }
          },
          "ternary": {
           "aaxis": {
            "gridcolor": "#DFE8F3",
            "linecolor": "#A2B1C6",
            "ticks": ""
           },
           "baxis": {
            "gridcolor": "#DFE8F3",
            "linecolor": "#A2B1C6",
            "ticks": ""
           },
           "bgcolor": "white",
           "caxis": {
            "gridcolor": "#DFE8F3",
            "linecolor": "#A2B1C6",
            "ticks": ""
           }
          },
          "title": {
           "x": 0.05
          },
          "xaxis": {
           "automargin": true,
           "gridcolor": "#EBF0F8",
           "linecolor": "#EBF0F8",
           "ticks": "",
           "title": {
            "standoff": 15
           },
           "zerolinecolor": "#EBF0F8",
           "zerolinewidth": 2
          },
          "yaxis": {
           "automargin": true,
           "gridcolor": "#EBF0F8",
           "linecolor": "#EBF0F8",
           "ticks": "",
           "title": {
            "standoff": 15
           },
           "zerolinecolor": "#EBF0F8",
           "zerolinewidth": 2
          }
         }
        },
        "annotations": [
         {
          "font": {
           "size": 14
          },
          "showarrow": false,
          "text": "p = 0.0003",
          "x": "Gene",
          "xanchor": "left",
          "y": 0.8173107164528619
         },
         {
          "font": {
           "size": 14
          },
          "showarrow": false,
          "text": "p = 0.0000",
          "x": "MENDER",
          "xanchor": "left",
          "y": 0.5804819369781296
         }
        ],
        "title": {
         "text": "RBF SVM Accuracy Comparison (with 95% CI)",
         "x": 0.5,
         "xanchor": "center"
        },
        "yaxis": {
         "title": {
          "text": "Accuracy (mean ± 95% CI)"
         },
         "range": [
          0,
          1
         ]
        },
        "xaxis": {
         "title": {
          "text": "Representation"
         }
        },
        "width": 500,
        "height": 450
       },
       "config": {
        "plotlyServerURL": "https://plot.ly"
       }
      }
     },
     "metadata": {},
     "output_type": "display_data"
    },
    {
     "name": "stdout",
     "output_type": "stream",
     "text": [
      "t-statistic: -3.1948\n",
      "one-sided p-value: 0.9924\n",
      "t-statistic: 14.0552\n",
      "one-sided p-value: 0.0000\n"
     ]
    },
    {
     "data": {
      "application/vnd.plotly.v1+json": {
       "data": [
        {
         "error_y": {
          "array": [
           0.011657285033578293,
           0.017265694868102765,
           0.019335442567814637
          ],
          "color": "black",
          "thickness": 2,
          "type": "data",
          "visible": true,
          "width": 8
         },
         "marker": {
          "color": [
           "#636EFA",
           "#EF553B",
           "#00CC96"
          ]
         },
         "showlegend": false,
         "x": [
          "Gene",
          "CCA",
          "MENDER"
         ],
         "y": [
          0.8040933448426163,
          0.7801219157828165,
          0.6488955788969891
         ],
         "type": "bar"
        },
        {
         "marker": {
          "color": "black",
          "size": 8
         },
         "mode": "markers",
         "name": "Data points",
         "showlegend": false,
         "x": [
          "Gene",
          "Gene",
          "Gene",
          "Gene",
          "Gene"
         ],
         "y": {
          "dtype": "f8",
          "bdata": "OwRuLINS6T+n+Vo9OwTqP9FFF1100ek/EbixDEqF6T/K3FIBLfrpPw=="
         },
         "type": "scatter"
        },
        {
         "marker": {
          "color": "black",
          "size": 8
         },
         "mode": "markers",
         "name": "Data points",
         "showlegend": false,
         "x": [
          "CCA",
          "CCA",
          "CCA",
          "CCA",
          "CCA"
         ],
         "y": {
          "dtype": "f8",
          "bdata": "lkGpMPF+6D8RuLEMSoXpP96PnOZr9eg/MygVJt6P6D+nHfDjRUjpPw=="
         },
         "type": "scatter"
        },
        {
         "marker": {
          "color": "black",
          "size": 8
         },
         "mode": "markers",
         "name": "Data points",
         "showlegend": false,
         "x": [
          "MENDER",
          "MENDER",
          "MENDER",
          "MENDER",
          "MENDER"
         ],
         "y": {
          "dtype": "f8",
          "bdata": "kJzma/Xs5D8m3o+c5mvlP8GNZVAqTOQ/JKf5Wj075D/sXFeaf/LkPw=="
         },
         "type": "scatter"
        }
       ],
       "layout": {
        "template": {
         "data": {
          "barpolar": [
           {
            "marker": {
             "line": {
              "color": "white",
              "width": 0.5
             },
             "pattern": {
              "fillmode": "overlay",
              "size": 10,
              "solidity": 0.2
             }
            },
            "type": "barpolar"
           }
          ],
          "bar": [
           {
            "error_x": {
             "color": "#2a3f5f"
            },
            "error_y": {
             "color": "#2a3f5f"
            },
            "marker": {
             "line": {
              "color": "white",
              "width": 0.5
             },
             "pattern": {
              "fillmode": "overlay",
              "size": 10,
              "solidity": 0.2
             }
            },
            "type": "bar"
           }
          ],
          "carpet": [
           {
            "aaxis": {
             "endlinecolor": "#2a3f5f",
             "gridcolor": "#C8D4E3",
             "linecolor": "#C8D4E3",
             "minorgridcolor": "#C8D4E3",
             "startlinecolor": "#2a3f5f"
            },
            "baxis": {
             "endlinecolor": "#2a3f5f",
             "gridcolor": "#C8D4E3",
             "linecolor": "#C8D4E3",
             "minorgridcolor": "#C8D4E3",
             "startlinecolor": "#2a3f5f"
            },
            "type": "carpet"
           }
          ],
          "choropleth": [
           {
            "colorbar": {
             "outlinewidth": 0,
             "ticks": ""
            },
            "type": "choropleth"
           }
          ],
          "contourcarpet": [
           {
            "colorbar": {
             "outlinewidth": 0,
             "ticks": ""
            },
            "type": "contourcarpet"
           }
          ],
          "contour": [
           {
            "colorbar": {
             "outlinewidth": 0,
             "ticks": ""
            },
            "colorscale": [
             [
              0.0,
              "#0d0887"
             ],
             [
              0.1111111111111111,
              "#46039f"
             ],
             [
              0.2222222222222222,
              "#7201a8"
             ],
             [
              0.3333333333333333,
              "#9c179e"
             ],
             [
              0.4444444444444444,
              "#bd3786"
             ],
             [
              0.5555555555555556,
              "#d8576b"
             ],
             [
              0.6666666666666666,
              "#ed7953"
             ],
             [
              0.7777777777777778,
              "#fb9f3a"
             ],
             [
              0.8888888888888888,
              "#fdca26"
             ],
             [
              1.0,
              "#f0f921"
             ]
            ],
            "type": "contour"
           }
          ],
          "heatmap": [
           {
            "colorbar": {
             "outlinewidth": 0,
             "ticks": ""
            },
            "colorscale": [
             [
              0.0,
              "#0d0887"
             ],
             [
              0.1111111111111111,
              "#46039f"
             ],
             [
              0.2222222222222222,
              "#7201a8"
             ],
             [
              0.3333333333333333,
              "#9c179e"
             ],
             [
              0.4444444444444444,
              "#bd3786"
             ],
             [
              0.5555555555555556,
              "#d8576b"
             ],
             [
              0.6666666666666666,
              "#ed7953"
             ],
             [
              0.7777777777777778,
              "#fb9f3a"
             ],
             [
              0.8888888888888888,
              "#fdca26"
             ],
             [
              1.0,
              "#f0f921"
             ]
            ],
            "type": "heatmap"
           }
          ],
          "histogram2dcontour": [
           {
            "colorbar": {
             "outlinewidth": 0,
             "ticks": ""
            },
            "colorscale": [
             [
              0.0,
              "#0d0887"
             ],
             [
              0.1111111111111111,
              "#46039f"
             ],
             [
              0.2222222222222222,
              "#7201a8"
             ],
             [
              0.3333333333333333,
              "#9c179e"
             ],
             [
              0.4444444444444444,
              "#bd3786"
             ],
             [
              0.5555555555555556,
              "#d8576b"
             ],
             [
              0.6666666666666666,
              "#ed7953"
             ],
             [
              0.7777777777777778,
              "#fb9f3a"
             ],
             [
              0.8888888888888888,
              "#fdca26"
             ],
             [
              1.0,
              "#f0f921"
             ]
            ],
            "type": "histogram2dcontour"
           }
          ],
          "histogram2d": [
           {
            "colorbar": {
             "outlinewidth": 0,
             "ticks": ""
            },
            "colorscale": [
             [
              0.0,
              "#0d0887"
             ],
             [
              0.1111111111111111,
              "#46039f"
             ],
             [
              0.2222222222222222,
              "#7201a8"
             ],
             [
              0.3333333333333333,
              "#9c179e"
             ],
             [
              0.4444444444444444,
              "#bd3786"
             ],
             [
              0.5555555555555556,
              "#d8576b"
             ],
             [
              0.6666666666666666,
              "#ed7953"
             ],
             [
              0.7777777777777778,
              "#fb9f3a"
             ],
             [
              0.8888888888888888,
              "#fdca26"
             ],
             [
              1.0,
              "#f0f921"
             ]
            ],
            "type": "histogram2d"
           }
          ],
          "histogram": [
           {
            "marker": {
             "pattern": {
              "fillmode": "overlay",
              "size": 10,
              "solidity": 0.2
             }
            },
            "type": "histogram"
           }
          ],
          "mesh3d": [
           {
            "colorbar": {
             "outlinewidth": 0,
             "ticks": ""
            },
            "type": "mesh3d"
           }
          ],
          "parcoords": [
           {
            "line": {
             "colorbar": {
              "outlinewidth": 0,
              "ticks": ""
             }
            },
            "type": "parcoords"
           }
          ],
          "pie": [
           {
            "automargin": true,
            "type": "pie"
           }
          ],
          "scatter3d": [
           {
            "line": {
             "colorbar": {
              "outlinewidth": 0,
              "ticks": ""
             }
            },
            "marker": {
             "colorbar": {
              "outlinewidth": 0,
              "ticks": ""
             }
            },
            "type": "scatter3d"
           }
          ],
          "scattercarpet": [
           {
            "marker": {
             "colorbar": {
              "outlinewidth": 0,
              "ticks": ""
             }
            },
            "type": "scattercarpet"
           }
          ],
          "scattergeo": [
           {
            "marker": {
             "colorbar": {
              "outlinewidth": 0,
              "ticks": ""
             }
            },
            "type": "scattergeo"
           }
          ],
          "scattergl": [
           {
            "marker": {
             "colorbar": {
              "outlinewidth": 0,
              "ticks": ""
             }
            },
            "type": "scattergl"
           }
          ],
          "scattermapbox": [
           {
            "marker": {
             "colorbar": {
              "outlinewidth": 0,
              "ticks": ""
             }
            },
            "type": "scattermapbox"
           }
          ],
          "scattermap": [
           {
            "marker": {
             "colorbar": {
              "outlinewidth": 0,
              "ticks": ""
             }
            },
            "type": "scattermap"
           }
          ],
          "scatterpolargl": [
           {
            "marker": {
             "colorbar": {
              "outlinewidth": 0,
              "ticks": ""
             }
            },
            "type": "scatterpolargl"
           }
          ],
          "scatterpolar": [
           {
            "marker": {
             "colorbar": {
              "outlinewidth": 0,
              "ticks": ""
             }
            },
            "type": "scatterpolar"
           }
          ],
          "scatter": [
           {
            "fillpattern": {
             "fillmode": "overlay",
             "size": 10,
             "solidity": 0.2
            },
            "type": "scatter"
           }
          ],
          "scatterternary": [
           {
            "marker": {
             "colorbar": {
              "outlinewidth": 0,
              "ticks": ""
             }
            },
            "type": "scatterternary"
           }
          ],
          "surface": [
           {
            "colorbar": {
             "outlinewidth": 0,
             "ticks": ""
            },
            "colorscale": [
             [
              0.0,
              "#0d0887"
             ],
             [
              0.1111111111111111,
              "#46039f"
             ],
             [
              0.2222222222222222,
              "#7201a8"
             ],
             [
              0.3333333333333333,
              "#9c179e"
             ],
             [
              0.4444444444444444,
              "#bd3786"
             ],
             [
              0.5555555555555556,
              "#d8576b"
             ],
             [
              0.6666666666666666,
              "#ed7953"
             ],
             [
              0.7777777777777778,
              "#fb9f3a"
             ],
             [
              0.8888888888888888,
              "#fdca26"
             ],
             [
              1.0,
              "#f0f921"
             ]
            ],
            "type": "surface"
           }
          ],
          "table": [
           {
            "cells": {
             "fill": {
              "color": "#EBF0F8"
             },
             "line": {
              "color": "white"
             }
            },
            "header": {
             "fill": {
              "color": "#C8D4E3"
             },
             "line": {
              "color": "white"
             }
            },
            "type": "table"
           }
          ]
         },
         "layout": {
          "annotationdefaults": {
           "arrowcolor": "#2a3f5f",
           "arrowhead": 0,
           "arrowwidth": 1
          },
          "autotypenumbers": "strict",
          "coloraxis": {
           "colorbar": {
            "outlinewidth": 0,
            "ticks": ""
           }
          },
          "colorscale": {
           "diverging": [
            [
             0,
             "#8e0152"
            ],
            [
             0.1,
             "#c51b7d"
            ],
            [
             0.2,
             "#de77ae"
            ],
            [
             0.3,
             "#f1b6da"
            ],
            [
             0.4,
             "#fde0ef"
            ],
            [
             0.5,
             "#f7f7f7"
            ],
            [
             0.6,
             "#e6f5d0"
            ],
            [
             0.7,
             "#b8e186"
            ],
            [
             0.8,
             "#7fbc41"
            ],
            [
             0.9,
             "#4d9221"
            ],
            [
             1,
             "#276419"
            ]
           ],
           "sequential": [
            [
             0.0,
             "#0d0887"
            ],
            [
             0.1111111111111111,
             "#46039f"
            ],
            [
             0.2222222222222222,
             "#7201a8"
            ],
            [
             0.3333333333333333,
             "#9c179e"
            ],
            [
             0.4444444444444444,
             "#bd3786"
            ],
            [
             0.5555555555555556,
             "#d8576b"
            ],
            [
             0.6666666666666666,
             "#ed7953"
            ],
            [
             0.7777777777777778,
             "#fb9f3a"
            ],
            [
             0.8888888888888888,
             "#fdca26"
            ],
            [
             1.0,
             "#f0f921"
            ]
           ],
           "sequentialminus": [
            [
             0.0,
             "#0d0887"
            ],
            [
             0.1111111111111111,
             "#46039f"
            ],
            [
             0.2222222222222222,
             "#7201a8"
            ],
            [
             0.3333333333333333,
             "#9c179e"
            ],
            [
             0.4444444444444444,
             "#bd3786"
            ],
            [
             0.5555555555555556,
             "#d8576b"
            ],
            [
             0.6666666666666666,
             "#ed7953"
            ],
            [
             0.7777777777777778,
             "#fb9f3a"
            ],
            [
             0.8888888888888888,
             "#fdca26"
            ],
            [
             1.0,
             "#f0f921"
            ]
           ]
          },
          "colorway": [
           "#636efa",
           "#EF553B",
           "#00cc96",
           "#ab63fa",
           "#FFA15A",
           "#19d3f3",
           "#FF6692",
           "#B6E880",
           "#FF97FF",
           "#FECB52"
          ],
          "font": {
           "color": "#2a3f5f"
          },
          "geo": {
           "bgcolor": "white",
           "lakecolor": "white",
           "landcolor": "white",
           "showlakes": true,
           "showland": true,
           "subunitcolor": "#C8D4E3"
          },
          "hoverlabel": {
           "align": "left"
          },
          "hovermode": "closest",
          "mapbox": {
           "style": "light"
          },
          "paper_bgcolor": "white",
          "plot_bgcolor": "white",
          "polar": {
           "angularaxis": {
            "gridcolor": "#EBF0F8",
            "linecolor": "#EBF0F8",
            "ticks": ""
           },
           "bgcolor": "white",
           "radialaxis": {
            "gridcolor": "#EBF0F8",
            "linecolor": "#EBF0F8",
            "ticks": ""
           }
          },
          "scene": {
           "xaxis": {
            "backgroundcolor": "white",
            "gridcolor": "#DFE8F3",
            "gridwidth": 2,
            "linecolor": "#EBF0F8",
            "showbackground": true,
            "ticks": "",
            "zerolinecolor": "#EBF0F8"
           },
           "yaxis": {
            "backgroundcolor": "white",
            "gridcolor": "#DFE8F3",
            "gridwidth": 2,
            "linecolor": "#EBF0F8",
            "showbackground": true,
            "ticks": "",
            "zerolinecolor": "#EBF0F8"
           },
           "zaxis": {
            "backgroundcolor": "white",
            "gridcolor": "#DFE8F3",
            "gridwidth": 2,
            "linecolor": "#EBF0F8",
            "showbackground": true,
            "ticks": "",
            "zerolinecolor": "#EBF0F8"
           }
          },
          "shapedefaults": {
           "line": {
            "color": "#2a3f5f"
           }
          },
          "ternary": {
           "aaxis": {
            "gridcolor": "#DFE8F3",
            "linecolor": "#A2B1C6",
            "ticks": ""
           },
           "baxis": {
            "gridcolor": "#DFE8F3",
            "linecolor": "#A2B1C6",
            "ticks": ""
           },
           "bgcolor": "white",
           "caxis": {
            "gridcolor": "#DFE8F3",
            "linecolor": "#A2B1C6",
            "ticks": ""
           }
          },
          "title": {
           "x": 0.05
          },
          "xaxis": {
           "automargin": true,
           "gridcolor": "#EBF0F8",
           "linecolor": "#EBF0F8",
           "ticks": "",
           "title": {
            "standoff": 15
           },
           "zerolinecolor": "#EBF0F8",
           "zerolinewidth": 2
          },
          "yaxis": {
           "automargin": true,
           "gridcolor": "#EBF0F8",
           "linecolor": "#EBF0F8",
           "ticks": "",
           "title": {
            "standoff": 15
           },
           "zerolinecolor": "#EBF0F8",
           "zerolinewidth": 2
          }
         }
        },
        "annotations": [
         {
          "font": {
           "size": 14
          },
          "showarrow": false,
          "text": "p = 0.9924",
          "x": "Gene",
          "xanchor": "left",
          "y": 0.8301219157828166
         },
         {
          "font": {
           "size": 14
          },
          "showarrow": false,
          "text": "p = 0.0000",
          "x": "MENDER",
          "xanchor": "left",
          "y": 0.6988955788969892
         }
        ],
        "title": {
         "text": "Random Forest Accuracy Comparison (with 95% CI)",
         "x": 0.5,
         "xanchor": "center"
        },
        "yaxis": {
         "title": {
          "text": "Accuracy (mean ± 95% CI)"
         },
         "range": [
          0,
          1
         ]
        },
        "xaxis": {
         "title": {
          "text": "Representation"
         }
        },
        "width": 500,
        "height": 450
       },
       "config": {
        "plotlyServerURL": "https://plot.ly"
       }
      }
     },
     "metadata": {},
     "output_type": "display_data"
    }
   ],
   "execution_count": 17
  }
 ],
 "metadata": {
  "kernelspec": {
   "display_name": "Python 3",
   "language": "python",
   "name": "python3"
  },
  "language_info": {
   "codemirror_mode": {
    "name": "ipython",
    "version": 2
   },
   "file_extension": ".py",
   "mimetype": "text/x-python",
   "name": "python",
   "nbconvert_exporter": "python",
   "pygments_lexer": "ipython2",
   "version": "2.7.6"
  }
 },
 "nbformat": 4,
 "nbformat_minor": 5
}
